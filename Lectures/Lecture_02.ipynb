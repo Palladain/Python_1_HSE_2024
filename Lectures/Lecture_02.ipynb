{
  "nbformat": 4,
  "nbformat_minor": 0,
  "metadata": {
    "colab": {
      "provenance": []
    },
    "kernelspec": {
      "name": "python3",
      "display_name": "Python 3"
    },
    "language_info": {
      "name": "python"
    }
  },
  "cells": [
    {
      "cell_type": "markdown",
      "source": [
        "## Python-1, Лекция 2\n",
        "\n",
        "Лектор: Петров Тимур"
      ],
      "metadata": {
        "id": "MvjKDalaISGI"
      }
    },
    {
      "cell_type": "markdown",
      "source": [
        "Итак, сегодня мы поговорим про циклы, условия, контекстный менеджер, а также про ввод-вывод из файла"
      ],
      "metadata": {
        "id": "TLiKHi_0IYCm"
      }
    },
    {
      "cell_type": "markdown",
      "source": [
        "### Циклы и условия"
      ],
      "metadata": {
        "id": "x_wsFhcdI1GU"
      }
    },
    {
      "cell_type": "markdown",
      "source": [
        "Скорее всего в других ЯП вы сталкивались с классическими циклами и условиями:\n",
        "\n",
        "* if-else: если верно условие, то сделай одно, иначе сделай другое\n",
        "\n",
        "* while: пока верно условие, делай вот это\n",
        "\n",
        "* for: для каждого значения совершай действия\n",
        "\n",
        "В целом синтаксис Python не особо отличается от других ЯП в этом плане, но давайте глянем"
      ],
      "metadata": {
        "id": "13pzrwMKI3pk"
      }
    },
    {
      "cell_type": "markdown",
      "source": [
        "#### If-else"
      ],
      "metadata": {
        "id": "5TL3Z4SwJfFt"
      }
    },
    {
      "cell_type": "markdown",
      "source": [
        "Синтаксис следующий:\n",
        "\n",
        "```\n",
        "if <condition>:\n",
        "    <actions>\n",
        "else:\n",
        "    <actions>\n",
        "```"
      ],
      "metadata": {
        "id": "8ttX7CPpF8Wr"
      }
    },
    {
      "cell_type": "markdown",
      "source": [
        "Давайте на примере какой-нибудь простой задачи.\n",
        "\n",
        "Умный Петя придумал занимательную игру: если число делится на 3, то его надо умножить на 2 и прибавить 1. Если число делится на 5, то нужно вычесть 2 из числа. Если число делится на 7, то тогда надо взять от него остаток при делении на 15. В случае, если число делится на несколько делителей (например, на 3 и на 5), то тогда выполняется операция по самому наименьшему делителю. В случае, если число ни на что не делится, то тогда с ним ничего не происходит.\n",
        "\n",
        "Петя захотел сделать программу, которая выполняет эти нехитрые операции. Помогите ему это сделать"
      ],
      "metadata": {
        "id": "O7KOKreCJg6o"
      }
    },
    {
      "cell_type": "markdown",
      "source": [
        "Тут видно, что нужно применять условия (деление на 3, на 5 и на 7). Давайте пробовать с помощью if-else:"
      ],
      "metadata": {
        "id": "XZRYRSlnKa1F"
      }
    },
    {
      "cell_type": "code",
      "execution_count": null,
      "metadata": {
        "colab": {
          "base_uri": "https://localhost:8080/"
        },
        "id": "EpCNTZqBHXlT",
        "outputId": "2ea25797-1d3a-4afb-a1c3-2b94653618b2"
      },
      "outputs": [
        {
          "output_type": "stream",
          "name": "stdout",
          "text": [
            "Введите число:28\n",
            "13\n"
          ]
        }
      ],
      "source": [
        "a = int(input(\"Введите число:\"))\n",
        "\n",
        "if (a % 3) == 0:\n",
        "    a *= 2\n",
        "    a += 1\n",
        "else:\n",
        "    if (a % 5) == 0:\n",
        "        a -= 2\n",
        "    else:\n",
        "        if (a % 7) == 0:\n",
        "            a %= 15\n",
        "print(a)"
      ]
    },
    {
      "cell_type": "markdown",
      "source": [
        "Вуаля, что-то получилось! Но выглядит немного громоздко: if-else заставляет постоянно делать переносы, такую программу читать сложнее.\n",
        "\n",
        "Но на это есть решение! Называется elif (else + if), он позволяет сделать несколько условий. Как это работает:\n",
        "\n",
        "```\n",
        "if condition_1: #если выполняется первое условие\n",
        "    <actions_1> #сделай вот это, если будет condition_1\n",
        "elif condition_2: #если первое не выполняется, то проверяем на второе\n",
        "    <actions_2> #сделай вот это, если будет condition_2\n",
        "else: # если оба условия неверны\n",
        "    <actions_3> # делай вот это\n",
        "```"
      ],
      "metadata": {
        "id": "nmRP6sgoK3wl"
      }
    },
    {
      "cell_type": "markdown",
      "source": [
        "Попробуем переписать наш код:"
      ],
      "metadata": {
        "id": "F72swojaLpQV"
      }
    },
    {
      "cell_type": "code",
      "source": [
        "a = int(input(\"Введите число:\"))\n",
        "\n",
        "if (a % 3) == 0:\n",
        "    a *= 2\n",
        "    a += 1\n",
        "elif (a % 5) == 0:\n",
        "    a -= 2\n",
        "elif (a % 7) == 0:\n",
        "    a %= 15\n",
        "\n",
        "print(a)"
      ],
      "metadata": {
        "colab": {
          "base_uri": "https://localhost:8080/"
        },
        "id": "UKxtDAnjLoVU",
        "outputId": "720e3693-371d-4b80-f5b0-0c5019e16810"
      },
      "execution_count": null,
      "outputs": [
        {
          "output_type": "stream",
          "name": "stdout",
          "text": [
            "Введите число:28\n",
            "13\n"
          ]
        }
      ]
    },
    {
      "cell_type": "markdown",
      "source": [
        "Ура, выглядит гораздо проще и лучше!\n",
        "\n",
        "А теперь давайте попробуем вот такой пример:\n",
        "\n",
        "По введенной стране вывести ее столицу (допустим, что словарей мы не знаем, поэтмоу будем придумывать новые способы)\n",
        "\n",
        "Решим задачу с помощью if-else:"
      ],
      "metadata": {
        "id": "PlmWtVUcL1JR"
      }
    },
    {
      "cell_type": "code",
      "source": [
        "c = input(\"Enter any country:\")\n",
        "if c == \"Russia\":\n",
        "    print(\"Moscow\")\n",
        "elif c == \"UK\":\n",
        "    print(\"London is the capital of Great Britain\")\n",
        "elif c == \"USA\":\n",
        "    print(\"My pronouns are U-S-A! 🦅\")\n",
        "    print(\"Washington\")\n",
        "else:\n",
        "    print(\"No lo se...\")"
      ],
      "metadata": {
        "colab": {
          "base_uri": "https://localhost:8080/"
        },
        "id": "Ekn_tNtyRm0l",
        "outputId": "44812d11-448b-4add-9ffd-b856537ddd12"
      },
      "execution_count": null,
      "outputs": [
        {
          "output_type": "stream",
          "name": "stdout",
          "text": [
            "Enter any country:USA\n",
            "My pronouns are U-S-A! 🦅\n",
            "Washington\n"
          ]
        }
      ]
    },
    {
      "cell_type": "markdown",
      "source": [
        "Выглядит неплохо, однако каждый раз писать условие равенства... А давайте проще сделаем! Для этого есть такая вещь как match-case (появилась только в версии Python 3.10):"
      ],
      "metadata": {
        "id": "i3Tc8NoMSHI5"
      }
    },
    {
      "cell_type": "code",
      "source": [
        "c = input(\"Enter any country:\")\n",
        "match c:\n",
        "    case \"Russia\":\n",
        "        print(\"Moscow\")\n",
        "    case \"UK\":\n",
        "        print(\"London is the capital of Great Britain\")\n",
        "    case \"USA\":\n",
        "        print(\"My pronouns are U-S-A! 🦅\")\n",
        "        print(\"Washington\")\n",
        "    case _: ## обозначает else как все остальное\n",
        "        print(\"No lo se...\")"
      ],
      "metadata": {
        "colab": {
          "base_uri": "https://localhost:8080/"
        },
        "id": "lVOQUEl5SGqf",
        "outputId": "9936521c-0e46-485c-f3e0-61ac75f6770d"
      },
      "execution_count": null,
      "outputs": [
        {
          "output_type": "stream",
          "name": "stdout",
          "text": [
            "Enter any country:UK\n",
            "London is the capital of Great Britain\n"
          ]
        }
      ]
    },
    {
      "cell_type": "markdown",
      "source": [
        "Интересная штука, но так ее не так давно ввели, то вы ее редко увидите"
      ],
      "metadata": {
        "id": "3BXIW9t-Swry"
      }
    },
    {
      "cell_type": "markdown",
      "source": [
        "#### While"
      ],
      "metadata": {
        "id": "hqKOOk1dF3wg"
      }
    },
    {
      "cell_type": "markdown",
      "source": [
        "While - это уже цикл (то есть может выполняться несколько раз). В данном случае мы выполняем до тех пор, пока условие, которые мы задали, не станет ложным\n",
        "\n",
        "Синтаксис:\n",
        "\n",
        "```\n",
        "while <condition>:\n",
        "    <actions>\n",
        "```\n",
        "\n",
        "То есть делай, пока можно. Когда нельзя - перестань. Давайте на примере:"
      ],
      "metadata": {
        "id": "WWJTqPFmF6xb"
      }
    },
    {
      "cell_type": "markdown",
      "source": [
        "Умному Пете понравился наш код, но он захотел сделать добавление к своей игре: он хочет, чтобы действия выполнялись до тех пор, пока число, пока число не будет делиться на 13 или пока мы не перестанем его менять. Помогите Пете усовершенствовать алгоритм"
      ],
      "metadata": {
        "id": "am5kZ2FIGaD2"
      }
    },
    {
      "cell_type": "markdown",
      "source": [
        "Итак, то есть нам необходимо менять число до тех пор, пока либо оно не будет не делиться на все вышеуказанные делители (то есть 3,5 и 7) или пока оно не станет делиться на 13. Давайте пробовать вначале с делением:"
      ],
      "metadata": {
        "id": "BfjRvkfiGyIl"
      }
    },
    {
      "cell_type": "code",
      "source": [
        "a = int(input(\"Введите число:\"))\n",
        "\n",
        "while (a % 13) != 0:\n",
        "    if (a % 3) == 0:\n",
        "        a *= 2\n",
        "        a += 1\n",
        "    elif (a % 5) == 0:\n",
        "        a -= 2\n",
        "    elif (a % 7) == 0:\n",
        "        a %= 15\n",
        "        a += 1\n",
        "\n",
        "print(a)"
      ],
      "metadata": {
        "colab": {
          "base_uri": "https://localhost:8080/",
          "height": 279
        },
        "id": "VdqVrMm0HFjd",
        "outputId": "1e50e621-bf99-46ff-a6e7-57616eedd010"
      },
      "execution_count": null,
      "outputs": [
        {
          "name": "stdout",
          "output_type": "stream",
          "text": [
            "Введите число:3\n"
          ]
        },
        {
          "output_type": "error",
          "ename": "KeyboardInterrupt",
          "evalue": "ignored",
          "traceback": [
            "\u001b[0;31m---------------------------------------------------------------------------\u001b[0m",
            "\u001b[0;31mKeyboardInterrupt\u001b[0m                         Traceback (most recent call last)",
            "\u001b[0;32m<ipython-input-12-f3f90ab7f3a8>\u001b[0m in \u001b[0;36m<cell line: 3>\u001b[0;34m()\u001b[0m\n\u001b[1;32m      2\u001b[0m \u001b[0;34m\u001b[0m\u001b[0m\n\u001b[1;32m      3\u001b[0m \u001b[0;32mwhile\u001b[0m \u001b[0;34m(\u001b[0m\u001b[0ma\u001b[0m \u001b[0;34m%\u001b[0m \u001b[0;36m13\u001b[0m\u001b[0;34m)\u001b[0m \u001b[0;34m!=\u001b[0m \u001b[0;36m0\u001b[0m\u001b[0;34m:\u001b[0m\u001b[0;34m\u001b[0m\u001b[0;34m\u001b[0m\u001b[0m\n\u001b[0;32m----> 4\u001b[0;31m     \u001b[0;32mif\u001b[0m \u001b[0;34m(\u001b[0m\u001b[0ma\u001b[0m \u001b[0;34m%\u001b[0m \u001b[0;36m3\u001b[0m\u001b[0;34m)\u001b[0m \u001b[0;34m==\u001b[0m \u001b[0;36m0\u001b[0m\u001b[0;34m:\u001b[0m\u001b[0;34m\u001b[0m\u001b[0;34m\u001b[0m\u001b[0m\n\u001b[0m\u001b[1;32m      5\u001b[0m         \u001b[0ma\u001b[0m \u001b[0;34m*=\u001b[0m \u001b[0;36m2\u001b[0m\u001b[0;34m\u001b[0m\u001b[0;34m\u001b[0m\u001b[0m\n\u001b[1;32m      6\u001b[0m         \u001b[0ma\u001b[0m \u001b[0;34m+=\u001b[0m \u001b[0;36m1\u001b[0m\u001b[0;34m\u001b[0m\u001b[0;34m\u001b[0m\u001b[0m\n",
            "\u001b[0;31mKeyboardInterrupt\u001b[0m: "
          ]
        }
      ]
    },
    {
      "cell_type": "markdown",
      "source": [
        "Вроде бы все хорошо, но у нас нет условия, что ничего не изменилось... Как же его добавить?\n",
        "\n",
        "Для этого есть такие замечательные слова как continue или break. Как они работают?\n",
        "\n",
        "![](https://i.pinimg.com/736x/ef/48/cf/ef48cf48ec8fa615235c64a5e23ee731.jpg)"
      ],
      "metadata": {
        "id": "50xlA5I1HjhS"
      }
    },
    {
      "cell_type": "code",
      "source": [
        "a = int(input(\"Введите число:\"))\n",
        "\n",
        "while (a % 13) != 0:\n",
        "    if (a % 3) == 0:\n",
        "        a *= 2\n",
        "        a += 1\n",
        "    elif (a % 5) == 0:\n",
        "        a -= 2\n",
        "    elif (a % 7) == 0:\n",
        "        a %= 15\n",
        "        a += 1\n",
        "    else:\n",
        "        break\n",
        "\n",
        "print(a)"
      ],
      "metadata": {
        "colab": {
          "base_uri": "https://localhost:8080/"
        },
        "id": "ZJzDM5CcH5_i",
        "outputId": "606bc1a7-e7e6-41c3-e619-02da8a2ac441"
      },
      "execution_count": null,
      "outputs": [
        {
          "output_type": "stream",
          "name": "stdout",
          "text": [
            "Введите число:3\n",
            "8\n"
          ]
        }
      ]
    },
    {
      "cell_type": "markdown",
      "source": [
        "#### For"
      ],
      "metadata": {
        "id": "QSmFKIOlIJQr"
      }
    },
    {
      "cell_type": "markdown",
      "source": [
        "Все видели примерно вот такой синтаксис:\n",
        "\n",
        "```\n",
        "for i in range(0, 10):\n",
        "    <actions>\n",
        "```\n",
        "\n",
        "Что обозначает: \"для каждого i от 0 до 9 сделай что-то\". Если обобщить, то это будет как:\n",
        "\n",
        "\"Для каждого элемента сделай вот это\" (такая формулировка нам еще пригодится)\n",
        "\n",
        "Что вообще в таком случае происходит?\n",
        "\n",
        "Есть переменная i, в которой будет храниться значение. В каждом шаге цикла у нас i меняется от самого первого значения (0) до самого последнего значения (9):"
      ],
      "metadata": {
        "id": "hDV_zHtOIMVh"
      }
    },
    {
      "cell_type": "code",
      "source": [
        "for i in range(0, 10):\n",
        "    print(i)"
      ],
      "metadata": {
        "colab": {
          "base_uri": "https://localhost:8080/"
        },
        "id": "9IB-CmBTWI-4",
        "outputId": "64dd9cf9-97a7-418f-e507-f025c428bbed"
      },
      "execution_count": null,
      "outputs": [
        {
          "output_type": "stream",
          "name": "stdout",
          "text": [
            "0\n",
            "1\n",
            "2\n",
            "3\n",
            "4\n",
            "5\n",
            "6\n",
            "7\n",
            "8\n",
            "9\n"
          ]
        }
      ]
    },
    {
      "cell_type": "markdown",
      "source": [
        "Обратите внимание, что само i мы можем менять! Потому что каждый раз, когда мы заходим в for, значение обновляется (но так делать не надо, потому что это приводит к обфускации кода):"
      ],
      "metadata": {
        "id": "vZyRd_xCWZvJ"
      }
    },
    {
      "cell_type": "code",
      "source": [
        "for i in range(0, 10):\n",
        "    i += 1\n",
        "    print(i)"
      ],
      "metadata": {
        "colab": {
          "base_uri": "https://localhost:8080/"
        },
        "id": "EW9JTGPaWhmI",
        "outputId": "1c93b1d3-b60a-4245-9c67-6542b1b06bf6"
      },
      "execution_count": null,
      "outputs": [
        {
          "output_type": "stream",
          "name": "stdout",
          "text": [
            "1\n",
            "2\n",
            "3\n",
            "4\n",
            "5\n",
            "6\n",
            "7\n",
            "8\n",
            "9\n",
            "10\n"
          ]
        }
      ]
    },
    {
      "cell_type": "markdown",
      "source": [
        "Возвращаемся к Пете! Теперь он хочет знать, а какие значения получаться в итоге для всех четных чисел от 0 до 50. Давайте поможем ему!"
      ],
      "metadata": {
        "id": "G_JTeLgjWqD8"
      }
    },
    {
      "cell_type": "code",
      "source": [
        "for i in range(0, 51, 2):\n",
        "    a = i\n",
        "    while (a % 13) != 0:\n",
        "        if (a % 3) == 0:\n",
        "            a *= 2\n",
        "            a += 1\n",
        "        elif (a % 5) == 0:\n",
        "            a -= 2\n",
        "        elif (a % 7) == 0:\n",
        "            a %= 15\n",
        "            a += 1\n",
        "        else:\n",
        "            break\n",
        "    print(i, a)"
      ],
      "metadata": {
        "id": "Mu4Uhi8iWxVL"
      },
      "execution_count": null,
      "outputs": []
    },
    {
      "cell_type": "markdown",
      "source": [
        "Вуаля! Давайте чуть-чуть посмотрим на range, что за зверь. Строго говоря это итератор (об этом мы поговорим на следующих лекциях). Он генерирует последовательность из чисел (можно соотнести с индексированием в списках и строках!)\n",
        "\n",
        "```\n",
        "range(beg, end, step) - выведи числа от числа beg до end (невключительно) с шагом step\n",
        "```"
      ],
      "metadata": {
        "id": "lgUYF2oMXCBZ"
      }
    },
    {
      "cell_type": "code",
      "source": [
        "print(list(range(0, 50, 2)))"
      ],
      "metadata": {
        "colab": {
          "base_uri": "https://localhost:8080/"
        },
        "id": "O9QFWOhEXbbk",
        "outputId": "89b1275f-88ad-4dad-8ee7-e66654b537b1"
      },
      "execution_count": null,
      "outputs": [
        {
          "output_type": "stream",
          "name": "stdout",
          "text": [
            "[0, 2, 4, 6, 8, 10, 12, 14, 16, 18, 20, 22, 24, 26, 28, 30, 32, 34, 36, 38, 40, 42, 44, 46, 48]\n"
          ]
        }
      ]
    },
    {
      "cell_type": "markdown",
      "source": [
        "Некоторые знающие товарищи еще видели, что еще есть такая функция, как xrange(). Что это такое и в чем разница?\n",
        "\n",
        "СПОЙЛЕР: нет в Python 3 функции xrange(), это пережиток Python 2 (в Python3 xrange == range)\n",
        "\n",
        "В Python 2 было 2 способа: range и xrange. Первый создает прямо список, второй - создает итератор (про это мы поговорим позже). Хранить целый список - неэффективно, особенно для итераций, поэтому и придумали xrange. Если же вы в Python 3 хотите создать список - то можете к нему просто привести объект range"
      ],
      "metadata": {
        "id": "cb7dFi-xkfPK"
      }
    },
    {
      "cell_type": "code",
      "source": [
        "import sys\n",
        "a = range(10000)\n",
        "print(\"Range memory:\", sys.getsizeof(a)) ## с помощью функции получаем размер объекта\n",
        "a = list(a)\n",
        "print(\"List memory:\", sys.getsizeof(a)) ## с помощью функции получаем размер объекта"
      ],
      "metadata": {
        "colab": {
          "base_uri": "https://localhost:8080/"
        },
        "id": "X52OKlAJkwbu",
        "outputId": "c237ffc4-3681-4a59-ede0-01bc31a12157"
      },
      "execution_count": 1,
      "outputs": [
        {
          "output_type": "stream",
          "name": "stdout",
          "text": [
            "Range memory: 48\n",
            "List memory: 80056\n"
          ]
        }
      ]
    },
    {
      "cell_type": "markdown",
      "source": [
        "Если говорить просто, то range предоставляет такой список, в котором мы и будем брать наши значения.\n",
        "\n",
        "А можно ли ходить не только по числам, но и как-нибудь еще? Конечно можно:"
      ],
      "metadata": {
        "id": "bwYIFbvfXgN_"
      }
    },
    {
      "cell_type": "code",
      "source": [
        "for i in \"abcds\":\n",
        "    print(i)\n",
        "\n",
        "for i in [\"Hello\", \"World\"]:\n",
        "    print(i)"
      ],
      "metadata": {
        "colab": {
          "base_uri": "https://localhost:8080/"
        },
        "id": "eus_pEeDXq0l",
        "outputId": "2b116d3c-a041-46be-ac81-80d935e1fc6c"
      },
      "execution_count": null,
      "outputs": [
        {
          "output_type": "stream",
          "name": "stdout",
          "text": [
            "a\n",
            "b\n",
            "c\n",
            "d\n",
            "s\n",
            "Hello\n",
            "World\n"
          ]
        }
      ]
    },
    {
      "cell_type": "markdown",
      "source": [
        "И последняя ремарка: так как for - это тоже цикл, то и слова continue и break действуют!"
      ],
      "metadata": {
        "id": "xFAUONrpX6-7"
      }
    },
    {
      "cell_type": "code",
      "source": [
        "for i in range(5):\n",
        "    print(i)\n",
        "    break\n",
        "    print(i + 1)"
      ],
      "metadata": {
        "colab": {
          "base_uri": "https://localhost:8080/"
        },
        "id": "iqepLQeyYAVL",
        "outputId": "cbde1dad-d8ed-47e2-f796-a7433fcc5fd4"
      },
      "execution_count": null,
      "outputs": [
        {
          "output_type": "stream",
          "name": "stdout",
          "text": [
            "0\n"
          ]
        }
      ]
    },
    {
      "cell_type": "code",
      "source": [
        "for i in range(5):\n",
        "    print(i)\n",
        "    continue\n",
        "    print(i + 1)"
      ],
      "metadata": {
        "colab": {
          "base_uri": "https://localhost:8080/"
        },
        "id": "omkH6ULaYH1C",
        "outputId": "b6049944-455b-414a-fd4a-f0841db8ec62"
      },
      "execution_count": null,
      "outputs": [
        {
          "output_type": "stream",
          "name": "stdout",
          "text": [
            "0\n",
            "1\n",
            "2\n",
            "3\n",
            "4\n"
          ]
        }
      ]
    },
    {
      "cell_type": "markdown",
      "source": [
        "И теперь еще немного про списки. Как бы нам легко и незайтеливо создать матрицу (то есть список списков)? Можно сделать с помощью операции умножения:"
      ],
      "metadata": {
        "id": "vbfxurIkS_yb"
      }
    },
    {
      "cell_type": "code",
      "source": [
        "a = [[0] * 5] * 5\n",
        "print(a)"
      ],
      "metadata": {
        "colab": {
          "base_uri": "https://localhost:8080/"
        },
        "id": "u7WnpU8FTGCZ",
        "outputId": "da8d8208-c676-48d9-ab28-d613b9357aef"
      },
      "execution_count": null,
      "outputs": [
        {
          "output_type": "stream",
          "name": "stdout",
          "text": [
            "[[0, 0, 0, 0, 0], [0, 0, 0, 0, 0], [0, 0, 0, 0, 0], [0, 0, 0, 0, 0], [0, 0, 0, 0, 0]]\n"
          ]
        }
      ]
    },
    {
      "cell_type": "code",
      "source": [
        "a[0][0] = 5\n",
        "print(a)"
      ],
      "metadata": {
        "colab": {
          "base_uri": "https://localhost:8080/"
        },
        "id": "b2bFJ-B9UBQc",
        "outputId": "08f0586d-989f-4edc-a053-9a42b5654e0e"
      },
      "execution_count": null,
      "outputs": [
        {
          "output_type": "stream",
          "name": "stdout",
          "text": [
            "[[5, 0, 0, 0, 0], [5, 0, 0, 0, 0], [5, 0, 0, 0, 0], [5, 0, 0, 0, 0], [5, 0, 0, 0, 0]]\n"
          ]
        }
      ]
    },
    {
      "cell_type": "markdown",
      "source": [
        "Упс, а эту проблему мы видели в прошлый раз. Почему так происходит? На самом деле Python играет с вами в игры:"
      ],
      "metadata": {
        "id": "ZMgke1MeUGBX"
      }
    },
    {
      "cell_type": "code",
      "source": [
        "for b in a:\n",
        "    print(id(b)) ## позволяет понять расположение объекта"
      ],
      "metadata": {
        "colab": {
          "base_uri": "https://localhost:8080/"
        },
        "id": "5zacVIIFUeg2",
        "outputId": "1a3572e5-e7dc-4ce0-8c8e-f24129dc1077"
      },
      "execution_count": null,
      "outputs": [
        {
          "output_type": "stream",
          "name": "stdout",
          "text": [
            "138016971300032\n",
            "138016971300032\n",
            "138016971300032\n",
            "138016971300032\n",
            "138016971300032\n"
          ]
        }
      ]
    },
    {
      "cell_type": "markdown",
      "source": [
        "Что он делает? Берет и не создает реальные копии, а просто создает ссылки на одну и ту же ячейку памяти, потому поведение такое\n",
        "\n",
        "Что же делать в данном случае? А все просто: нужно делать с помощью for!"
      ],
      "metadata": {
        "id": "cV3CA1TLUk2A"
      }
    },
    {
      "cell_type": "code",
      "source": [
        "a = [[0] * 5 for _ in range(5)]\n",
        "for b in a:\n",
        "    print(id(b))\n",
        "\n",
        "a[0][0] = 5\n",
        "print(a)"
      ],
      "metadata": {
        "colab": {
          "base_uri": "https://localhost:8080/"
        },
        "id": "SemtZYgUUzV6",
        "outputId": "dfcf880c-eb9c-405f-ac93-162cebb7a183"
      },
      "execution_count": null,
      "outputs": [
        {
          "output_type": "stream",
          "name": "stdout",
          "text": [
            "138018036605696\n",
            "138016972687744\n",
            "138016972699264\n",
            "138016972689216\n",
            "138016972347072\n",
            "[[5, 0, 0, 0, 0], [0, 0, 0, 0, 0], [0, 0, 0, 0, 0], [0, 0, 0, 0, 0], [0, 0, 0, 0, 0]]\n"
          ]
        }
      ]
    },
    {
      "cell_type": "markdown",
      "source": [
        "С помощью for мы делаем так, что он каждый раз создает новый массив. Но тогда возникает вопрос: а почему для первого умножения так не надо делать?\n",
        "\n",
        "Опять-таки это связано с тем, какой у нас **объект**: изменяемый или нет (и вот про это будет в следующий раз)\n",
        "\n",
        "Если коротко: если объект **неизменяемый**, то любая операция порождает новый элемент. Такой пример показателен:"
      ],
      "metadata": {
        "id": "2LIlST00VOTi"
      }
    },
    {
      "cell_type": "code",
      "source": [
        "a = 1\n",
        "print(id(a))\n",
        "a += 2\n",
        "print(id(a))"
      ],
      "metadata": {
        "colab": {
          "base_uri": "https://localhost:8080/"
        },
        "id": "GnY46SrsWB1_",
        "outputId": "9a55a022-782d-462b-ad7a-ec3a5d13e7e8"
      },
      "execution_count": null,
      "outputs": [
        {
          "output_type": "stream",
          "name": "stdout",
          "text": [
            "138018242740464\n",
            "138018242740528\n"
          ]
        }
      ]
    },
    {
      "cell_type": "markdown",
      "source": [
        "### Работа с файлами"
      ],
      "metadata": {
        "id": "TQ69xxImpg6l"
      }
    },
    {
      "cell_type": "markdown",
      "source": [
        "Иногда нам необходимо работать с файлами, потому что мы не всегда все вводим с помощью input (в целом вещь понятная - данные нам могут прийти в виде какого-нибудь текстового файлика, экселя, и так далее)\n",
        "\n",
        "И это все дело надо бы уметь читать\n",
        "\n",
        "![](https://www.meme-arsenal.com/memes/6ac45984c25a2230e62bfdf3d6d61e02.jpg)"
      ],
      "metadata": {
        "id": "J3MTrCaYpsnt"
      }
    },
    {
      "cell_type": "markdown",
      "source": [
        "Пойдем нелинейно: вначале научимся записывать файлы, а потом из них что-нибудь читать"
      ],
      "metadata": {
        "id": "JLwISW3Fq8rX"
      }
    },
    {
      "cell_type": "code",
      "execution_count": null,
      "metadata": {
        "id": "3WnZqhDQoH87"
      },
      "outputs": [],
      "source": [
        "f = open(\"icantread.txt\", \"w\")\n",
        "# функция open состоит из двух аргументов:\n",
        "# 1 - сам файл (используем относительный путь файла)\n",
        "# 2 - mode (или же на что открываем файл)"
      ]
    },
    {
      "cell_type": "markdown",
      "source": [
        "Какие есть моды?\n",
        "\n",
        "* r - читаем файл (если файла нет, выдаст ошибку)\n",
        "\n",
        "* w - записываем файл (если файла нет, то создаст, но если файл был и мы что-то запишем, то прошлое сотрется)\n",
        "\n",
        "* r+ - читаем и запимываем одновременно\n",
        "\n",
        "* a - записываем файл, добавляем в конец (не трогая предыдущее)"
      ],
      "metadata": {
        "id": "zacHBDR4rnPl"
      }
    },
    {
      "cell_type": "markdown",
      "source": [
        "#### Запись"
      ],
      "metadata": {
        "id": "ZPNZ51DBx19i"
      }
    },
    {
      "cell_type": "markdown",
      "source": [
        "Давайте что-нибудь запишем"
      ],
      "metadata": {
        "id": "5dMOmIdaskBH"
      }
    },
    {
      "cell_type": "code",
      "source": [
        "text = '''\n",
        "Lorem ipsum dolor sit amet, consectetur adipiscing elit, sed do eiusmod tempor incididunt ut labore et dolore magna aliqua.\n",
        "Ut enim ad minim veniam, quis nostrud exercitation ullamco laboris nisi ut aliquip ex ea commodo consequat.\n",
        "Duis aute irure dolor in reprehenderit in voluptate velit esse cillum dolore eu fugiat nulla pariatur.\n",
        "Excepteur sint occaecat cupidatat non proident, sunt in culpa qui officia deserunt mollit anim id est laborum.\n",
        "'''\n",
        "\n",
        "f.write(text) # с помощью write записываем\n",
        "f.close()"
      ],
      "metadata": {
        "id": "L9gJGu8rsmmn"
      },
      "execution_count": null,
      "outputs": []
    },
    {
      "cell_type": "code",
      "source": [
        "!cat icantread.txt #проверим через утилиту cat, есть ли там что-то"
      ],
      "metadata": {
        "colab": {
          "base_uri": "https://localhost:8080/"
        },
        "id": "6464N8cOtA61",
        "outputId": "9d006382-7bb4-4c26-bac7-8e84a60c02c8"
      },
      "execution_count": null,
      "outputs": [
        {
          "output_type": "stream",
          "name": "stdout",
          "text": [
            "\n",
            "Lorem ipsum dolor sit amet, consectetur adipiscing elit, sed do eiusmod tempor incididunt ut labore et dolore magna aliqua.\n",
            "Ut enim ad minim veniam, quis nostrud exercitation ullamco laboris nisi ut aliquip ex ea commodo consequat.\n",
            "Duis aute irure dolor in reprehenderit in voluptate velit esse cillum dolore eu fugiat nulla pariatur.\n",
            "Excepteur sint occaecat cupidatat non proident, sunt in culpa qui officia deserunt mollit anim id est laborum.\n"
          ]
        }
      ]
    },
    {
      "cell_type": "markdown",
      "source": [
        "А еще умеем записывать с помощью print:"
      ],
      "metadata": {
        "id": "NFNzv6hcy9L-"
      }
    },
    {
      "cell_type": "code",
      "source": [
        "print(\"Ahah\", file=open(\"new_file.txt\", \"w\"))"
      ],
      "metadata": {
        "id": "aCkZ0CbIzA9y"
      },
      "execution_count": null,
      "outputs": []
    },
    {
      "cell_type": "code",
      "source": [
        "!cat new_file.txt"
      ],
      "metadata": {
        "colab": {
          "base_uri": "https://localhost:8080/"
        },
        "id": "GPvtOTKZzB1g",
        "outputId": "56e70b56-8f30-4398-8ca2-7d604b467978"
      },
      "execution_count": null,
      "outputs": [
        {
          "output_type": "stream",
          "name": "stdout",
          "text": [
            "Ahah\n"
          ]
        }
      ]
    },
    {
      "cell_type": "markdown",
      "source": [
        "#### Чтение"
      ],
      "metadata": {
        "id": "rJ_hsiaVxzpe"
      }
    },
    {
      "cell_type": "code",
      "source": [
        "f_new = open(\"icantread.txt\", 'r')\n",
        "f_new.read() #читаем файл"
      ],
      "metadata": {
        "colab": {
          "base_uri": "https://localhost:8080/",
          "height": 74
        },
        "id": "ztiF8fEDtHuU",
        "outputId": "43dc8386-fa39-45a7-ef57-566589d63619"
      },
      "execution_count": null,
      "outputs": [
        {
          "output_type": "execute_result",
          "data": {
            "text/plain": [
              "'\\nLorem ipsum dolor sit amet, consectetur adipiscing elit, sed do eiusmod tempor incididunt ut labore et dolore magna aliqua.\\nUt enim ad minim veniam, quis nostrud exercitation ullamco laboris nisi ut aliquip ex ea commodo consequat.\\nDuis aute irure dolor in reprehenderit in voluptate velit esse cillum dolore eu fugiat nulla pariatur.\\nExcepteur sint occaecat cupidatat non proident, sunt in culpa qui officia deserunt mollit anim id est laborum.\\n'"
            ],
            "application/vnd.google.colaboratory.intrinsic+json": {
              "type": "string"
            }
          },
          "metadata": {},
          "execution_count": 6
        }
      ]
    },
    {
      "cell_type": "markdown",
      "source": [
        "Давайте попробуем прочесть еще раз:"
      ],
      "metadata": {
        "id": "0DFKDfL8t8EH"
      }
    },
    {
      "cell_type": "code",
      "source": [
        "f_new.read()"
      ],
      "metadata": {
        "colab": {
          "base_uri": "https://localhost:8080/",
          "height": 36
        },
        "id": "MsRgr4uWt7pr",
        "outputId": "4650f8a4-4079-4671-8222-d2f38415a8cd"
      },
      "execution_count": null,
      "outputs": [
        {
          "output_type": "execute_result",
          "data": {
            "text/plain": [
              "''"
            ],
            "application/vnd.google.colaboratory.intrinsic+json": {
              "type": "string"
            }
          },
          "metadata": {},
          "execution_count": 7
        }
      ]
    },
    {
      "cell_type": "markdown",
      "source": [
        "А почему ничего нет?\n",
        "\n",
        "![](https://chpic.su/_data/stickers/b/blyadskiepapugi/blyadskiepapugi_016.webp)"
      ],
      "metadata": {
        "id": "4yJI1El2uA99"
      }
    },
    {
      "cell_type": "markdown",
      "source": [
        "Дело в том, что чтение работает следующим образом:\n",
        "\n",
        "Мы по сути создаем бегунок, который проходит по файлу и его считывает поэлементно, двигая этот бегунок. И любой вызов read считывает всю эту часть и остается в конце\n",
        "\n",
        "Поэтому если вызвать два раза подряд, то во второй раз вы ничего не прочтете (бегунок сейчас не умеет назад), беда"
      ],
      "metadata": {
        "id": "aBc21O2FuNMs"
      }
    },
    {
      "cell_type": "markdown",
      "source": [
        "Давайте научимся двигать бегунок так, как нам бы хотелось. За это отвечают:\n",
        "\n",
        "1. read(n) - прочитай n символов от места бегунка\n",
        "\n",
        "2. tell() - скажи, на каком мы сейчас символе\n",
        "\n",
        "3. seek(offset) - перейди на место offset относительно начала файла"
      ],
      "metadata": {
        "id": "eT3EpY7Hu4jM"
      }
    },
    {
      "cell_type": "code",
      "source": [
        "with open(\"icantread.txt\", \"r\") as f: # с помощью with можно отдельно открыть файл и использовать его только внутри цикла, после цикла файл закроется\n",
        "    print(f.tell())\n",
        "    print(f.read(10)) #прочитай не весь текст, а только первые 10 символов\n",
        "    print(f.tell()) # скажи, на какой месте сейчас наш бегунок\n",
        "    print(f.seek(5)) #возьми начало файла и сдвинься на 5 символов\n",
        "    print(f.tell())\n",
        "    print(f.read(5))\n",
        "    print(f.tell())"
      ],
      "metadata": {
        "colab": {
          "base_uri": "https://localhost:8080/"
        },
        "id": "e0MLeS2Su89a",
        "outputId": "8671af80-5cc3-4ec9-fa65-e91c9553ac9e"
      },
      "execution_count": null,
      "outputs": [
        {
          "output_type": "stream",
          "name": "stdout",
          "text": [
            "0\n",
            "\n",
            "Lorem ips\n",
            "10\n",
            "5\n",
            "5\n",
            "m ips\n",
            "10\n",
            "<_io.TextIOWrapper name='icantread.txt' mode='r' encoding='UTF-8'>\n"
          ]
        }
      ]
    },
    {
      "cell_type": "markdown",
      "source": [
        "А как двигаться не относительно начала файла, а относительно текущего места?"
      ],
      "metadata": {
        "id": "C11PJlazxTUY"
      }
    },
    {
      "cell_type": "code",
      "source": [
        "with open(\"icantread.txt\", \"r\") as f:\n",
        "    print(f.read(10))\n",
        "    print(f.tell())\n",
        "    print(f.seek(f.tell() - 5)) #можно передавать просто сам tell!\n",
        "    print(f.tell())"
      ],
      "metadata": {
        "colab": {
          "base_uri": "https://localhost:8080/"
        },
        "id": "VJvvSkxFxZC_",
        "outputId": "09b63722-abae-4975-a7de-5f2bfbe49e8c"
      },
      "execution_count": null,
      "outputs": [
        {
          "output_type": "stream",
          "name": "stdout",
          "text": [
            "\n",
            "Lorem ips\n",
            "10\n",
            "5\n",
            "5\n"
          ]
        }
      ]
    },
    {
      "cell_type": "markdown",
      "source": [
        "В чем еще видим проблему? В том, что у нас тут появились в качестве отдельных знаков перевод строки (вообще все такие знаки типа табов etc будут отображаться)\n",
        "\n",
        "А может попробуем по линиям прочитать?"
      ],
      "metadata": {
        "id": "gnm9rFrQtVsr"
      }
    },
    {
      "cell_type": "code",
      "source": [
        "with open(\"icantread.txt\", \"r\") as f:\n",
        "    for line in f: # читает по линии до перевода строки\n",
        "        print(line.strip())\n",
        "        print('-' * 30)"
      ],
      "metadata": {
        "colab": {
          "base_uri": "https://localhost:8080/"
        },
        "id": "SFGRADzpthdx",
        "outputId": "c3e62d82-8956-4ef9-bb57-ffb7c3ab5358"
      },
      "execution_count": null,
      "outputs": [
        {
          "output_type": "stream",
          "name": "stdout",
          "text": [
            "\n",
            "------------------------------\n",
            "Lorem ipsum dolor sit amet, consectetur adipiscing elit, sed do eiusmod tempor incididunt ut labore et dolore magna aliqua.\n",
            "------------------------------\n",
            "Ut enim ad minim veniam, quis nostrud exercitation ullamco laboris nisi ut aliquip ex ea commodo consequat.\n",
            "------------------------------\n",
            "Duis aute irure dolor in reprehenderit in voluptate velit esse cillum dolore eu fugiat nulla pariatur.\n",
            "------------------------------\n",
            "Excepteur sint occaecat cupidatat non proident, sunt in culpa qui officia deserunt mollit anim id est laborum.\n",
            "------------------------------\n"
          ]
        }
      ]
    },
    {
      "cell_type": "markdown",
      "source": [
        "А еще умеем выводить просто с помощью print:\n"
      ],
      "metadata": {
        "id": "B0SHqDXRycIQ"
      }
    },
    {
      "cell_type": "markdown",
      "source": [
        "#### Учимся печатать и читать из одного места"
      ],
      "metadata": {
        "id": "3UVGsdQ_x-Fx"
      }
    },
    {
      "cell_type": "code",
      "source": [
        "fh = open('icantread.txt', 'r+') #r+ позволяет сразу и записывать, и читать\n",
        "\n",
        "fh.seek(11)\n",
        "print(fh.read(5))\n",
        "print(fh.tell())\n",
        "fh.seek(11)\n",
        "fh.write('WOWOWOWOWOWOO')\n",
        "fh.seek(0)\n",
        "content = fh.read()\n",
        "print(content)\n",
        "fh.close()"
      ],
      "metadata": {
        "colab": {
          "base_uri": "https://localhost:8080/"
        },
        "id": "3Emr4O75zQYy",
        "outputId": "c2ea52b4-82f6-4dc6-a0c2-e9c1a05c433b"
      },
      "execution_count": null,
      "outputs": [
        {
          "output_type": "stream",
          "name": "stdout",
          "text": [
            "m dol\n",
            "16\n",
            "\n",
            "Lorem ipsuWOWOWOWOWOWOOmet, consectetur adipiscing elit, sed do eiusmod tempor incididunt ut labore et dolore magna aliqua.\n",
            "Ut enim ad minim veniam, quis nostrud exercitation ullamco laboris nisi ut aliquip ex ea commodo consequat.\n",
            "Duis aute irure dolor in reprehenderit in voluptate velit esse cillum dolore eu fugiat nulla pariatur.\n",
            "Excepteur sint occaecat cupidatat non proident, sunt in culpa qui officia deserunt mollit anim id est laborum.\n",
            "\n"
          ]
        }
      ]
    },
    {
      "cell_type": "markdown",
      "source": [
        "#### Заключение"
      ],
      "metadata": {
        "id": "J3WZkyu4zfk3"
      }
    },
    {
      "cell_type": "markdown",
      "source": [
        "Умеем читать из файла, умеем записывать в файл, умеем читать и писать! В целом достаточно"
      ],
      "metadata": {
        "id": "X447WveXzhGw"
      }
    },
    {
      "cell_type": "markdown",
      "source": [
        "![](https://img5.goodfon.ru/original/2048x2048/5/58/popugai-ptitsa-fon-vzgliad-kakadu-rozovyi-portret-boke.jpg)"
      ],
      "metadata": {
        "id": "ibaZ45dbzs5s"
      }
    },
    {
      "cell_type": "markdown",
      "source": [
        "## Контекстные менеджеры"
      ],
      "metadata": {
        "id": "FX3khP32WldB"
      }
    },
    {
      "cell_type": "markdown",
      "source": [
        "Что такое контекстный менеджер? Если отвечать максимально просто - то это оператор with\n",
        "\n",
        "Если более сложно (согласно PEP) - это объект, который реализует операторы enter и exit (про это детально будем говорить в части ООП)\n",
        "\n",
        "Как это выглядит?"
      ],
      "metadata": {
        "id": "BevCyHGaWngk"
      }
    },
    {
      "cell_type": "code",
      "source": [
        "class FileManager():\n",
        "    def __init__(self, filename, mode):\n",
        "        self.filename = filename\n",
        "        self.mode = mode\n",
        "        self.file = None\n",
        "\n",
        "    def __enter__(self):\n",
        "        self.file = open(self.filename, self.mode)\n",
        "        return self.file\n",
        "\n",
        "    def __exit__(self, exc_type, exc_value, exc_traceback):\n",
        "        self.file.close()\n",
        "\n",
        "# loading a file\n",
        "with FileManager('test.txt', 'w') as f:\n",
        "    f.write('Test')\n",
        "\n",
        "print(f.closed)"
      ],
      "metadata": {
        "id": "3ZSzKG2BXqJE"
      },
      "execution_count": null,
      "outputs": []
    },
    {
      "cell_type": "markdown",
      "source": [
        "Примерно вот так (это способ реализации открытия и закрытия файла). Что здесь происходит:\n",
        "\n",
        "```\n",
        "with <smth>: - инциализация контестного менеджера\n",
        "    - происходит enter\n",
        "    <actions>\n",
        "-происходит exit\n",
        "<actions>\n",
        "```\n",
        "\n",
        "Как это работает с точки зрения файлов и почему with позволяет нам не закрывать файлы самостоятельно?\n",
        "\n",
        "Мы указываем в самом начале, что надо надо открыть или передать (в данном случае мы передаем файловый поток), как-то с ним работаем, а после закрытие прописано в самом exit() - то есть по выходу из блока он делает самостоятельное закрытие"
      ],
      "metadata": {
        "id": "lol4lFX-XrTu"
      }
    },
    {
      "cell_type": "markdown",
      "source": [
        "## Попугай дня"
      ],
      "metadata": {
        "id": "TmoSCQJttmJf"
      }
    },
    {
      "cell_type": "markdown",
      "source": [
        "![](https://upload.wikimedia.org/wikipedia/commons/2/2d/Nymphicus_hollandicus_-perching_on_wires_-Australia-6a.jpg)"
      ],
      "metadata": {
        "id": "ItvjQcgqtv9J"
      }
    },
    {
      "cell_type": "markdown",
      "source": [
        "Это корелла. Вы, наверное, их часто видите в качестве домашних попугаев (исключая волнистых попугайчиков)\n",
        "\n",
        "Самое интересно - коррела это какаду. Вообще не ассоциируются с какаду, верно? Но это единственная маленькая какадушка\n",
        "\n",
        "Они бывают разных расцветок, но на картинке - натуральный окрас (однако их всегда отличает такая желтенькая голова и красные щечки)\n",
        "\n",
        "Они очень мелодичные, но не так хорошо говорят, как другие попугаи.\n",
        "\n",
        "И хотя правительство Австралии (где они живут вообще) запрещает вывоз корелл, их можно найти где угодно, потому что они легко размножаются и живут в неволе"
      ],
      "metadata": {
        "id": "bAVmNBiRtyXN"
      }
    }
  ]
}