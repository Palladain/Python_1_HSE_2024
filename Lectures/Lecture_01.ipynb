{
  "nbformat": 4,
  "nbformat_minor": 0,
  "metadata": {
    "colab": {
      "provenance": [],
      "collapsed_sections": [
        "Mu5OOb_R_iSO",
        "qHZbQUmCC-N1",
        "1Pudv049E5zL",
        "wIQuzy4mZQGS",
        "KWlJocc0gj8T",
        "qarkDDHT5dM2",
        "O7OiFziPgydH",
        "wdHy-v1M2IzM",
        "lTPVCHAFSmBr",
        "omYnbJiPUZmL"
      ]
    },
    "kernelspec": {
      "name": "python3",
      "display_name": "Python 3"
    },
    "language_info": {
      "name": "python"
    }
  },
  "cells": [
    {
      "cell_type": "markdown",
      "source": [
        "# Python-1, Лекция 1\n",
        "\n",
        "Лекторы: Петров Тимур, Фролов Андрей"
      ],
      "metadata": {
        "id": "xbKgms5k_a6H"
      }
    },
    {
      "cell_type": "markdown",
      "source": [
        "## Пара вводных слов"
      ],
      "metadata": {
        "id": "KbL-8UO6_gg3"
      }
    },
    {
      "cell_type": "markdown",
      "source": [
        "### Что вообще такое Python?"
      ],
      "metadata": {
        "id": "Mu5OOb_R_iSO"
      }
    },
    {
      "cell_type": "markdown",
      "source": [
        "Если вы попробуете поискать запрос жанра \"Топ-10 самых популярных языков программирования\", то вы неизбежно наткнетесь на Python ([Пруф 1](https://habr.com/ru/articles/730954/), [Пруф 2](https://www.tiobe.com/tiobe-index/)). А если говорить про, например, Data Science, то этот язык будет топ-1 и далеко впереди. В чем же секрет и что это такое?\n",
        "\n",
        "Python - это ЯП, который можно использовать почти для всего угодно (поэтому он называется языкос \"общего назначения\"): исследовать данные, сделать веб-страничку, обучить ML модель и так далее. Имея в багаже Python вы можете сделать практически что угодно (если не углубляться в детали, конечно же)\n",
        "\n",
        "Главный плюс Python - это его простота и читабельность (на самом деле это одна из первых причин, почему вообще этот язык создавали, это можно увидеть в самом Дзене Python):"
      ],
      "metadata": {
        "id": "qdBO7y6l_lDW"
      }
    },
    {
      "cell_type": "code",
      "execution_count": null,
      "metadata": {
        "colab": {
          "base_uri": "https://localhost:8080/"
        },
        "id": "Yy7LQTdz_X1l",
        "outputId": "9decf02a-a6d6-4ea9-a56a-4c1b9abae28c"
      },
      "outputs": [
        {
          "output_type": "stream",
          "name": "stdout",
          "text": [
            "The Zen of Python, by Tim Peters\n",
            "\n",
            "Beautiful is better than ugly.\n",
            "Explicit is better than implicit.\n",
            "Simple is better than complex.\n",
            "Complex is better than complicated.\n",
            "Flat is better than nested.\n",
            "Sparse is better than dense.\n",
            "Readability counts.\n",
            "Special cases aren't special enough to break the rules.\n",
            "Although practicality beats purity.\n",
            "Errors should never pass silently.\n",
            "Unless explicitly silenced.\n",
            "In the face of ambiguity, refuse the temptation to guess.\n",
            "There should be one-- and preferably only one --obvious way to do it.\n",
            "Although that way may not be obvious at first unless you're Dutch.\n",
            "Now is better than never.\n",
            "Although never is often better than *right* now.\n",
            "If the implementation is hard to explain, it's a bad idea.\n",
            "If the implementation is easy to explain, it may be a good idea.\n",
            "Namespaces are one honking great idea -- let's do more of those!\n"
          ]
        }
      ],
      "source": [
        "import this"
      ]
    },
    {
      "cell_type": "markdown",
      "source": [
        "Мы же, естественно, должны преисполниться этим Дзеном и быть в тренде)\n",
        "\n",
        "А как вообще писать? На это есть [ответ](https://peps.python.org/pep-0008/), который мы еще раз внимательно посмотрим\n"
      ],
      "metadata": {
        "id": "4lySffD3Ck7R"
      }
    },
    {
      "cell_type": "markdown",
      "source": [
        "### Пара организационных моментов про курс"
      ],
      "metadata": {
        "id": "qHZbQUmCC-N1"
      }
    },
    {
      "cell_type": "markdown",
      "source": [
        "$$О_{итог} = 0,2 * О_{экз} + 0,8 * О_{накоп}$$\n",
        "\n",
        "$$О_{накоп} = 0,2 * О_{сем} + 0,5 * О_{дз} + 0,3 * О_{кр}$$\n",
        "\n",
        "Если развернуть, то будет:\n",
        "\n",
        "$$О_{итог} = 0,2* О_{экз} + 0,16 * О_{сем} + 0,4 * О_{дз} + 0,24 * О_{кр}$$\n",
        "\n",
        "Поэтому все важно и нужно. Автомат ставится при условиях:\n",
        "\n",
        "$$\\begin{cases} О_{накоп} \\geq 8 \\\\ О_{сем} \\geq 8 \\end{cases}$$\n",
        "\n",
        "Что такое автомат? Возможность не писать экзамен. За экзамен ставится 0, но при этом итог округляется **вверх** (пример: 8 накоп -> 6,4 итог округляется до 7)\n",
        "\n",
        "Округление оценки - округляется **только** итог. Округление арифметическое, блокирующих оценок нет.\n",
        "\n",
        "Домашние задания = контест после каждой пары. Каждый контест имеет 1 дедлайн: жесткий. Задания выдаются на 10 дней. После жесткого дедлайна задачи не оцениваются\n",
        "\n",
        "Правила оценивания семинаров выбираются самими семинаристами и проставляются ими же\n",
        "\n",
        "А теперь к делу!"
      ],
      "metadata": {
        "id": "fVbqAjOWDEDQ"
      }
    },
    {
      "cell_type": "markdown",
      "source": [
        "## Ввод-вывод данных"
      ],
      "metadata": {
        "id": "1Pudv049E5zL"
      }
    },
    {
      "cell_type": "markdown",
      "source": [
        "Первый вопрос, который встает в любом ЯП - как вводить и выводить данные?\n",
        "\n",
        "Есть традиционно 2 способа ввести данные:\n",
        "\n",
        "* Ввести ручками самостоятельно\n",
        "\n",
        "* Подать какой-нибудь файл, в котором лежат эти данные\n",
        "\n",
        "Есть традиционно 2 способа вывести данные:\n",
        "\n",
        "* В консоли (ручной вывод)\n",
        "\n",
        "* В файл (куда-нибудь что-нибудь записать и получить файл на выходе)\n",
        "\n",
        "Давайте разбираться:\n"
      ],
      "metadata": {
        "id": "GFGMfqhvFAPA"
      }
    },
    {
      "cell_type": "markdown",
      "source": [
        "#### Ручной ввод-вывод данных"
      ],
      "metadata": {
        "id": "Ws7jmlf_Fyh7"
      }
    },
    {
      "cell_type": "markdown",
      "source": [
        "Ручной ввод и вывод данных осуществляется с помощью функций **input()** и **print()**:"
      ],
      "metadata": {
        "id": "GRhBaoHHF1a4"
      }
    },
    {
      "cell_type": "code",
      "source": [
        "a = input()\n",
        "print(a)"
      ],
      "metadata": {
        "colab": {
          "base_uri": "https://localhost:8080/"
        },
        "id": "7r1k6wp-F1sf",
        "outputId": "1471159a-1621-4e38-a0ba-62d92c8ae101"
      },
      "execution_count": null,
      "outputs": [
        {
          "output_type": "stream",
          "name": "stdout",
          "text": [
            "dasdas\n",
            "dasdas\n"
          ]
        }
      ]
    },
    {
      "cell_type": "markdown",
      "source": [
        "Давайте поймем, что происходит при вызове данных функций:\n",
        "\n",
        "* input() - берется вся строка, считывается и записывается как есть\n",
        "\n",
        "* print() - печатает все, что находится в переменной\n",
        "\n",
        "А что это за скобочки? По существу это **аргументы** функции. Про аргументы мы поговорим позже, когда будем обсуждать функции в Python, а пока что, для нашего понимания:\n",
        "\n",
        "* input(text) - выдает перед вводом text (зачем надо - чтобы сказать пользователю, а что ему вводить)\n",
        "\n",
        "* print(smth) - выведи то, что я указал"
      ],
      "metadata": {
        "id": "vjHZMjR5GEHi"
      }
    },
    {
      "cell_type": "code",
      "source": [
        "a = input(\"Insert your age, please: \")\n",
        "print(a)"
      ],
      "metadata": {
        "colab": {
          "base_uri": "https://localhost:8080/"
        },
        "id": "gXg1SzSEHWHt",
        "outputId": "6ff2c0ef-6426-424d-def3-cde2739e8367"
      },
      "execution_count": null,
      "outputs": [
        {
          "output_type": "stream",
          "name": "stdout",
          "text": [
            "Insert your age, please: 25\n",
            "25\n"
          ]
        }
      ]
    },
    {
      "cell_type": "markdown",
      "source": [
        "А допустим, что я хочу ввести сразу не 1 значение, а сразу 2, что же тогда делать?"
      ],
      "metadata": {
        "id": "QUpgO_PQIBYl"
      }
    },
    {
      "cell_type": "code",
      "source": [
        "a, b = input()\n",
        "print(a, b)"
      ],
      "metadata": {
        "colab": {
          "base_uri": "https://localhost:8080/",
          "height": 222
        },
        "id": "0Z-HgEVLIHB0",
        "outputId": "075de5b5-0327-4f58-ae54-e598ee2c6941"
      },
      "execution_count": null,
      "outputs": [
        {
          "name": "stdout",
          "output_type": "stream",
          "text": [
            "a a\n"
          ]
        },
        {
          "output_type": "error",
          "ename": "ValueError",
          "evalue": "ignored",
          "traceback": [
            "\u001b[0;31m---------------------------------------------------------------------------\u001b[0m",
            "\u001b[0;31mValueError\u001b[0m                                Traceback (most recent call last)",
            "\u001b[0;32m<ipython-input-6-643dc808b509>\u001b[0m in \u001b[0;36m<cell line: 1>\u001b[0;34m()\u001b[0m\n\u001b[0;32m----> 1\u001b[0;31m \u001b[0ma\u001b[0m\u001b[0;34m,\u001b[0m \u001b[0mb\u001b[0m \u001b[0;34m=\u001b[0m \u001b[0minput\u001b[0m\u001b[0;34m(\u001b[0m\u001b[0;34m)\u001b[0m\u001b[0;34m\u001b[0m\u001b[0;34m\u001b[0m\u001b[0m\n\u001b[0m\u001b[1;32m      2\u001b[0m \u001b[0mprint\u001b[0m\u001b[0;34m(\u001b[0m\u001b[0ma\u001b[0m\u001b[0;34m,\u001b[0m \u001b[0mb\u001b[0m\u001b[0;34m)\u001b[0m\u001b[0;34m\u001b[0m\u001b[0;34m\u001b[0m\u001b[0m\n",
            "\u001b[0;31mValueError\u001b[0m: too many values to unpack (expected 2)"
          ]
        }
      ]
    },
    {
      "cell_type": "markdown",
      "source": [
        "Просто попросить ввести два значения не получится, к сожалению. Но эту оказию мы обойдем через некоторое время\n",
        "\n",
        "Recap:\n",
        "\n",
        "* input() - вводим данные как есть\n",
        "\n",
        "* print() - печатаем переданные данные"
      ],
      "metadata": {
        "id": "on4ZTMZUILKI"
      }
    },
    {
      "cell_type": "markdown",
      "source": [
        "Что еще важно знать про эти функции?\n",
        "\n",
        "* input(prompt) - принимает в себя некоторый prompt, который выводится пользователю для подсказки\n",
        "\n",
        "* print(s, end='\\n', sep=' ') - можно задать, как будет оканчиваться строка (по дефолту мы переводим на следующую строку), а также задать, как разные выводы будут соединяются друг с другом"
      ],
      "metadata": {
        "id": "gFigTVESxYM0"
      }
    },
    {
      "cell_type": "code",
      "source": [
        "a = input(\"Enter string:\")\n",
        "b = input(\"Enter smth:\")\n",
        "\n",
        "print(a, b)\n",
        "print(a, b, sep='')\n",
        "print(a, b, sep='', end=\" \")\n",
        "print(a, b)"
      ],
      "metadata": {
        "colab": {
          "base_uri": "https://localhost:8080/"
        },
        "id": "NKaZeujgxX5u",
        "outputId": "34ee052c-00bd-48d8-d50d-07cbd0aa2dc3"
      },
      "execution_count": null,
      "outputs": [
        {
          "output_type": "stream",
          "name": "stdout",
          "text": [
            "Enter string:aa\n",
            "Enter smth:bb\n",
            "aa bb\n",
            "aabb\n",
            "aabb aa bb\n"
          ]
        }
      ]
    },
    {
      "cell_type": "markdown",
      "source": [
        "#### Ввод-вывод из файлов"
      ],
      "metadata": {
        "id": "GPdgxoPCIaG5"
      }
    },
    {
      "cell_type": "markdown",
      "source": [
        "С вводом из файла все гораздо сложнее. Задача: как положить слона в холодильник?"
      ],
      "metadata": {
        "id": "tfu_wbvHId3C"
      }
    },
    {
      "cell_type": "markdown",
      "source": [
        "**Ответ:**\n",
        "\n",
        "1. Открываем холодильник\n",
        "\n",
        "2. Кладем слона\n",
        "\n",
        "3. Закрываем холодильник"
      ],
      "metadata": {
        "id": "oKNKF1SKI1Cu"
      }
    },
    {
      "cell_type": "markdown",
      "source": [
        "К чему бы это все? Как считать данные с файла?\n",
        "\n",
        "1. Открыть файл\n",
        "\n",
        "2. Считать данные\n",
        "\n",
        "3. Закрыть файл\n",
        "\n",
        "Логика абсолютно такая же!"
      ],
      "metadata": {
        "id": "lb8PpfpLJBfT"
      }
    },
    {
      "cell_type": "markdown",
      "source": [
        "Шаг 1. Открываем файл\n",
        "\n",
        "В этом нам поможет функция open(file, mode, encoding) (на самом деле здесь есть еще несколько переменных, но мы остановимся пока только на этих)\n",
        "\n",
        "Что здесь есть?\n",
        "\n",
        "* file - путь до файла (что брать)\n",
        "\n",
        "* mode - что мы хотим с ним делать (есть 4 важных буквы: r (read), w (write), r+ (read+write), a (add))\n",
        "\n",
        "* encoding - кодировка (почему это важно - очень часто файлы с русскими буквами могут считываться как какая-то фигня. В данном случае, скорее всего, там кодировка не utf-8, как обычно, а cp-1252, привет, Винда)"
      ],
      "metadata": {
        "id": "_Q4j-hTkJOFd"
      }
    },
    {
      "cell_type": "code",
      "source": [
        "f = open(\"file.txt\", 'r') # открываем файл file.txt, хотим его читать\n",
        "f"
      ],
      "metadata": {
        "colab": {
          "base_uri": "https://localhost:8080/"
        },
        "id": "XIoaBaKCWCXG",
        "outputId": "33b78728-3a83-4f3e-8afb-ddd8061cb49e"
      },
      "execution_count": null,
      "outputs": [
        {
          "output_type": "execute_result",
          "data": {
            "text/plain": [
              "<_io.TextIOWrapper name='file.txt' mode='r' encoding='UTF-8'>"
            ]
          },
          "metadata": {},
          "execution_count": 7
        }
      ]
    },
    {
      "cell_type": "markdown",
      "source": [
        "Что мы получили по итогу? Если очень просто, то мы установили **файловый поток** (по сути это некоторая связь между нашей программой и файлом), с помощью которого мы можем обращаться к тому, что находится внутри файла.\n",
        "\n",
        "Представьте себе, что мы будто в Гугл Доке, в котором мы поставили курсор, с помощью которого будем считывать. Мы можем двигать курсор, что-то считывать, что-то записывать (если открываем на чтение/добавление)\n",
        "\n",
        "Но про это более подробно мы поговорим в следующий раз)"
      ],
      "metadata": {
        "id": "esZ2V7eAWWys"
      }
    },
    {
      "cell_type": "markdown",
      "source": [
        "Шаг 2. Считываем данные\n",
        "\n",
        "Сейчас мы рассмотрим 3 самых простых метода для чтения, про более изощренные вещи мы поговорим на следующей паре. Что умеем?\n",
        "\n",
        "* readline() - прочти линию (до перевода строки)\n",
        "\n",
        "* readlines() - прочти все линии\n",
        "\n",
        "* read(size) - прочитай ровно size элементов (если не указывать, то прочтем все, что есть)\n",
        "\n",
        "В чем разница между readline() и readlines()? А вот в чем:"
      ],
      "metadata": {
        "id": "pSoq3aTvW74x"
      }
    },
    {
      "cell_type": "code",
      "source": [
        "a = f.read()\n",
        "print(a)\n",
        "f.close()\n",
        "f = open(\"file.txt\", 'r')\n",
        "b = f.readlines()\n",
        "print(b)\n",
        "f.close()"
      ],
      "metadata": {
        "colab": {
          "base_uri": "https://localhost:8080/"
        },
        "id": "F8RMaE9OWME5",
        "outputId": "8dc7ef4f-9aba-4b7c-df72-14c77a1d7181"
      },
      "execution_count": null,
      "outputs": [
        {
          "output_type": "stream",
          "name": "stdout",
          "text": [
            "hello World\n",
            "Python is cool\n",
            "a b c\n",
            "['hello World\\n', 'Python is cool\\n', 'a b c']\n"
          ]
        }
      ]
    },
    {
      "cell_type": "code",
      "source": [
        "f = open(\"file.txt\", 'r')\n",
        "c = f.readline()\n",
        "print(c)\n",
        "d = f.readline()\n",
        "print(d)"
      ],
      "metadata": {
        "colab": {
          "base_uri": "https://localhost:8080/"
        },
        "id": "eiIivagDZGBT",
        "outputId": "d5485c09-2642-4a3d-c8a9-9796887d3af2"
      },
      "execution_count": null,
      "outputs": [
        {
          "output_type": "stream",
          "name": "stdout",
          "text": [
            "hello World\n",
            "\n",
            "Python is cool\n",
            "\n"
          ]
        }
      ]
    },
    {
      "cell_type": "code",
      "source": [
        "f.close()"
      ],
      "metadata": {
        "id": "p8IC0M4WZMLX"
      },
      "execution_count": null,
      "outputs": []
    },
    {
      "cell_type": "markdown",
      "source": [
        "Шаг 3. Закрываем файл\n",
        "\n",
        "Помните, что мы установили поток (или связь) между программой и файлом. Это жрет ресурсы (потому что это надо хранить и поддерживать). Поэтому в тот момент, когда мы закончили работать с файлом (считали или записали все, что нам надо), необходимо связь **закрыть** (иначе будет протекать, представьте себе, что будет, если оставить холодильник открытым)\n",
        "\n",
        "По логике вещей, если открываем с помощью функции open(), то закрываем с помощью метода close(), здесь все просто, ничего другого передавать не надо"
      ],
      "metadata": {
        "id": "1GPuf3u9W_Zx"
      }
    },
    {
      "cell_type": "code",
      "source": [
        "f.close() #закрыли, живем и радуемся"
      ],
      "metadata": {
        "id": "-Q4WOOdlXsdU"
      },
      "execution_count": null,
      "outputs": []
    },
    {
      "cell_type": "markdown",
      "source": [
        "Recap:\n",
        "\n",
        "* open() - считать\n",
        "\n",
        "* read(), readline(), readlines() - считать данные\n",
        "\n",
        "* close() - закрыть"
      ],
      "metadata": {
        "id": "nuBtUmjuXyaC"
      }
    },
    {
      "cell_type": "markdown",
      "source": [
        "## Типы данных"
      ],
      "metadata": {
        "id": "wIQuzy4mZQGS"
      }
    },
    {
      "cell_type": "markdown",
      "source": [
        "Ну супер, мы умеем что-то считывать и умеем что-то выводить. Но как будто что-то теряется...\n",
        "\n",
        "А обрабатывать как? А что вообще делать? Мы получили какие-то строчки и на этом все. Теперь стоит поговорить про типы данных, которые у нас есть и как они друг с другом работают\n",
        "\n",
        "Если вы учили, например, C++ или Pascal ранее, то могли увидеть большую разницу между тем, как здесь происходит инициализация переменных и как она происходит там: **мы не указываем тип переменной**\n",
        "\n",
        "А почему? А потому что Python - это язык с *динамической типизацией* (соответственно, C++ имеет *статическую типизацию*). Что это значит? Это значит, что тип данных определяется во время присваивания значения. Поэтому возможно сделать вот так:"
      ],
      "metadata": {
        "id": "bWn-pBAaZWFh"
      }
    },
    {
      "cell_type": "code",
      "source": [
        "a = 5 # здесь лежит число\n",
        "print(a)\n",
        "a = 'hello' # здесь лежит строка\n",
        "print(a)"
      ],
      "metadata": {
        "colab": {
          "base_uri": "https://localhost:8080/"
        },
        "id": "GwQW_FnKaNqu",
        "outputId": "5ed4a88c-c767-4022-de22-efac7c4cd395"
      },
      "execution_count": null,
      "outputs": [
        {
          "output_type": "stream",
          "name": "stdout",
          "text": [
            "5\n",
            "hello\n"
          ]
        }
      ]
    },
    {
      "cell_type": "markdown",
      "source": [
        "Ну хорошо, он там чет наколдовал, а как мне понять, какой тип лежит? Очень просто - есть функция type()!"
      ],
      "metadata": {
        "id": "qSYuE2CtbXNx"
      }
    },
    {
      "cell_type": "code",
      "source": [
        "a = 5 # здесь лежит число\n",
        "print(a, type(a))\n",
        "a = 'hello' # здесь лежит строка\n",
        "print(a, type(a))"
      ],
      "metadata": {
        "colab": {
          "base_uri": "https://localhost:8080/"
        },
        "id": "nBuc9jK_bfZ4",
        "outputId": "58504d1c-6925-4a60-dc60-1f2f5798f3a5"
      },
      "execution_count": null,
      "outputs": [
        {
          "output_type": "stream",
          "name": "stdout",
          "text": [
            "5 <class 'int'>\n",
            "hello <class 'str'>\n"
          ]
        }
      ]
    },
    {
      "cell_type": "markdown",
      "source": [
        "Вуаля, в одном месте число, в другом строка.\n",
        "\n",
        "Какие типы данных есть в Python и что с ними можно делать?"
      ],
      "metadata": {
        "id": "ILeN8ZAObigU"
      }
    },
    {
      "cell_type": "markdown",
      "source": [
        "#### Логическая переменная (Bool)"
      ],
      "metadata": {
        "id": "Kv9m13i-gtNO"
      }
    },
    {
      "cell_type": "markdown",
      "source": [
        "Самый простой тип, который принимает значения True и False. С точки зрения чисел 0 - это False, все остальное - это True (про приведение типов чуть позже поговорим)"
      ],
      "metadata": {
        "id": "PoLKtSfo7G_6"
      }
    },
    {
      "cell_type": "code",
      "source": [
        "a = True\n",
        "print(a)\n",
        "a = False\n",
        "print(a)"
      ],
      "metadata": {
        "colab": {
          "base_uri": "https://localhost:8080/"
        },
        "id": "Z_AB6IO07MIm",
        "outputId": "eb88f9ce-d738-4b34-f7c3-b292a66f6822"
      },
      "execution_count": null,
      "outputs": [
        {
          "output_type": "stream",
          "name": "stdout",
          "text": [
            "True\n",
            "False\n"
          ]
        }
      ]
    },
    {
      "cell_type": "markdown",
      "source": [
        "#### Int, Float"
      ],
      "metadata": {
        "id": "oVX882ERbpBA"
      }
    },
    {
      "cell_type": "markdown",
      "source": [
        "Числа (целое или с плавающей точкой). В чем разница? В том, как хранится (можно посмотреть [вот тут](https://ru.wikipedia.org/wiki/Число_с_плавающей_запятой)). Давайте разбираться по частям:"
      ],
      "metadata": {
        "id": "AZTyrBVPbzN3"
      }
    },
    {
      "cell_type": "code",
      "source": [
        "a = 5\n",
        "b = 1.12\n",
        "print(type(a), type(b))"
      ],
      "metadata": {
        "colab": {
          "base_uri": "https://localhost:8080/"
        },
        "id": "Yx9QhmxMbw3h",
        "outputId": "0c5c1257-937f-457d-a193-abaa9a50133d"
      },
      "execution_count": null,
      "outputs": [
        {
          "output_type": "stream",
          "name": "stdout",
          "text": [
            "<class 'int'> <class 'float'>\n"
          ]
        }
      ]
    },
    {
      "cell_type": "markdown",
      "source": [
        "Что можно делать с целым числом? Арифметические вычисления и взятие модуля!"
      ],
      "metadata": {
        "id": "QKR4NNuZcQFg"
      }
    },
    {
      "cell_type": "code",
      "source": [
        "a = 5\n",
        "b = 10\n",
        "\n",
        "print(a + b) #сложение\n",
        "print(a - b) #вычитание\n",
        "print(a * b) #умножение\n",
        "print(abs(-a))"
      ],
      "metadata": {
        "colab": {
          "base_uri": "https://localhost:8080/"
        },
        "id": "bNZ3Lx0qcXhp",
        "outputId": "5de1378f-20e5-4cef-b1c6-43d9345575ef"
      },
      "execution_count": null,
      "outputs": [
        {
          "output_type": "stream",
          "name": "stdout",
          "text": [
            "15\n",
            "-5\n",
            "50\n",
            "5\n"
          ]
        }
      ]
    },
    {
      "cell_type": "markdown",
      "source": [
        "Особо надо посмотреть на деление:"
      ],
      "metadata": {
        "id": "eMEq2HjWch4X"
      }
    },
    {
      "cell_type": "code",
      "source": [
        "print(b / a, type(b / a)) # реальное деление (получается float)\n",
        "print(b // a, type(b // a)) # целочисленное деление (получается int)\n",
        "print(a % b, type(a % b)) # остаток от деления (получается int)"
      ],
      "metadata": {
        "colab": {
          "base_uri": "https://localhost:8080/"
        },
        "id": "gpmKrRuVcmjd",
        "outputId": "a60084c8-2561-4ce2-fbcd-3853d3d81a8b"
      },
      "execution_count": null,
      "outputs": [
        {
          "output_type": "stream",
          "name": "stdout",
          "text": [
            "2.0 <class 'float'>\n",
            "2 <class 'int'>\n",
            "5 <class 'int'>\n"
          ]
        }
      ]
    },
    {
      "cell_type": "markdown",
      "source": [
        "Можно ли делать целочисленное деление на float? Шок, но можно!"
      ],
      "metadata": {
        "id": "cvDbD2lydAil"
      }
    },
    {
      "cell_type": "code",
      "source": [
        "a = 5\n",
        "b = 1.12\n",
        "print(a // b)\n",
        "print(a % b)"
      ],
      "metadata": {
        "colab": {
          "base_uri": "https://localhost:8080/"
        },
        "id": "F6Hsr8DNdFvq",
        "outputId": "fb316738-2ec3-4652-84e8-e9a637c7805c"
      },
      "execution_count": null,
      "outputs": [
        {
          "output_type": "stream",
          "name": "stdout",
          "text": [
            "4.0\n",
            "0.5199999999999996\n"
          ]
        }
      ]
    },
    {
      "cell_type": "markdown",
      "source": [
        "Как понимать остаток при делении и целочисленное деление? (Это поможет на курсе дискретной математики)\n",
        "\n",
        "Смотрите, вспоминаем школьную программу. Можно делить как есть (условно, 7 / 3 = 2,(3)). А моооожно делить с остатком:\n",
        "\n",
        "$$7 / 3 = 2 \\text{ (остаток 1)} $$\n",
        "\n",
        "И по существу будет, что:"
      ],
      "metadata": {
        "id": "sbyylRr8dZYk"
      }
    },
    {
      "cell_type": "code",
      "source": [
        "print(7 // 3, 7 % 3) ##о, ура, прям как в формуле"
      ],
      "metadata": {
        "colab": {
          "base_uri": "https://localhost:8080/"
        },
        "id": "icw_pIlld9P6",
        "outputId": "eb529cc0-8d4a-4f73-f41e-215a064dffd9"
      },
      "execution_count": null,
      "outputs": [
        {
          "output_type": "stream",
          "name": "stdout",
          "text": [
            "2 1\n"
          ]
        }
      ]
    },
    {
      "cell_type": "markdown",
      "source": [
        "Если пока сложновато воспринимать, то попробуйте дома посчитать результаты следующих делений с остатком:\n",
        "\n",
        "1. $15 / 5$\n",
        "\n",
        "2. $15 / 6$\n",
        "\n",
        "3. $-15 / 6$ (hint: остаток - это всегда неотрицательное число)"
      ],
      "metadata": {
        "id": "A2CsekAmeJAU"
      }
    },
    {
      "cell_type": "markdown",
      "source": [
        "Возведение в степень (как оно реализовано - [Тык](https://stackoverflow.com/questions/5246856/how-did-python-implement-the-built-in-function-pow)\n",
        "):"
      ],
      "metadata": {
        "id": "spnlVYNIe3PT"
      }
    },
    {
      "cell_type": "code",
      "source": [
        "a = 5\n",
        "b = 2.2\n",
        "print(a ** b) ## с float тоже работает"
      ],
      "metadata": {
        "colab": {
          "base_uri": "https://localhost:8080/"
        },
        "id": "27XOSsTLe292",
        "outputId": "782d5274-81c0-4c2c-fbb3-66cc2e1c3a3e"
      },
      "execution_count": null,
      "outputs": [
        {
          "output_type": "stream",
          "name": "stdout",
          "text": [
            "34.493241536530384\n"
          ]
        }
      ]
    },
    {
      "cell_type": "markdown",
      "source": [
        "Отдельный бонус - всегда можно изменять уже текущую переменную, для этого достаточно сделать следующее:"
      ],
      "metadata": {
        "id": "97Fv4LGyfJQx"
      }
    },
    {
      "cell_type": "code",
      "source": [
        "a = 5\n",
        "b = 2\n",
        "a += b\n",
        "print(a)\n",
        "a -= b\n",
        "print(a)\n",
        "a *= b\n",
        "print(a)\n",
        "a //= b\n",
        "print(a)\n",
        "a **= b\n",
        "print(a)"
      ],
      "metadata": {
        "colab": {
          "base_uri": "https://localhost:8080/"
        },
        "id": "BwlkZRMwfQHx",
        "outputId": "4b9305b8-87cb-47f1-e6e9-8dd49880843d"
      },
      "execution_count": null,
      "outputs": [
        {
          "output_type": "stream",
          "name": "stdout",
          "text": [
            "7\n",
            "5\n",
            "10\n",
            "5\n",
            "25\n"
          ]
        }
      ]
    },
    {
      "cell_type": "markdown",
      "source": [
        "### Списки"
      ],
      "metadata": {
        "id": "zl8zLUoIgf0b"
      }
    },
    {
      "cell_type": "markdown",
      "source": [
        "Что такое список? Это некоторая упорядоченная последовательность элементов, каждый из которых имеет свой порядковый номер (или **индекс**). Скорее всего, в других ЯП вы также их могли видеть (например vector в C++)\n",
        "\n",
        "Списки инициализируются с помощью квадратных скобок, какиз-то ограничений на то, что все элементы должны быть одного типа, нет. Давайте на примере:"
      ],
      "metadata": {
        "id": "SL_Z053dsVw9"
      }
    },
    {
      "cell_type": "code",
      "source": [
        "a = [1, 2, 3, 3.1415]\n",
        "print(a)"
      ],
      "metadata": {
        "colab": {
          "base_uri": "https://localhost:8080/"
        },
        "id": "vBDzp7qYs_7c",
        "outputId": "b3d8e6fc-b6e0-4777-9df5-2c9f0379452d"
      },
      "execution_count": null,
      "outputs": [
        {
          "output_type": "stream",
          "name": "stdout",
          "text": [
            "[1, 2, 3, 3.1415]\n"
          ]
        }
      ]
    },
    {
      "cell_type": "code",
      "source": [
        "## Нумерация идет с нуля! Также поддерживаются отрицательные индексы (считаем будто с конца)\n",
        "\n",
        "print(a[0], type(a[0]))\n",
        "print(a[-1], type(a[-1]))"
      ],
      "metadata": {
        "colab": {
          "base_uri": "https://localhost:8080/"
        },
        "id": "pYrZP038tD7h",
        "outputId": "88bb990d-e319-4312-d655-5086563fd330"
      },
      "execution_count": null,
      "outputs": [
        {
          "output_type": "stream",
          "name": "stdout",
          "text": [
            "1 <class 'int'>\n",
            "3.1415 <class 'float'>\n"
          ]
        }
      ]
    },
    {
      "cell_type": "markdown",
      "source": [
        "Супер! Мы умеем итерироваться по списку (проходить по нему) более изощренными способами. Допустим, что мы хотим вывести только четные элементы, как же это сделать?"
      ],
      "metadata": {
        "id": "Ulf-KHJ8tPJT"
      }
    },
    {
      "cell_type": "code",
      "source": [
        "a = [1, 2, 3, 3.1415]\n",
        "a[::2] #Хоба!"
      ],
      "metadata": {
        "colab": {
          "base_uri": "https://localhost:8080/"
        },
        "id": "ufbZZ6EvyqSv",
        "outputId": "34c819ff-0ff0-482b-f400-c43293eb21cb"
      },
      "execution_count": null,
      "outputs": [
        {
          "output_type": "execute_result",
          "data": {
            "text/plain": [
              "[1, 3]"
            ]
          },
          "metadata": {},
          "execution_count": 30
        }
      ]
    },
    {
      "cell_type": "markdown",
      "source": [
        "Общая структура индексации:\n",
        "\n",
        "$$a[i:j::k]$$\n",
        "\n",
        "Переводим на русский:\n",
        "\n",
        "Возьми элементы с i-го (включительно) по j-ый (невключительно) с шагом k\n",
        "\n",
        "Попробуйте придумать как вытащить только нечетные элементы"
      ],
      "metadata": {
        "id": "-mrASeG8yycQ"
      }
    },
    {
      "cell_type": "markdown",
      "source": [
        "Помним о том, что список - это по сути контейнер, где в каждом ящичке хранится свое собственное значение, а значит, его можно изменять! (опять-таки с помощью индексации)"
      ],
      "metadata": {
        "id": "pe-EPu3lzfPt"
      }
    },
    {
      "cell_type": "code",
      "source": [
        "a[0] = 15\n",
        "print(a)"
      ],
      "metadata": {
        "colab": {
          "base_uri": "https://localhost:8080/"
        },
        "id": "ylS7V4AszqOD",
        "outputId": "10ed1222-7407-4616-8a2b-cf004c4ac189"
      },
      "execution_count": null,
      "outputs": [
        {
          "output_type": "stream",
          "name": "stdout",
          "text": [
            "[15, 2, 3, 3.1415]\n"
          ]
        }
      ]
    },
    {
      "cell_type": "markdown",
      "source": [
        "А допустим, что мы хотим не изменить, а что-то добавить. Как это сделать? С помощью метода append():"
      ],
      "metadata": {
        "id": "msf66yajzyCj"
      }
    },
    {
      "cell_type": "code",
      "source": [
        "a = [1, 2, 3, 3.1415]\n",
        "a.append(4) #если хотим добавить только 1 элемент\n",
        "print(a)\n",
        "a.extend([1, 2, 3]) # если хотим добавить сразу несколько элементов\n",
        "print(a)\n",
        "print(a + [1, 2, 3]) # а еще можно вот так"
      ],
      "metadata": {
        "colab": {
          "base_uri": "https://localhost:8080/"
        },
        "id": "IXFfCwEiz3TT",
        "outputId": "75f29f93-3c9f-46af-c8fc-ab8d0374bbb0"
      },
      "execution_count": null,
      "outputs": [
        {
          "output_type": "stream",
          "name": "stdout",
          "text": [
            "[1, 2, 3, 3.1415, 4]\n",
            "[1, 2, 3, 3.1415, 4, 1, 2, 3]\n",
            "[1, 2, 3, 3.1415, 4, 1, 2, 3, 1, 2, 3]\n"
          ]
        }
      ]
    },
    {
      "cell_type": "markdown",
      "source": [
        "А еще можно продублировать с помощью умножения! (на самом деле опасное действие, но позже обсудим почему)"
      ],
      "metadata": {
        "id": "oF_Ry2D33TK3"
      }
    },
    {
      "cell_type": "code",
      "source": [
        "a * 3"
      ],
      "metadata": {
        "colab": {
          "base_uri": "https://localhost:8080/"
        },
        "id": "3XwvJqSC3WGO",
        "outputId": "a9142248-6e22-4a38-8e23-cddfa175060a"
      },
      "execution_count": null,
      "outputs": [
        {
          "output_type": "execute_result",
          "data": {
            "text/plain": [
              "[1, 1, 2, 2, 3, 3, 3.1415, 1, 1, 2, 2, 3, 3, 3.1415, 1, 1, 2, 2, 3, 3, 3.1415]"
            ]
          },
          "metadata": {},
          "execution_count": 50
        }
      ]
    },
    {
      "cell_type": "markdown",
      "source": [
        "А теперь представим, что мы хотим добавить не в конец, а допустим, в середину. Так тоже умеем, но для этого нужен insert(num, elem) - добавь на позицию num элемент elem"
      ],
      "metadata": {
        "id": "B7b0iOwe0m-4"
      }
    },
    {
      "cell_type": "code",
      "source": [
        "a.insert(1, -15)\n",
        "print(a)"
      ],
      "metadata": {
        "colab": {
          "base_uri": "https://localhost:8080/"
        },
        "id": "EUt-QY5V0yVJ",
        "outputId": "7d517b7b-d53e-4fbb-b6b8-53b2799419a4"
      },
      "execution_count": null,
      "outputs": [
        {
          "output_type": "stream",
          "name": "stdout",
          "text": [
            "[1, -15, 2, 3, 3.1415, 4, 1, 2, 3]\n"
          ]
        }
      ]
    },
    {
      "cell_type": "markdown",
      "source": [
        "Ну окей, мы чет много всего добавили, настало время удалять. Удалять можно несколькими способами:\n",
        "\n",
        "* pop(num) - удали элемент и верни его (num - с какой позиции забрать, если не указываем, то будет последний)\n",
        "\n",
        "* remove(elem) - удаляем по элементу. Берет первое вхождение и удаляет его\n",
        "\n",
        "* clear() - очистить весь список"
      ],
      "metadata": {
        "id": "sY8kYa3V01aw"
      }
    },
    {
      "cell_type": "code",
      "source": [
        "print(a)\n",
        "print(a.pop())\n",
        "print(a)"
      ],
      "metadata": {
        "colab": {
          "base_uri": "https://localhost:8080/"
        },
        "id": "3_KOZ5Ry00XR",
        "outputId": "0e658f43-c8c9-4923-bb5b-4880d9a0f472"
      },
      "execution_count": null,
      "outputs": [
        {
          "output_type": "stream",
          "name": "stdout",
          "text": [
            "[1, -15, 2, 3, 3.1415, 4, 1, 2, 3]\n",
            "3\n",
            "[1, -15, 2, 3, 3.1415, 4, 1, 2]\n"
          ]
        }
      ]
    },
    {
      "cell_type": "code",
      "source": [
        "a.remove(1)\n",
        "print(a)\n",
        "a.remove(1000) # если элемента нет, то выведет ошибку\n",
        "print(a)"
      ],
      "metadata": {
        "colab": {
          "base_uri": "https://localhost:8080/",
          "height": 260
        },
        "id": "0rWuoQIg1frm",
        "outputId": "83b12d2d-3443-4f97-ba31-9c9f8e4e616d"
      },
      "execution_count": null,
      "outputs": [
        {
          "output_type": "stream",
          "name": "stdout",
          "text": [
            "[-15, 2, 3, 3.1415, 4, 2]\n"
          ]
        },
        {
          "output_type": "error",
          "ename": "ValueError",
          "evalue": "ignored",
          "traceback": [
            "\u001b[0;31m---------------------------------------------------------------------------\u001b[0m",
            "\u001b[0;31mValueError\u001b[0m                                Traceback (most recent call last)",
            "\u001b[0;32m<ipython-input-43-a3bffcd3a3d7>\u001b[0m in \u001b[0;36m<cell line: 3>\u001b[0;34m()\u001b[0m\n\u001b[1;32m      1\u001b[0m \u001b[0ma\u001b[0m\u001b[0;34m.\u001b[0m\u001b[0mremove\u001b[0m\u001b[0;34m(\u001b[0m\u001b[0;36m1\u001b[0m\u001b[0;34m)\u001b[0m\u001b[0;34m\u001b[0m\u001b[0;34m\u001b[0m\u001b[0m\n\u001b[1;32m      2\u001b[0m \u001b[0mprint\u001b[0m\u001b[0;34m(\u001b[0m\u001b[0ma\u001b[0m\u001b[0;34m)\u001b[0m\u001b[0;34m\u001b[0m\u001b[0;34m\u001b[0m\u001b[0m\n\u001b[0;32m----> 3\u001b[0;31m \u001b[0ma\u001b[0m\u001b[0;34m.\u001b[0m\u001b[0mremove\u001b[0m\u001b[0;34m(\u001b[0m\u001b[0;36m1000\u001b[0m\u001b[0;34m)\u001b[0m\u001b[0;34m\u001b[0m\u001b[0;34m\u001b[0m\u001b[0m\n\u001b[0m\u001b[1;32m      4\u001b[0m \u001b[0mprint\u001b[0m\u001b[0;34m(\u001b[0m\u001b[0ma\u001b[0m\u001b[0;34m)\u001b[0m\u001b[0;34m\u001b[0m\u001b[0;34m\u001b[0m\u001b[0m\n",
            "\u001b[0;31mValueError\u001b[0m: list.remove(x): x not in list"
          ]
        }
      ]
    },
    {
      "cell_type": "code",
      "source": [
        "a.clear()\n",
        "print(a)\n",
        "a = [1, 2, 3, 3.1415]"
      ],
      "metadata": {
        "colab": {
          "base_uri": "https://localhost:8080/"
        },
        "id": "KqLHyLaw1pDI",
        "outputId": "3961e895-efa4-4db2-a046-bdd78718051a"
      },
      "execution_count": null,
      "outputs": [
        {
          "output_type": "stream",
          "name": "stdout",
          "text": [
            "[]\n"
          ]
        }
      ]
    },
    {
      "cell_type": "markdown",
      "source": [
        "Что еще умеем делать со списками?\n",
        "\n",
        "* len(l) - вывести размер списка (сколько элементов содержит)\n",
        "\n",
        "* count(elem) - посчитай, сколько раз элемент входит в список\n",
        "\n",
        "* index(elem) - выведи индекс первого вхождения элемента (если элемента нет, то выведет ошибку)\n",
        "\n",
        "* reverse() - переверни список\n",
        "\n",
        "* sort(reverse=False) - отсортируй список (по возрастанию, если поставить reverse=True, то будет по убыванию). Аналогично есть функция sorted(), которая делает то же самое, но только не меняет список\n",
        "\n",
        "* max/min(a) - найти максимум/минимум в списке"
      ],
      "metadata": {
        "id": "ulKM1FGH1xVR"
      }
    },
    {
      "cell_type": "code",
      "source": [
        "a = [1, 2, 3, 3.1415, 1, 2, 3]\n",
        "print(len(a))\n",
        "print(a.count(2))\n",
        "a.reverse()\n",
        "print(a)\n",
        "a.sort()\n",
        "print(sorted(a, reverse=True), a)"
      ],
      "metadata": {
        "colab": {
          "base_uri": "https://localhost:8080/"
        },
        "id": "SrBPAnq-1_Rd",
        "outputId": "d452af5d-8b14-4068-ec29-1b1efe63db68"
      },
      "execution_count": null,
      "outputs": [
        {
          "output_type": "stream",
          "name": "stdout",
          "text": [
            "7\n",
            "2\n",
            "[3, 2, 1, 3.1415, 3, 2, 1]\n",
            "[3.1415, 3, 3, 2, 2, 1, 1] [1, 1, 2, 2, 3, 3, 3.1415]\n"
          ]
        }
      ]
    },
    {
      "cell_type": "markdown",
      "source": [
        "### Строки"
      ],
      "metadata": {
        "id": "LKo9G3grfr4n"
      }
    },
    {
      "cell_type": "markdown",
      "source": [
        "Любое ввод, который мы сделаем, является строкой (string - это по сути последовательность символов). Если мы хотим самостоятельно ввести строку, то она должна быть в одинарных или двойных кавычках (для Python это одно и то же, главное, чтобы начало и конец совпадали)"
      ],
      "metadata": {
        "id": "IqhrncS7f1vn"
      }
    },
    {
      "cell_type": "code",
      "source": [
        "s = \"4594520\"\n",
        "print(type(s))"
      ],
      "metadata": {
        "colab": {
          "base_uri": "https://localhost:8080/"
        },
        "id": "qRm9Z2vZfvP0",
        "outputId": "d065d4f3-548e-423c-a5a3-c9415722f347"
      },
      "execution_count": null,
      "outputs": [
        {
          "output_type": "stream",
          "name": "stdout",
          "text": [
            "<class 'str'>\n"
          ]
        }
      ]
    },
    {
      "cell_type": "markdown",
      "source": [
        "Если говорить по-простому, то строка - это список из символов. А это значит, что операции индексации, сложения и умножения, о которых мы говорили, работают!"
      ],
      "metadata": {
        "id": "gEvmNW6q3LsK"
      }
    },
    {
      "cell_type": "code",
      "source": [
        "print(s[::2])\n",
        "print(s + \"123\")\n",
        "print(s * 2)"
      ],
      "metadata": {
        "colab": {
          "base_uri": "https://localhost:8080/"
        },
        "id": "g5F_6WW93ZnB",
        "outputId": "c5da5ced-2fb2-4a84-8e3d-040542f85a4e"
      },
      "execution_count": null,
      "outputs": [
        {
          "output_type": "stream",
          "name": "stdout",
          "text": [
            "4950\n",
            "4594520123\n",
            "45945204594520\n"
          ]
        }
      ]
    },
    {
      "cell_type": "markdown",
      "source": [
        "А вот с методами сложнее (это же все-таки другой тип данных). Что умеем?\n",
        "\n",
        "Методов и функций у string достаточно много (можно все найти [вот тут](https://docs.python.org/3/library/stdtypes.html#string-methods)), перечислим только самые важные из них:\n",
        "\n",
        "* len(s) - выведи длину строки\n",
        "\n",
        "* s.count(ss) - посчитать число подстрок внутри строки (считаем максимально по-простому, без пересечений)\n",
        "\n",
        "* s.find(ss), s.rfind(ss) - найти первое вхождение подстроки в строке (выводит индекс первого вхождения, если нет, то выводит -1)\n",
        "\n",
        "* s.isdigit() - проверка, являются ли все элементы в строке числами (можно использовать для проверки конвертации строки в число)\n",
        "\n",
        "* s.islower(), s.isupper() - проверка, являются ли все буквы заглавными или строчными\n",
        "\n",
        "* join() - соединить список строк в одну строку\n",
        "\n",
        "* s.strip(ss) - удалить все символы из строки ss в s\n",
        "\n",
        "* s.replace(s_a, s_b) - заменить подстроку s_a на s_b\n",
        "\n",
        "* s.split(ss) - разбить по подстроке ss строку s (если ничего не указано, то разобьет просто по пробелам)"
      ],
      "metadata": {
        "id": "rTZ-1gUF3swo"
      }
    },
    {
      "cell_type": "markdown",
      "source": [
        "Многа букаф, пробуем:"
      ],
      "metadata": {
        "id": "pY9_Y21pi992"
      }
    },
    {
      "cell_type": "code",
      "source": [
        "s = 'I love python (maybe)'\n",
        "s_1 = '1234'\n",
        "\n",
        "print(len(s))\n",
        "print(len(s_1))"
      ],
      "metadata": {
        "colab": {
          "base_uri": "https://localhost:8080/"
        },
        "id": "2_joodmkjAfr",
        "outputId": "f8dad7e3-126e-4c8e-9772-40504b5f7775"
      },
      "execution_count": null,
      "outputs": [
        {
          "output_type": "stream",
          "name": "stdout",
          "text": [
            "21\n",
            "4\n"
          ]
        }
      ]
    },
    {
      "cell_type": "code",
      "source": [
        "print(s.count('o'))\n",
        "print(s.find(\"love\"))\n",
        "print(s.rfind('o'))\n",
        "print(s.find('-'))\n",
        "print(s.isdigit(), s_1.isdigit())\n",
        "print(s.islower(), s.isupper())\n",
        "full_s = ' '.join([s, s_1])\n",
        "print(full_s)\n",
        "print(full_s.split())"
      ],
      "metadata": {
        "colab": {
          "base_uri": "https://localhost:8080/"
        },
        "id": "FCEtSAQCjKYx",
        "outputId": "50657ec2-d22e-4fee-897a-c5e6aca6073c"
      },
      "execution_count": null,
      "outputs": [
        {
          "output_type": "stream",
          "name": "stdout",
          "text": [
            "2\n",
            "2\n",
            "11\n",
            "-1\n",
            "False True\n",
            "False False\n",
            "I love python (maybe) 1234\n",
            "['I', 'love', 'python', '(maybe)', '1234']\n"
          ]
        }
      ]
    },
    {
      "cell_type": "markdown",
      "source": [
        "### Кортежи"
      ],
      "metadata": {
        "id": "KWlJocc0gj8T"
      }
    },
    {
      "cell_type": "markdown",
      "source": [
        "Такой же фрукт, что и список, но под другим соусом. В чем разница: кортеж - **неизменяемый тип данных** (в отличие от списка). Зачем это нужно? Поговорим, когда будем обсуждать словари и множества\n",
        "\n",
        "Что значит неизменяемый? Давайте пробовать:"
      ],
      "metadata": {
        "id": "y1lk5xPt4U4B"
      }
    },
    {
      "cell_type": "code",
      "source": [
        "a = (1, 2, 3) #создается с помощью круглых скобок или же tuple()\n",
        "print(a[-1])"
      ],
      "metadata": {
        "colab": {
          "base_uri": "https://localhost:8080/"
        },
        "id": "yBjyQNbi4l1t",
        "outputId": "fcf3871b-2ed2-4199-9ce1-9811d6d3d1d9"
      },
      "execution_count": null,
      "outputs": [
        {
          "output_type": "stream",
          "name": "stdout",
          "text": [
            "3\n"
          ]
        }
      ]
    },
    {
      "cell_type": "markdown",
      "source": [
        "Синтаксис такой же, но давайте попробуем изменить значение элемента:"
      ],
      "metadata": {
        "id": "HJ4Sh6AH4sNN"
      }
    },
    {
      "cell_type": "code",
      "source": [
        "a[1] = 15"
      ],
      "metadata": {
        "colab": {
          "base_uri": "https://localhost:8080/",
          "height": 185
        },
        "id": "lZbEYvOE4vob",
        "outputId": "d511ffa2-179e-4e4f-ddf2-36d9b97a3d74"
      },
      "execution_count": null,
      "outputs": [
        {
          "output_type": "error",
          "ename": "TypeError",
          "evalue": "ignored",
          "traceback": [
            "\u001b[0;31m---------------------------------------------------------------------------\u001b[0m",
            "\u001b[0;31mTypeError\u001b[0m                                 Traceback (most recent call last)",
            "\u001b[0;32m<ipython-input-56-b003d14ba641>\u001b[0m in \u001b[0;36m<cell line: 1>\u001b[0;34m()\u001b[0m\n\u001b[0;32m----> 1\u001b[0;31m \u001b[0ma\u001b[0m\u001b[0;34m[\u001b[0m\u001b[0;36m1\u001b[0m\u001b[0;34m]\u001b[0m \u001b[0;34m=\u001b[0m \u001b[0;36m15\u001b[0m\u001b[0;34m\u001b[0m\u001b[0;34m\u001b[0m\u001b[0m\n\u001b[0m",
            "\u001b[0;31mTypeError\u001b[0m: 'tuple' object does not support item assignment"
          ]
        }
      ]
    },
    {
      "cell_type": "markdown",
      "source": [
        "Опа, мы не можем изменять сами значения! То есть по сути, это более жесткий вариант списка. Нет никакого append, изменния элементов, сортировки и вообще всего, что может изменить tuple. Единственное, что остается, это конкатенация (операция +)"
      ],
      "metadata": {
        "id": "JWzC5_F94yEc"
      }
    },
    {
      "cell_type": "code",
      "source": [
        "a = (1, 2, 3)\n",
        "b = (4, 5, 6)\n",
        "a + b # изменить сам tuple нельзя, он создает просто новый tuple"
      ],
      "metadata": {
        "colab": {
          "base_uri": "https://localhost:8080/"
        },
        "id": "eE_KLGqr5Dp-",
        "outputId": "01298b29-f4fc-4e3c-e01e-b11abd38be68"
      },
      "execution_count": null,
      "outputs": [
        {
          "output_type": "execute_result",
          "data": {
            "text/plain": [
              "(1, 2, 3, 4, 5, 6)"
            ]
          },
          "metadata": {},
          "execution_count": 57
        }
      ]
    },
    {
      "cell_type": "markdown",
      "source": [
        "Что можно делать? Все, что можно было в списке, но что не меняет сам список:\n",
        "\n",
        "* len() - длина\n",
        "\n",
        "* count() - подсчет элементов\n",
        "\n",
        "* index() - индекс элемента (если он есть)"
      ],
      "metadata": {
        "id": "CvjSmJRz5Ghc"
      }
    },
    {
      "cell_type": "markdown",
      "source": [
        "### Приведение типов"
      ],
      "metadata": {
        "id": "qarkDDHT5dM2"
      }
    },
    {
      "cell_type": "markdown",
      "source": [
        "Итак, у нас есть разные типы данных, и хотелось бы, чтобы один можно было приводить к другому (например, мы считали данные, это строка. Но мы знаем, что там число, хотим число!)\n",
        "\n",
        "По сути можно привести к нужному типу данных с помощью вызова следующих функций (таким же образом можно и инициализировать, если нужно что-то более конкретное):\n",
        "\n",
        "* int() - приведи к целому числу\n",
        "\n",
        "* float() - приведи к вещественному числу\n",
        "\n",
        "* string() - приведи к строке\n",
        "\n",
        "* list() - приведи к списку\n",
        "\n",
        "* tuple() - приведи к кортежу\n",
        "\n",
        "* bool() - приведи к логической переменной\n",
        "\n",
        "Если нельзя привести - то естественно, выведет ошибку)"
      ],
      "metadata": {
        "id": "oV1NutBn5lwA"
      }
    },
    {
      "cell_type": "code",
      "source": [
        "# Пример строки\n",
        "\n",
        "a = '52'\n",
        "print(int(a), float(a), list(a), tuple(a), bool(a))"
      ],
      "metadata": {
        "colab": {
          "base_uri": "https://localhost:8080/"
        },
        "id": "vvIiKi1z6H75",
        "outputId": "59049dd9-a342-45ae-f37a-74b5d3c54212"
      },
      "execution_count": null,
      "outputs": [
        {
          "output_type": "stream",
          "name": "stdout",
          "text": [
            "52 52.0 ['5', '2'] ('5', '2') True\n"
          ]
        }
      ]
    },
    {
      "cell_type": "markdown",
      "source": [
        "Что к чему нельзя привести?\n",
        "\n",
        "* string -> int, float (если это не число)\n",
        "\n",
        "Остальное в целом можно, но некоторые кейсы - на свой страх и риск)"
      ],
      "metadata": {
        "id": "7ViQXj196bcA"
      }
    },
    {
      "cell_type": "code",
      "source": [
        "a = '5,6'\n",
        "print(float(a)) #ВАЖНО! Числа с плавающей точкой должны иметь точку, а не запятую"
      ],
      "metadata": {
        "colab": {
          "base_uri": "https://localhost:8080/",
          "height": 204
        },
        "id": "LELuY8gA6wIJ",
        "outputId": "dd1b260b-21fe-4c63-d585-232fff9457bd"
      },
      "execution_count": null,
      "outputs": [
        {
          "output_type": "error",
          "ename": "ValueError",
          "evalue": "ignored",
          "traceback": [
            "\u001b[0;31m---------------------------------------------------------------------------\u001b[0m",
            "\u001b[0;31mValueError\u001b[0m                                Traceback (most recent call last)",
            "\u001b[0;32m<ipython-input-63-98b42134dc7d>\u001b[0m in \u001b[0;36m<cell line: 2>\u001b[0;34m()\u001b[0m\n\u001b[1;32m      1\u001b[0m \u001b[0ma\u001b[0m \u001b[0;34m=\u001b[0m \u001b[0;34m'5,6'\u001b[0m\u001b[0;34m\u001b[0m\u001b[0;34m\u001b[0m\u001b[0m\n\u001b[0;32m----> 2\u001b[0;31m \u001b[0mprint\u001b[0m\u001b[0;34m(\u001b[0m\u001b[0mfloat\u001b[0m\u001b[0;34m(\u001b[0m\u001b[0ma\u001b[0m\u001b[0;34m)\u001b[0m\u001b[0;34m)\u001b[0m\u001b[0;34m\u001b[0m\u001b[0;34m\u001b[0m\u001b[0m\n\u001b[0m",
            "\u001b[0;31mValueError\u001b[0m: could not convert string to float: '5,6'"
          ]
        }
      ]
    },
    {
      "cell_type": "markdown",
      "source": [
        "## Логические операторы"
      ],
      "metadata": {
        "id": "O7OiFziPgydH"
      }
    },
    {
      "cell_type": "markdown",
      "source": [
        "Теперь у нас есть типы данных, с которыми можно проделывать различные операции. Теперь следующий вопрос, который, скорее всего, возникает: а как их сравнивать?\n",
        "\n",
        "С числами все более-менее понятно как сравнивать: одно больше, одно меньше (также есть операции больше или равно, меньше или равно etc)"
      ],
      "metadata": {
        "id": "MTP635FpOyWT"
      }
    },
    {
      "cell_type": "markdown",
      "source": [
        "На самом деле сравнивать можно все типы данных внутри себя (то есть можно сравнивать списки, строки, числа etc, но только между собой). Если попробовать сранить друг с другом разные типы, то вам честно выдаст ошибку\n",
        "\n",
        "Как происходит сравнение?\n",
        "\n",
        "* Числа - тут все понятно, условное понятие больше-меньше берется в первую очередь из чисел\n",
        "\n",
        "* Строки сравниваются с помощью лексикографического порядка (то есть берется по символам, если один символ больше другого, то здесь все заканчивается и одна строка больше другой. В противном случае все продолжается до последнего символа)\n",
        "\n",
        "* Списки сравниваются поэлементно (логика как в строках)\n",
        "\n",
        "Давайте рассмотрим на примерах:"
      ],
      "metadata": {
        "id": "nF-0KkPKPTpw"
      }
    },
    {
      "cell_type": "code",
      "source": [
        "a = 1\n",
        "b = 2\n",
        "c = 1\n",
        "\n",
        "print(a > b) # больше\n",
        "print(a >= c) # больше или равно\n",
        "print(a < b) # меньше\n",
        "print(a <= c) # меньше или равно\n",
        "print(a == c) # равенство (обратите внимание - два знака равно)\n",
        "print(a != b) # неравенство"
      ],
      "metadata": {
        "id": "FUaYjfRBPJxC"
      },
      "execution_count": null,
      "outputs": []
    },
    {
      "cell_type": "markdown",
      "source": [
        "Окей, у нас есть одно логическое выражение (сравнили). А можно ли несколько? Конечно можно! Для этого есть слова:\n",
        "\n",
        "* and - логическое И\n",
        "\n",
        "* or - логическое ИЛИ\n",
        "\n",
        "* not - логическое НЕ"
      ],
      "metadata": {
        "id": "C7wW4fDjRYKg"
      }
    },
    {
      "cell_type": "code",
      "source": [
        "print(a == c and 0 == 0)\n",
        "print(a != c or a != b)\n",
        "print(not a)"
      ],
      "metadata": {
        "colab": {
          "base_uri": "https://localhost:8080/"
        },
        "id": "fy28v_P0RknG",
        "outputId": "b64c96a7-8ccb-4130-daf7-c6a8e5247dfd"
      },
      "execution_count": null,
      "outputs": [
        {
          "output_type": "stream",
          "name": "stdout",
          "text": [
            "True\n",
            "True\n",
            "False\n"
          ]
        }
      ]
    },
    {
      "cell_type": "markdown",
      "source": [
        "## PEP-8"
      ],
      "metadata": {
        "id": "wdHy-v1M2IzM"
      }
    },
    {
      "cell_type": "markdown",
      "source": [
        "Великий и ужасный PEP-8 или как же правильно писать код. Ссылка вот [тут](https://peps.python.org/pep-0008/)\n",
        "\n",
        "Отдельная просьба ко всем: ПРОЧИТАТЬ его. Это достаточно маленький документ, который вводит определенные ограничения к тому, как надо писать (Зачем? Потому что \"readability counts\")\n",
        "\n",
        "С одной стороны, нет определенных запретов писать по-другому (тем не менее, в контестах будет стоять Style Guide и если вы будете писать плохо, то оно будет баниться). С другой стороны, эти общие договоренности нужны для того, чтобы когда мы открываем код товарища/коллеги/друга мы ожидали хотя бы немного общие рамки"
      ],
      "metadata": {
        "id": "5arjEWpV2NAh"
      }
    },
    {
      "cell_type": "markdown",
      "source": [
        "Выжимка из PEP-8:\n",
        "\n",
        "* В качестве отступов используются 4 пробела (не табы! Внутри того Google Colab это настраивается, что таб = пробелы, а не табы). Дополнительно: Python не допускает использовать и табы, и пробелы в одном коде для разделения\n",
        "\n",
        "* Максимальная длина строки - 79 символов. Если же получается больше, то следует использовать разделитель \\ и переносить на другую строчку:"
      ],
      "metadata": {
        "id": "GdIhecWG2-WN"
      }
    },
    {
      "cell_type": "code",
      "source": [
        "s = 123 \\\n",
        "  + 456\n",
        "print(s)"
      ],
      "metadata": {
        "colab": {
          "base_uri": "https://localhost:8080/"
        },
        "id": "2qSsuIH435vs",
        "outputId": "af57f8fc-6cc6-4424-a2fb-d08eb8b85c7b"
      },
      "execution_count": 2,
      "outputs": [
        {
          "output_type": "stream",
          "name": "stdout",
          "text": [
            "579\n"
          ]
        }
      ]
    },
    {
      "cell_type": "markdown",
      "source": [
        "* Функции и классы отделяются двумя пустыми строчками, внутри класса методы отделяются одной пустой строкой\n",
        "\n",
        "* Все импорты библиотек находятся сверху, на каждую бибилотеку отдельно свой импорт\n",
        "\n",
        "* Одинарные или двойные кавычки в строках - без разница, главное использовать их консистентно\n",
        "\n",
        "* После запятой, двоеточием и точкой с запятой всегда идет пробел (перед не надо). Исключение: если это опреатор (как в срезах), либо после идет закрывающаяся скобка)\n",
        "\n",
        "* Сравнения,присваивания (=, >, < etc), операторы (+, -, * etc) всегда имеют пробел перед и после оператора. Есть рекомендация ставить пробелы по приоритету операции, но я такое вижу не часто\n",
        "\n",
        "* Циклы и условия ставить в одну строку **нежелательно**\n",
        "\n",
        "* Лучше иметь плохие комментарии в коде, чем их не иметь.\n",
        "\n",
        "* В функции везде должен быть return (или его не должно быть). Тут лектор немного грешен...\n",
        "\n",
        "* Название переменных должны быть читабельны и иметь смысл"
      ],
      "metadata": {
        "id": "6ldKoXVK4G8a"
      }
    },
    {
      "cell_type": "markdown",
      "source": [
        "## Заключение"
      ],
      "metadata": {
        "id": "lTPVCHAFSmBr"
      }
    },
    {
      "cell_type": "markdown",
      "source": [
        "Итак, что успели разобрать:\n",
        "\n",
        "* Ввод-вывод данных\n",
        "\n",
        "* Типы данных в Python (какие есть, как с ними можно работать)\n",
        "\n",
        "* Логические операторы\n",
        "\n",
        "А теперь давайте решим один из вопросов, который возник в процессе: а как все-таким считать одновременно несколько чисел?\n",
        "\n",
        "А вот так:"
      ],
      "metadata": {
        "id": "3cnXx97_S2CC"
      }
    },
    {
      "cell_type": "code",
      "source": [
        "a, b = map(int, input().split()) #да, так можно сделать с несколькими переменными одновременно\n",
        "h = list(map(int, input().split()))\n",
        "print(a, b, type(a), type(b))\n",
        "print(h, type(h))"
      ],
      "metadata": {
        "colab": {
          "base_uri": "https://localhost:8080/"
        },
        "id": "hS3P3h7STJP2",
        "outputId": "b48a23b3-5aec-410e-8052-b29077d341cd"
      },
      "execution_count": null,
      "outputs": [
        {
          "output_type": "stream",
          "name": "stdout",
          "text": [
            "4 4 \n",
            "5 6\n",
            "4 4 <class 'int'> <class 'int'>\n",
            "[5, 6] <class 'list'>\n"
          ]
        }
      ]
    },
    {
      "cell_type": "markdown",
      "source": [
        "Давайте разберем по частям:\n",
        "\n",
        "* map(f, l) - функция, которая применяет к каждому элементу из l функцию f (в данном случае - функция приведения к целому числу)\n",
        "\n",
        "* input().split() - считываем строку и делим на отдельные элементы с помощью split()\n",
        "\n",
        "* list() - приводим к списку (поскольку map выдает объект типа map)"
      ],
      "metadata": {
        "id": "knxnqmkiUAkK"
      }
    },
    {
      "cell_type": "markdown",
      "source": [
        "## Животное дня"
      ],
      "metadata": {
        "id": "omYnbJiPUZmL"
      }
    },
    {
      "cell_type": "markdown",
      "source": [
        "![](https://avatars.dzeninfra.ru/get-zen_doc/3638148/pub_6294a3f700cde16d532b1a0d_6294b6e57faaea548e24ebbe/scale_1200)"
      ],
      "metadata": {
        "id": "Qw4sSS4kVRDa"
      }
    },
    {
      "cell_type": "markdown",
      "source": [
        "А это какапо, самый большой попугай на Земле. А еще он нелетающий (крылья у него есть, он с их помощью плюхается с деревьев иногда, но нет, он не умеет летать). Они очень забавные, приятно пахнут, и очень привыкают к людям :з\n",
        "\n",
        "Они ведут ночной образ жизни и по сути заменяли млекопитающих на островах Новой Зеландии, но из-за всяких кошек, горностаев и прочих животных, привезенных извне, был почти истреблен. Сейчас их всего 200 особей, которые обитают на специально изолированных островах\n",
        "\n",
        "Но хорошая новость в том, что за последние года их стало больше и они вполне неплохо себе живут :)"
      ],
      "metadata": {
        "id": "J0NOKi6RU10v"
      }
    }
  ]
}