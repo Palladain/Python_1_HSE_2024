{
  "nbformat": 4,
  "nbformat_minor": 0,
  "metadata": {
    "colab": {
      "provenance": []
    },
    "kernelspec": {
      "name": "python3",
      "display_name": "Python 3"
    },
    "language_info": {
      "name": "python"
    }
  },
  "cells": [
    {
      "cell_type": "markdown",
      "source": [
        "# Python-1, Лекция 3\n",
        "\n",
        "Лекторы: Петров Тимур, Фролов Андрей"
      ],
      "metadata": {
        "id": "8y5Q2vP2l0X7"
      }
    },
    {
      "cell_type": "markdown",
      "source": [
        "## Множества"
      ],
      "metadata": {
        "id": "dxa__Uzkl6D9"
      }
    },
    {
      "cell_type": "markdown",
      "source": [
        "Скорее всего вы знаете, что такое множества, исходя из математики. Множество - это набор уникальных элементов.\n",
        "\n",
        "Ну и что же в этом уникального, спросите вы? Можно же просто просто хранить список. А вот нет, тогда мы будем сильно проигрывать по времени. Давайте попробуем что-нибудь:"
      ],
      "metadata": {
        "id": "FjWXX3hfmUE-"
      }
    },
    {
      "cell_type": "code",
      "execution_count": null,
      "metadata": {
        "id": "rjDejp-nlvX7"
      },
      "outputs": [],
      "source": [
        "a = [i for i in range(100000)]\n",
        "b = set(a) #создать множество можно из чего угодно"
      ]
    },
    {
      "cell_type": "code",
      "source": [
        "%%time\n",
        "\n",
        "## Вот так можно замерить время\n",
        "\n",
        "c = 10000\n",
        "if c not in a:\n",
        "    a.append(c)"
      ],
      "metadata": {
        "colab": {
          "base_uri": "https://localhost:8080/"
        },
        "id": "crOsAtctoc_P",
        "outputId": "47e33982-8a31-40ea-a2f9-e02308c31a1d"
      },
      "execution_count": null,
      "outputs": [
        {
          "output_type": "stream",
          "name": "stdout",
          "text": [
            "CPU times: user 184 µs, sys: 0 ns, total: 184 µs\n",
            "Wall time: 189 µs\n"
          ]
        }
      ]
    },
    {
      "cell_type": "code",
      "source": [
        "%%time\n",
        "\n",
        "## Вот так можно замерить время\n",
        "\n",
        "c = 10000\n",
        "if c not in b:\n",
        "    b.add(c)"
      ],
      "metadata": {
        "colab": {
          "base_uri": "https://localhost:8080/"
        },
        "id": "5wUdkU3popLs",
        "outputId": "ba959e17-3794-45de-e629-1b101a495132"
      },
      "execution_count": null,
      "outputs": [
        {
          "output_type": "stream",
          "name": "stdout",
          "text": [
            "CPU times: user 6 µs, sys: 1 µs, total: 7 µs\n",
            "Wall time: 11.4 µs\n"
          ]
        }
      ]
    },
    {
      "cell_type": "markdown",
      "source": [
        "Опа и пожалуйста, экономия времени! Как это получается? На самом деле ответ кроется в том, как хранит элементы множество и список (список хранит просто в раличных ячейках памяти элементы, множество же занимается хэшированием, но про это вам расскажут на курсе алгоритмов)\n",
        "\n",
        "А наша задача, в первую очередь, это вообще понять, как с ними работать. Итак, поехали:"
      ],
      "metadata": {
        "id": "MSK31w6uo_au"
      }
    },
    {
      "cell_type": "markdown",
      "source": [
        "* s.add(elem) - добавить элемент во множество (если элемент уже есть, то ничего не изменится)\n",
        "\n",
        "* clear() - очистить множество\n",
        "\n",
        "* copy() - скопировать множество\n",
        "\n",
        "* s.discard(elem) / s.remove(elem) / s.pop() - разные методы удаления (первое - не ругнется, если попробовать убрать элемент не из множества, второй - ругнется, третий - просто вытаскивает рандомный элемент и возвращает его)\n",
        "\n",
        "* difference / difference_update() / - - разность\n",
        "\n",
        "* union() / | - объединение множеств\n",
        "\n",
        "* intersection() / & - пересечение множеств\n",
        "\n",
        "* issubset() / isdisjoint() / issuperset() - проверка на подмножество, наличие пересечений и проверка на супермножество (один находится в другом)\n",
        "\n",
        "* symmetric_difference / ^ - симметричная разность\n",
        "\n",
        "* len(s) - узнать число элементов во множестве\n",
        "\n",
        "* ==, <=, >= - проверки на равенство (поэлементно), является ли одно множество под(над)множеством другого\n",
        "\n",
        "Как можно заметить, можно использовать и операторы)"
      ],
      "metadata": {
        "id": "Rey23DlopqgS"
      }
    },
    {
      "cell_type": "markdown",
      "source": [
        "![](https://i.pinimg.com/originals/d3/59/3a/d3593ae3a7dbdccf9513d3aa5b608230.png)"
      ],
      "metadata": {
        "id": "Vy29pQMB-gCw"
      }
    },
    {
      "cell_type": "code",
      "source": [
        "a = {1,2,3,5} #а еще множества можно объявлять вот так\n",
        "b = {4,5,6}\n",
        "\n",
        "print(a.union(b), a | b)\n",
        "print(a.intersection(b), a & b)\n",
        "print(a.difference(b), a - b)\n",
        "print(a.symmetric_difference(b), a ^ b)"
      ],
      "metadata": {
        "colab": {
          "base_uri": "https://localhost:8080/"
        },
        "id": "5j_PPmBLsyRM",
        "outputId": "2668a0ad-bccb-469a-a780-c044fb798f3b"
      },
      "execution_count": null,
      "outputs": [
        {
          "output_type": "stream",
          "name": "stdout",
          "text": [
            "{1, 2, 3, 4, 5, 6} {1, 2, 3, 4, 5, 6}\n",
            "{5} {5}\n",
            "{1, 2, 3} {1, 2, 3}\n",
            "{1, 2, 3, 4, 6} {1, 2, 3, 4, 6}\n"
          ]
        }
      ]
    },
    {
      "cell_type": "markdown",
      "source": [
        "Есть такая штука, как difference_update. Как думаете, в чем разница?"
      ],
      "metadata": {
        "id": "cnnmDYxPtEiI"
      }
    },
    {
      "cell_type": "code",
      "source": [
        "print(a.difference(b), a)\n",
        "print(a.difference_update(b), a)"
      ],
      "metadata": {
        "colab": {
          "base_uri": "https://localhost:8080/"
        },
        "id": "cAd-BBm2tKPj",
        "outputId": "60e0640a-2590-4dba-f6be-56d64848d977"
      },
      "execution_count": null,
      "outputs": [
        {
          "output_type": "stream",
          "name": "stdout",
          "text": [
            "{1, 2, 3} {1, 2, 3, 5}\n",
            "None {1, 2, 3}\n"
          ]
        }
      ]
    },
    {
      "cell_type": "markdown",
      "source": [
        "Поиграемся с удалениями элементов:"
      ],
      "metadata": {
        "id": "G5wQ-6eNtULD"
      }
    },
    {
      "cell_type": "code",
      "source": [
        "a.discard(5)\n",
        "a.discard(5)\n",
        "a.remove(3)\n",
        "a.remove(3)"
      ],
      "metadata": {
        "colab": {
          "base_uri": "https://localhost:8080/",
          "height": 222
        },
        "id": "upsQVq4ltTuw",
        "outputId": "1f29d9be-0be1-4d7b-cf74-671bdaea85c1"
      },
      "execution_count": null,
      "outputs": [
        {
          "output_type": "error",
          "ename": "KeyError",
          "evalue": "ignored",
          "traceback": [
            "\u001b[0;31m---------------------------------------------------------------------------\u001b[0m",
            "\u001b[0;31mKeyError\u001b[0m                                  Traceback (most recent call last)",
            "\u001b[0;32m<ipython-input-23-4be333a4c42e>\u001b[0m in \u001b[0;36m<cell line: 4>\u001b[0;34m()\u001b[0m\n\u001b[1;32m      2\u001b[0m \u001b[0ma\u001b[0m\u001b[0;34m.\u001b[0m\u001b[0mdiscard\u001b[0m\u001b[0;34m(\u001b[0m\u001b[0;36m5\u001b[0m\u001b[0;34m)\u001b[0m\u001b[0;34m\u001b[0m\u001b[0;34m\u001b[0m\u001b[0m\n\u001b[1;32m      3\u001b[0m \u001b[0ma\u001b[0m\u001b[0;34m.\u001b[0m\u001b[0mremove\u001b[0m\u001b[0;34m(\u001b[0m\u001b[0;36m3\u001b[0m\u001b[0;34m)\u001b[0m\u001b[0;34m\u001b[0m\u001b[0;34m\u001b[0m\u001b[0m\n\u001b[0;32m----> 4\u001b[0;31m \u001b[0ma\u001b[0m\u001b[0;34m.\u001b[0m\u001b[0mremove\u001b[0m\u001b[0;34m(\u001b[0m\u001b[0;36m3\u001b[0m\u001b[0;34m)\u001b[0m\u001b[0;34m\u001b[0m\u001b[0;34m\u001b[0m\u001b[0m\n\u001b[0m",
            "\u001b[0;31mKeyError\u001b[0m: 3"
          ]
        }
      ]
    },
    {
      "cell_type": "code",
      "source": [
        "while a:\n",
        "    print(a.pop())"
      ],
      "metadata": {
        "colab": {
          "base_uri": "https://localhost:8080/"
        },
        "id": "0ion_mKAtfuk",
        "outputId": "1214623a-30a5-4674-f01b-f781fb41dd7f"
      },
      "execution_count": null,
      "outputs": [
        {
          "output_type": "stream",
          "name": "stdout",
          "text": [
            "1\n",
            "2\n"
          ]
        }
      ]
    },
    {
      "cell_type": "code",
      "source": [
        "a.add([15,20]) #упс, а почему так нельзя?"
      ],
      "metadata": {
        "colab": {
          "base_uri": "https://localhost:8080/",
          "height": 185
        },
        "id": "0uI-W9YqtjnX",
        "outputId": "7211a1d6-b48d-40ea-e664-a64f7688239e"
      },
      "execution_count": null,
      "outputs": [
        {
          "output_type": "error",
          "ename": "TypeError",
          "evalue": "ignored",
          "traceback": [
            "\u001b[0;31m---------------------------------------------------------------------------\u001b[0m",
            "\u001b[0;31mTypeError\u001b[0m                                 Traceback (most recent call last)",
            "\u001b[0;32m<ipython-input-25-0b15cb31bf5d>\u001b[0m in \u001b[0;36m<cell line: 1>\u001b[0;34m()\u001b[0m\n\u001b[0;32m----> 1\u001b[0;31m \u001b[0ma\u001b[0m\u001b[0;34m.\u001b[0m\u001b[0madd\u001b[0m\u001b[0;34m(\u001b[0m\u001b[0;34m[\u001b[0m\u001b[0;36m15\u001b[0m\u001b[0;34m,\u001b[0m\u001b[0;36m20\u001b[0m\u001b[0;34m]\u001b[0m\u001b[0;34m)\u001b[0m\u001b[0;34m\u001b[0m\u001b[0;34m\u001b[0m\u001b[0m\n\u001b[0m",
            "\u001b[0;31mTypeError\u001b[0m: unhashable type: 'list'"
          ]
        }
      ]
    },
    {
      "cell_type": "markdown",
      "source": [
        "Как раз здесь нам значимо, что есть mutable и immutable типы данных. Как мы упоминали на первой лекции, отличие кортежа от списка в том, что одно - изменяемое, а другое - нет\n",
        "\n",
        "Это играет большую роль в случае с хэшированием. Изменяемые объекты не хешируемы! А это значит, что их нельзя хранить в множествах и словарях (в словарях - в качестве ключей). Почему? А потому что принцип их работы зависит от того условия, что объекты нельзя изменить (только таким образом это работает быстро и так, как надо).\n",
        "\n",
        "Ну хорошо, как же тогда быть? Использовать кортеж!"
      ],
      "metadata": {
        "id": "0gZegHentq-y"
      }
    },
    {
      "cell_type": "code",
      "source": [
        "a.add((15, 20))\n",
        "a"
      ],
      "metadata": {
        "colab": {
          "base_uri": "https://localhost:8080/"
        },
        "id": "CpLkx6M2uQjB",
        "outputId": "70b24906-aa00-47bd-d67e-34415813bb69"
      },
      "execution_count": null,
      "outputs": [
        {
          "output_type": "execute_result",
          "data": {
            "text/plain": [
              "{(15, 20)}"
            ]
          },
          "metadata": {},
          "execution_count": 29
        }
      ]
    },
    {
      "cell_type": "markdown",
      "source": [
        "Славно! А какие типы изменяемые, а какие нет? Давайте поделим:\n",
        "\n",
        "1. Изменяемые:\n",
        "\n",
        "* Списки\n",
        "\n",
        "* Множества\n",
        "\n",
        "* Словари\n",
        "\n",
        "2. Неизменяемые:\n",
        "\n",
        "* Строки\n",
        "\n",
        "* Кортежи\n",
        "\n",
        "* Числа\n",
        "\n",
        "* Логические значения"
      ],
      "metadata": {
        "id": "k1TktXf-uUh0"
      }
    },
    {
      "cell_type": "markdown",
      "source": [
        "Так что в целом не так все и плохо!"
      ],
      "metadata": {
        "id": "dKaa08oOu1Em"
      }
    },
    {
      "cell_type": "markdown",
      "source": [
        "### FrozenSet"
      ],
      "metadata": {
        "id": "DrBP9jP0mC9h"
      }
    },
    {
      "cell_type": "markdown",
      "source": [
        "А теперь то же самое, но только сделаем так, чтобы set был неизменяемым (иногда это нужно)"
      ],
      "metadata": {
        "id": "gq5UybUOmUlA"
      }
    },
    {
      "cell_type": "code",
      "source": [
        "a.add(frozenset({15, 20})) #жесть, так можно!\n",
        "a"
      ],
      "metadata": {
        "colab": {
          "base_uri": "https://localhost:8080/"
        },
        "id": "C0yZOpxZmU8C",
        "outputId": "56d4bac9-cea7-412d-d1d3-c4936e30697d"
      },
      "execution_count": null,
      "outputs": [
        {
          "output_type": "execute_result",
          "data": {
            "text/plain": [
              "{(15, 20), frozenset({15, 20})}"
            ]
          },
          "metadata": {},
          "execution_count": 30
        }
      ]
    },
    {
      "cell_type": "markdown",
      "source": [
        "Подерживает все те же операции, что и set, но которые его не меняют (нельзя изменить frozenset, на то он и нужен). Вы спросите: круто, а зачем? Ответ прост: использовать там, где нужны именно immutable объекты, например, в словарях!"
      ],
      "metadata": {
        "id": "PA65csanvQxC"
      }
    },
    {
      "cell_type": "markdown",
      "source": [
        "## Словари"
      ],
      "metadata": {
        "id": "8Om1iSgAl76q"
      }
    },
    {
      "cell_type": "markdown",
      "source": [
        "Ну хорошо, у нас есть множества, давайте пойдем чуть дальше. Допустим, что мы хотим иметь не просто множество, а еще уметь и считать, сколько раз тот или иной элемент встретился!\n",
        "\n",
        "Можно ответить про Counter, конечно, но про это мы позже поговорим тоже, а сейчас давайте про уже встроенные методы. То есть что бы нам хотелось? Хранить некоторую пару \"value\" - \"значение\" (в нашем случае сколько раз встретилось)\n",
        "\n",
        "Вот для этого и подходят словари! (почему словарь - аналогия с переводом)\n",
        "Давайте создавать!"
      ],
      "metadata": {
        "id": "j0qa_qhjl9Mb"
      }
    },
    {
      "cell_type": "code",
      "source": [
        "d = {1:5, 2:6, 3:7} #явно объявить можно вот таким образом, так же существует просто вызов dict()\n",
        "d"
      ],
      "metadata": {
        "colab": {
          "base_uri": "https://localhost:8080/"
        },
        "id": "DnI9IM0eDNZS",
        "outputId": "1e0db169-1fc6-4f9c-edc8-aa7140681f6b"
      },
      "execution_count": null,
      "outputs": [
        {
          "output_type": "execute_result",
          "data": {
            "text/plain": [
              "{1: 5, 2: 6, 3: 7}"
            ]
          },
          "metadata": {},
          "execution_count": 31
        }
      ]
    },
    {
      "cell_type": "markdown",
      "source": [
        "Все, что находится слева (до двоеточия) - это ключи (или же keys), все, что после - это значения (или же values)"
      ],
      "metadata": {
        "id": "T1v9kuA0DeJx"
      }
    },
    {
      "cell_type": "code",
      "source": [
        "print(d.keys(), d.values(), d.items())"
      ],
      "metadata": {
        "colab": {
          "base_uri": "https://localhost:8080/"
        },
        "id": "GveiZeqgDmbk",
        "outputId": "7c295883-40c4-4990-cab5-4ba8a615b46e"
      },
      "execution_count": null,
      "outputs": [
        {
          "output_type": "stream",
          "name": "stdout",
          "text": [
            "dict_keys([1, 2, 3]) dict_values([5, 6, 7]) dict_items([(1, 5), (2, 6), (3, 7)])\n"
          ]
        }
      ]
    },
    {
      "cell_type": "markdown",
      "source": [
        "Как обращаться по ключу? Абсолютно точно также, как и в списке (можно считать, будто это индексы):"
      ],
      "metadata": {
        "id": "qXD2B436LE38"
      }
    },
    {
      "cell_type": "code",
      "source": [
        "d[3]"
      ],
      "metadata": {
        "colab": {
          "base_uri": "https://localhost:8080/"
        },
        "id": "cFTSDgjwLMZ3",
        "outputId": "92c4dc15-84e7-49a4-a1f6-426a190c42fe"
      },
      "execution_count": null,
      "outputs": [
        {
          "output_type": "execute_result",
          "data": {
            "text/plain": [
              "7"
            ]
          },
          "metadata": {},
          "execution_count": 39
        }
      ]
    },
    {
      "cell_type": "markdown",
      "source": [
        "Но потом мы попробовали вот так:"
      ],
      "metadata": {
        "id": "hEShj_o2LP0b"
      }
    },
    {
      "cell_type": "code",
      "source": [
        "d[4]"
      ],
      "metadata": {
        "colab": {
          "base_uri": "https://localhost:8080/",
          "height": 185
        },
        "id": "k1W5X1fCLRw8",
        "outputId": "f72f0462-7c62-4f58-fee2-b20dd4e08ca9"
      },
      "execution_count": null,
      "outputs": [
        {
          "output_type": "error",
          "ename": "KeyError",
          "evalue": "ignored",
          "traceback": [
            "\u001b[0;31m---------------------------------------------------------------------------\u001b[0m",
            "\u001b[0;31mKeyError\u001b[0m                                  Traceback (most recent call last)",
            "\u001b[0;32m<ipython-input-40-31c4f4ce9503>\u001b[0m in \u001b[0;36m<cell line: 1>\u001b[0;34m()\u001b[0m\n\u001b[0;32m----> 1\u001b[0;31m \u001b[0md\u001b[0m\u001b[0;34m[\u001b[0m\u001b[0;36m4\u001b[0m\u001b[0;34m]\u001b[0m\u001b[0;34m\u001b[0m\u001b[0;34m\u001b[0m\u001b[0m\n\u001b[0m",
            "\u001b[0;31mKeyError\u001b[0m: 4"
          ]
        }
      ]
    },
    {
      "cell_type": "markdown",
      "source": [
        "И получили ошибку, что же делать? Для этого есть более \"безопасный\" вариант: get()"
      ],
      "metadata": {
        "id": "BwawQG1nLTIw"
      }
    },
    {
      "cell_type": "code",
      "source": [
        "print(d.get(4)) #он выведет ничего, так как ничего и нет"
      ],
      "metadata": {
        "colab": {
          "base_uri": "https://localhost:8080/"
        },
        "id": "jYNw4kt5LZWu",
        "outputId": "c4be3751-6f82-4303-8dab-6e9e17634a54"
      },
      "execution_count": null,
      "outputs": [
        {
          "output_type": "stream",
          "name": "stdout",
          "text": [
            "None\n"
          ]
        }
      ]
    },
    {
      "cell_type": "markdown",
      "source": [
        "Что можео быть в качестве значения? На самом деле что угодно!\n",
        "\n",
        "Что может быть в качестве ключей? Только НЕизменяемые объекты"
      ],
      "metadata": {
        "id": "H4jgBDeoLsAT"
      }
    },
    {
      "cell_type": "code",
      "source": [
        "a = {\"abc\": set([1,2,3])}\n",
        "a"
      ],
      "metadata": {
        "colab": {
          "base_uri": "https://localhost:8080/"
        },
        "id": "eNUFhYv1LxxI",
        "outputId": "b8a2e327-3cc7-47f1-d6c3-5ddebe50f058"
      },
      "execution_count": null,
      "outputs": [
        {
          "output_type": "execute_result",
          "data": {
            "text/plain": [
              "{'abc': {1, 2, 3}}"
            ]
          },
          "metadata": {},
          "execution_count": 44
        }
      ]
    },
    {
      "cell_type": "markdown",
      "source": [
        "Ну хорошо, создавать от руки мы умеем. А как теперь добавлять/удалять и так далее, что мы вообще можем делать со словарем?\n",
        "\n"
      ],
      "metadata": {
        "id": "NHUllYNKL54z"
      }
    },
    {
      "cell_type": "code",
      "source": [
        "d[4] = 100\n",
        "d[1] += 1\n",
        "print(d)"
      ],
      "metadata": {
        "colab": {
          "base_uri": "https://localhost:8080/"
        },
        "id": "YcxE52x5MRQX",
        "outputId": "12959f6d-ea55-40f7-bd9d-77c3825b2e62"
      },
      "execution_count": null,
      "outputs": [
        {
          "output_type": "stream",
          "name": "stdout",
          "text": [
            "{1: 6, 2: 6, 3: 7, 4: 100}\n"
          ]
        }
      ]
    },
    {
      "cell_type": "markdown",
      "source": [
        "* d.pop(elem) - удалить ключ и вернуть по нему значение\n",
        "\n",
        "* d.popitem() - удали рандомный элемент и верни ключ-значение удаленного\n",
        "\n",
        "* d.clear() - очистить словарь\n",
        "\n",
        "* len(d) - число элементов\n",
        "\n",
        "* d.setdefault(key, value) - поставь значение по ключу, если его нет, то поставь value"
      ],
      "metadata": {
        "id": "0WLRBamyRCI6"
      }
    },
    {
      "cell_type": "code",
      "source": [
        "d.pop(4)\n",
        "print(d.popitem())\n",
        "print(len(d))\n",
        "print(d.setdefault(4, 10000))\n",
        "print(d)"
      ],
      "metadata": {
        "colab": {
          "base_uri": "https://localhost:8080/"
        },
        "id": "UsVyTCb7RgaE",
        "outputId": "3b9dddec-2a4a-4440-94e0-c9b4350197b7"
      },
      "execution_count": null,
      "outputs": [
        {
          "output_type": "stream",
          "name": "stdout",
          "text": [
            "(3, 7)\n",
            "2\n",
            "10000\n"
          ]
        }
      ]
    },
    {
      "cell_type": "code",
      "source": [
        "d.clear()\n",
        "d"
      ],
      "metadata": {
        "colab": {
          "base_uri": "https://localhost:8080/"
        },
        "id": "Di3vId6_R7vq",
        "outputId": "6b4a2871-5460-4716-8847-bcc8c48c5fe6"
      },
      "execution_count": null,
      "outputs": [
        {
          "output_type": "execute_result",
          "data": {
            "text/plain": [
              "{}"
            ]
          },
          "metadata": {},
          "execution_count": 50
        }
      ]
    },
    {
      "cell_type": "markdown",
      "source": [
        "Ну хорошо, вроде как понятно, как работать со словарем. Но, допустим, к нам приходит отдел маркетинга и такой: хотим автоматизировать подсчет переходов по рекламе. У нас есть ЭКСЕЛЬКА, в которой есть список с рекламными компаниями и текущие значения, которые посчитали, а как добавить эту информацию и дальше считать по-новому?\n",
        "\n",
        "Мы призадумались..."
      ],
      "metadata": {
        "id": "wRBJSfX2L9aq"
      }
    },
    {
      "cell_type": "code",
      "source": [
        "c = [\"c_1\", \"c_2\", \"c_3\", \"c_4\", \"c_5\"]\n",
        "n = [1, 2, 3, 4, 100]\n",
        "\n",
        "## Что-то надо сделать"
      ],
      "metadata": {
        "id": "_P3AYUKDMbnK"
      },
      "execution_count": null,
      "outputs": []
    },
    {
      "cell_type": "markdown",
      "source": [
        "Можно было бы сделать вот так:"
      ],
      "metadata": {
        "id": "_ZpTnE8IMkX5"
      }
    },
    {
      "cell_type": "code",
      "source": [
        "d = dict()\n",
        "for i in range(len(c)):\n",
        "    d[c[i]] = n[i]\n",
        "print(d)"
      ],
      "metadata": {
        "colab": {
          "base_uri": "https://localhost:8080/"
        },
        "id": "DSOPdGFnMm8d",
        "outputId": "375040c4-cf59-4301-bb04-25fafaaaaa2f"
      },
      "execution_count": null,
      "outputs": [
        {
          "output_type": "stream",
          "name": "stdout",
          "text": [
            "{'c_1': 1, 'c_2': 2, 'c_3': 3, 'c_4': 4, 'c_5': 100}\n"
          ]
        }
      ]
    },
    {
      "cell_type": "markdown",
      "source": [
        "Но можно ли не использовать циклы и сделать это более кратко?...\n",
        "\n",
        "А вот можно!"
      ],
      "metadata": {
        "id": "ta9xrCYHMuYt"
      }
    },
    {
      "cell_type": "code",
      "source": [
        "d = dict(zip(c, n))\n",
        "print(d)"
      ],
      "metadata": {
        "colab": {
          "base_uri": "https://localhost:8080/"
        },
        "id": "6o4BKShbM1Tj",
        "outputId": "f9e9434d-66ce-4106-a819-163ac14326ea"
      },
      "execution_count": null,
      "outputs": [
        {
          "output_type": "stream",
          "name": "stdout",
          "text": [
            "{'c_1': 1, 'c_2': 2, 'c_3': 3, 'c_4': 4, 'c_5': 100}\n"
          ]
        }
      ]
    },
    {
      "cell_type": "markdown",
      "source": [
        "Вау! А что случилось?\n",
        "\n",
        "Функция zip позволяет объединить данные в кортежи (аналогия с застежкой)"
      ],
      "metadata": {
        "id": "y_F_m87KM5yY"
      }
    },
    {
      "cell_type": "code",
      "source": [
        "list(zip(c, n)) ## приходится делать list, потому что zip создает итератор (но про это позже)"
      ],
      "metadata": {
        "colab": {
          "base_uri": "https://localhost:8080/"
        },
        "id": "aoBvpIsFNK5r",
        "outputId": "77c8b0f3-fc48-4836-837c-3a990d6c3911"
      },
      "execution_count": null,
      "outputs": [
        {
          "output_type": "execute_result",
          "data": {
            "text/plain": [
              "[('c_1', 1), ('c_2', 2), ('c_3', 3), ('c_4', 4), ('c_5', 100)]"
            ]
          },
          "metadata": {},
          "execution_count": 9
        }
      ]
    },
    {
      "cell_type": "markdown",
      "source": [
        "## DefaultDict"
      ],
      "metadata": {
        "id": "CtI2AsPzmFW1"
      }
    },
    {
      "cell_type": "markdown",
      "source": [
        "Итак, в чем самая главная проблема словарей? Ну банально в том, что нужно каждый раз проверять, а есть ли ключ в словаре, а то если его нет, то наш скрипт, само собой, упадет. А что, если бы мы прям с самого начал уже задавали какое-то базовое (дефолтное) значение? Вот для этого существует такая вещь, как defaultdict, которая лежит в отдельном модуле collections"
      ],
      "metadata": {
        "id": "DCFIpSSdmVX8"
      }
    },
    {
      "cell_type": "markdown",
      "source": [
        "Итак, сегодня мы в первый раз поговорим про библиотеки и модули. Что это такое?\n",
        "\n",
        "По сути библиотека - это набор дополнительных функций, которые позволяют вам использовать их с помощью вызова всего лишь одной строчки кода!"
      ],
      "metadata": {
        "id": "BMV6oSynJ0UJ"
      }
    },
    {
      "cell_type": "code",
      "source": [
        "import math # когда делаем вот так, то можно вызывать функции через название модуля.функция\n",
        "from numpy import * # импортим все и можем обращаться напрямую\n",
        "import matplotlib.pyplot as plt # даем сокращение названию модулю"
      ],
      "metadata": {
        "id": "MFF8mF_5J2K1"
      },
      "execution_count": null,
      "outputs": []
    },
    {
      "cell_type": "markdown",
      "source": [
        "Давайте попробуем импортировать [collections](https://docs.python.org/3/library/collections.html):"
      ],
      "metadata": {
        "id": "5uU3MPsjKCJj"
      }
    },
    {
      "cell_type": "code",
      "source": [
        "from collections import defaultdict\n",
        "\n",
        "d = defaultdict(int)\n",
        "print(d[10])"
      ],
      "metadata": {
        "colab": {
          "base_uri": "https://localhost:8080/"
        },
        "id": "FqBuJwTSKTE3",
        "outputId": "7c762c43-bac6-4aa2-9405-5f29325e6477"
      },
      "execution_count": 2,
      "outputs": [
        {
          "output_type": "stream",
          "name": "stdout",
          "text": [
            "0\n"
          ]
        }
      ]
    },
    {
      "cell_type": "markdown",
      "source": [
        "Опа, мы вызвали значение от несуществующего ключа и вдруг ничего не выдало ошибку. Как же так? Давайте разбираться:\n",
        "\n",
        "* defaultdict(factory) - создай словарь вот с такой функцией по дефолту\n",
        "\n",
        "В данном случае мы вызвали int, который при вызове сам по себе дает 0:"
      ],
      "metadata": {
        "id": "UxRdapueKyDt"
      }
    },
    {
      "cell_type": "code",
      "source": [
        "int()"
      ],
      "metadata": {
        "colab": {
          "base_uri": "https://localhost:8080/"
        },
        "id": "ntaccAySLNip",
        "outputId": "2be9ee33-0d10-4839-951f-55feeddbfdf7"
      },
      "execution_count": null,
      "outputs": [
        {
          "output_type": "execute_result",
          "data": {
            "text/plain": [
              "0"
            ]
          },
          "metadata": {},
          "execution_count": 3
        }
      ]
    },
    {
      "cell_type": "markdown",
      "source": [
        "Можно использовать несколько других вариантов, например, string, list, или в целом любую функцию (когда будем говорить про функции мы ощутим полную мощь данного инструмента)\n",
        "\n",
        "Давайте еще вот такой пример:"
      ],
      "metadata": {
        "id": "-HfqQWcVLOuE"
      }
    },
    {
      "cell_type": "code",
      "source": [
        "s = [('yellow', 1), ('blue', 2), ('yellow', 3), ('blue', 4), ('red', 1)]\n",
        "d = defaultdict(list)\n",
        "for k, v in s:\n",
        "    d[k].append(v)\n",
        "\n",
        "d.items()"
      ],
      "metadata": {
        "colab": {
          "base_uri": "https://localhost:8080/"
        },
        "id": "vJcHybYrLaCz",
        "outputId": "1c2c7914-e995-4730-dfd3-cb9ceeefcf71"
      },
      "execution_count": null,
      "outputs": [
        {
          "output_type": "execute_result",
          "data": {
            "text/plain": [
              "dict_items([('yellow', [1, 3]), ('blue', [2, 4]), ('red', [1])])"
            ]
          },
          "metadata": {},
          "execution_count": 4
        }
      ]
    },
    {
      "cell_type": "markdown",
      "source": [
        "Что здесь случилось? Мы задали в качестве изначальной функции list(). Что это значит? По дефолту создается пустой лист, внутри которого мы далее делаем append, то есть таким образом собираем все значения"
      ],
      "metadata": {
        "id": "3gaw1khnLiKL"
      }
    },
    {
      "cell_type": "markdown",
      "source": [
        "## Животное дня"
      ],
      "metadata": {
        "id": "bRBavKLsJbw-"
      }
    },
    {
      "cell_type": "markdown",
      "source": [
        "![](https://animaljournal.ru/articles/wild/primati/koshachiy_lemur/detenish_lemura1.jpg)"
      ],
      "metadata": {
        "id": "Po6ms7FNJ3v4"
      }
    },
    {
      "cell_type": "markdown",
      "source": [
        "Это кошачий лемур. Их все так или иначе видели (по крайней мере вот в таком виде):"
      ],
      "metadata": {
        "id": "kk6rs4ERJ5YS"
      }
    },
    {
      "cell_type": "markdown",
      "source": [
        "![](https://www.meme-arsenal.com/memes/819abc6f23381d803a640e91092ea4a1.jpg)"
      ],
      "metadata": {
        "id": "OSsmBDTgKEce"
      }
    },
    {
      "cell_type": "markdown",
      "source": [
        "На Мадагаскаре (где они и обитают) их зовут маки! По размерам как кошка (действительно), при этом хвост может весить примерно половину от всего веса лемура, и это неудивительно - хвост лемура играют важную роль в его жизни.\n",
        "\n",
        "Помимо самых понятных прикладных функций (с помощью хвоста лемуры удерживают равновесие, будучи на ветках, а также балансируют с его помощью при прыжке), хвост также выполняет социальные функции\n",
        "\n",
        "С его помощью он более заметен своим сородичам, а также показывают, кто здесь главный (через секрет, которым они этот самый хвост обмазывают)\n",
        "\n",
        "А еще посмотрите, как они сидят)"
      ],
      "metadata": {
        "id": "GLj3Arp-KMQr"
      }
    },
    {
      "cell_type": "markdown",
      "source": [
        "![](https://upload.wikimedia.org/wikipedia/commons/thumb/9/93/Ring.tailed.lemur.situp.arp.jpg/1024px-Ring.tailed.lemur.situp.arp.jpg)"
      ],
      "metadata": {
        "id": "2yPxHCkDLaEC"
      }
    },
    {
      "cell_type": "markdown",
      "source": [
        "Лемуры - социальные животные, живут группой по 30 особей (причем у них матриархат), причем у них максимально яркая социальность: будучи одни, они просто с ума сходят, поэтому нормально изучить их когнитивные способности достаточно сложно"
      ],
      "metadata": {
        "id": "Kh7Sr2VHLptu"
      }
    }
  ]
}