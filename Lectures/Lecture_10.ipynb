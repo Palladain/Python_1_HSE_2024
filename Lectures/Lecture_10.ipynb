{
  "nbformat": 4,
  "nbformat_minor": 0,
  "metadata": {
    "colab": {
      "provenance": []
    },
    "kernelspec": {
      "name": "python3",
      "display_name": "Python 3"
    },
    "language_info": {
      "name": "python"
    }
  },
  "cells": [
    {
      "cell_type": "markdown",
      "source": [
        "# Python-1, Лекция 10\n",
        "\n",
        "Лектор: Петров Тимур, Фролов Андрей"
      ],
      "metadata": {
        "id": "gul1ajImwD0W"
      }
    },
    {
      "cell_type": "markdown",
      "source": [
        "## Итераторы и итерируемое"
      ],
      "metadata": {
        "id": "kVC6gn4agVTR"
      }
    },
    {
      "cell_type": "markdown",
      "source": [
        "Начнем с базы. Внутри Python есть две вещи: iterator и iterable. В чем разница и что это такое?\n",
        "\n",
        "Iterable - это объект, над которым можно проводить итерацию. Что такое итерация? По сути это процесс перебора элементов (например, строки/множества/списки - это итерируемые объекты)\n",
        "\n",
        "А что же тогда такое итератор? А это у нас объект, который занимается процессом итерации. По определению это класс, у которого реализованы методы next и iter (для iterable объекта реализуется только сам iter)\n"
      ],
      "metadata": {
        "id": "4KkW_VMkgaQf"
      }
    },
    {
      "cell_type": "code",
      "source": [
        "c = [1, 2, 3, 4]\n",
        "for i in c: # что здесь происходит? Неявно вызывается iter(c)\n",
        "# Причем iter() работает для так называемых контейнеров (для всех, у кого есть __getitem__ или __iter__)\n",
        "    print(i)"
      ],
      "metadata": {
        "colab": {
          "base_uri": "https://localhost:8080/"
        },
        "id": "CX6_-IaCiAsZ",
        "outputId": "aa57b1fa-a08a-4380-98bd-3aff95093cda"
      },
      "execution_count": null,
      "outputs": [
        {
          "output_type": "stream",
          "name": "stdout",
          "text": [
            "1\n",
            "2\n",
            "3\n",
            "4\n"
          ]
        }
      ]
    },
    {
      "cell_type": "code",
      "source": [
        "iter(c)"
      ],
      "metadata": {
        "colab": {
          "base_uri": "https://localhost:8080/"
        },
        "id": "8T6mX3KmxP_l",
        "outputId": "69dc999a-2c39-4520-dbc9-1edf7e85fae5"
      },
      "execution_count": null,
      "outputs": [
        {
          "output_type": "execute_result",
          "data": {
            "text/plain": [
              "<list_iterator at 0x7f2994d13d50>"
            ]
          },
          "metadata": {},
          "execution_count": 8
        }
      ]
    },
    {
      "cell_type": "code",
      "source": [
        "for c in 32: #поэтому по числам не получится, они не итерируемые\n",
        "    print(c)"
      ],
      "metadata": {
        "colab": {
          "base_uri": "https://localhost:8080/",
          "height": 194
        },
        "id": "WWTdV5i4jjeW",
        "outputId": "dd3fde37-ff76-49b9-878b-ea931ca1e909"
      },
      "execution_count": null,
      "outputs": [
        {
          "output_type": "error",
          "ename": "TypeError",
          "evalue": "ignored",
          "traceback": [
            "\u001b[0;31m---------------------------------------------------------------------------\u001b[0m",
            "\u001b[0;31mTypeError\u001b[0m                                 Traceback (most recent call last)",
            "\u001b[0;32m<ipython-input-2-64c20f9fee22>\u001b[0m in \u001b[0;36m<module>\u001b[0;34m\u001b[0m\n\u001b[0;32m----> 1\u001b[0;31m \u001b[0;32mfor\u001b[0m \u001b[0mc\u001b[0m \u001b[0;32min\u001b[0m \u001b[0;36m32\u001b[0m\u001b[0;34m:\u001b[0m\u001b[0;34m\u001b[0m\u001b[0;34m\u001b[0m\u001b[0m\n\u001b[0m\u001b[1;32m      2\u001b[0m     \u001b[0mprint\u001b[0m\u001b[0;34m(\u001b[0m\u001b[0mc\u001b[0m\u001b[0;34m)\u001b[0m\u001b[0;34m\u001b[0m\u001b[0;34m\u001b[0m\u001b[0m\n",
            "\u001b[0;31mTypeError\u001b[0m: 'int' object is not iterable"
          ]
        }
      ]
    },
    {
      "cell_type": "code",
      "source": [
        "n = iter(c)\n",
        "print(next(n))\n",
        "print(next(n))\n",
        "print(next(n))\n",
        "print(next(n))\n",
        "print(next(n))"
      ],
      "metadata": {
        "colab": {
          "base_uri": "https://localhost:8080/",
          "height": 288
        },
        "id": "OEfcnk-Dxqae",
        "outputId": "c6e05c08-6db3-444f-b055-e9de0217693a"
      },
      "execution_count": null,
      "outputs": [
        {
          "output_type": "stream",
          "name": "stdout",
          "text": [
            "1\n",
            "2\n",
            "3\n",
            "4\n"
          ]
        },
        {
          "output_type": "error",
          "ename": "StopIteration",
          "evalue": "ignored",
          "traceback": [
            "\u001b[0;31m---------------------------------------------------------------------------\u001b[0m",
            "\u001b[0;31mStopIteration\u001b[0m                             Traceback (most recent call last)",
            "\u001b[0;32m<ipython-input-12-87b312487dec>\u001b[0m in \u001b[0;36m<module>\u001b[0;34m\u001b[0m\n\u001b[1;32m      4\u001b[0m \u001b[0mprint\u001b[0m\u001b[0;34m(\u001b[0m\u001b[0mnext\u001b[0m\u001b[0;34m(\u001b[0m\u001b[0mn\u001b[0m\u001b[0;34m)\u001b[0m\u001b[0;34m)\u001b[0m\u001b[0;34m\u001b[0m\u001b[0;34m\u001b[0m\u001b[0m\n\u001b[1;32m      5\u001b[0m \u001b[0mprint\u001b[0m\u001b[0;34m(\u001b[0m\u001b[0mnext\u001b[0m\u001b[0;34m(\u001b[0m\u001b[0mn\u001b[0m\u001b[0;34m)\u001b[0m\u001b[0;34m)\u001b[0m\u001b[0;34m\u001b[0m\u001b[0;34m\u001b[0m\u001b[0m\n\u001b[0;32m----> 6\u001b[0;31m \u001b[0mprint\u001b[0m\u001b[0;34m(\u001b[0m\u001b[0mnext\u001b[0m\u001b[0;34m(\u001b[0m\u001b[0mn\u001b[0m\u001b[0;34m)\u001b[0m\u001b[0;34m)\u001b[0m\u001b[0;34m\u001b[0m\u001b[0;34m\u001b[0m\u001b[0m\n\u001b[0m",
            "\u001b[0;31mStopIteration\u001b[0m: "
          ]
        }
      ]
    },
    {
      "cell_type": "code",
      "source": [
        "l = [1, 2, 3]\n",
        "next(l) #список iterable, но не итератор"
      ],
      "metadata": {
        "colab": {
          "base_uri": "https://localhost:8080/",
          "height": 204
        },
        "id": "hhzoGeFtMC-Z",
        "outputId": "c82b6386-9215-4ca4-b33b-bc46a25632c8"
      },
      "execution_count": null,
      "outputs": [
        {
          "output_type": "error",
          "ename": "TypeError",
          "evalue": "ignored",
          "traceback": [
            "\u001b[0;31m---------------------------------------------------------------------------\u001b[0m",
            "\u001b[0;31mTypeError\u001b[0m                                 Traceback (most recent call last)",
            "\u001b[0;32m<ipython-input-5-6ad129393292>\u001b[0m in \u001b[0;36m<cell line: 2>\u001b[0;34m()\u001b[0m\n\u001b[1;32m      1\u001b[0m \u001b[0ml\u001b[0m \u001b[0;34m=\u001b[0m \u001b[0;34m[\u001b[0m\u001b[0;36m1\u001b[0m\u001b[0;34m,\u001b[0m \u001b[0;36m2\u001b[0m\u001b[0;34m,\u001b[0m \u001b[0;36m3\u001b[0m\u001b[0;34m]\u001b[0m\u001b[0;34m\u001b[0m\u001b[0;34m\u001b[0m\u001b[0m\n\u001b[0;32m----> 2\u001b[0;31m \u001b[0mnext\u001b[0m\u001b[0;34m(\u001b[0m\u001b[0ml\u001b[0m\u001b[0;34m)\u001b[0m\u001b[0;34m\u001b[0m\u001b[0;34m\u001b[0m\u001b[0m\n\u001b[0m",
            "\u001b[0;31mTypeError\u001b[0m: 'list' object is not an iterator"
          ]
        }
      ]
    },
    {
      "cell_type": "markdown",
      "source": [
        "Где можно встретить итераторы? Да на самом деле много где!\n",
        "\n",
        "Например, функция zip возвращает итератор:"
      ],
      "metadata": {
        "id": "OT7BVsDuMc3N"
      }
    },
    {
      "cell_type": "code",
      "source": [
        "a = [1, 2, 3]\n",
        "b = [1, 2, 3]\n",
        "c = zip(a, b)\n",
        "print(next(c))\n",
        "print(next(c))\n",
        "print(next(c))"
      ],
      "metadata": {
        "colab": {
          "base_uri": "https://localhost:8080/"
        },
        "id": "oQniCjrDMhW3",
        "outputId": "568ba44d-1d61-401b-a049-a034d515e830"
      },
      "execution_count": null,
      "outputs": [
        {
          "output_type": "stream",
          "name": "stdout",
          "text": [
            "(1, 1)\n",
            "(2, 2)\n",
            "(3, 3)\n"
          ]
        }
      ]
    },
    {
      "cell_type": "markdown",
      "source": [
        "А также есть функция enumerate() - она делает нумерацию элементов, что можно впоследствие использовать внутри for:"
      ],
      "metadata": {
        "id": "QtmMtONGMptv"
      }
    },
    {
      "cell_type": "code",
      "source": [
        "k = [4, 5, 6]\n",
        "k_e = enumerate(k)\n",
        "print(next(k_e))\n",
        "print(next(k_e))\n",
        "print(next(k_e))"
      ],
      "metadata": {
        "colab": {
          "base_uri": "https://localhost:8080/"
        },
        "id": "ya81LwQ4MkvD",
        "outputId": "3137b4ef-8f30-4362-e402-79da76d06a36"
      },
      "execution_count": null,
      "outputs": [
        {
          "output_type": "stream",
          "name": "stdout",
          "text": [
            "(0, 4)\n",
            "(1, 5)\n",
            "(2, 6)\n"
          ]
        }
      ]
    },
    {
      "cell_type": "code",
      "source": [
        "for num, el in enumerate(k):\n",
        "    print(num, el)"
      ],
      "metadata": {
        "colab": {
          "base_uri": "https://localhost:8080/"
        },
        "id": "eKc3NA8YM7tQ",
        "outputId": "920adc5e-cd03-4bc9-d6ef-57958b4633e0"
      },
      "execution_count": null,
      "outputs": [
        {
          "output_type": "stream",
          "name": "stdout",
          "text": [
            "0 4\n",
            "1 5\n",
            "2 6\n"
          ]
        }
      ]
    },
    {
      "cell_type": "markdown",
      "source": [
        "### А как сделать свой собственный итератор?"
      ],
      "metadata": {
        "id": "AzCWp-eLhAUz"
      }
    },
    {
      "cell_type": "markdown",
      "source": [
        "С итераторами мы уже встречались в itertools - собственно название говорит само за себя, она содержит полезные итераторы.\n",
        "\n",
        "Что есть итератор? С точки зрения Python - это объект, который обладает dunder методом \\_\\_next\\_\\_, который берет и возвращает следующий элемент до самого конца. В тот момент, когда происходит конец, он должен возвращать ошибку StopIteration\n",
        "\n",
        "Давайте делать простой итератор на строках:"
      ],
      "metadata": {
        "id": "1priSdOEhF_Z"
      }
    },
    {
      "cell_type": "code",
      "source": [
        "class MyIter:\n",
        "    def __init__(self, s):\n",
        "        self.s = s\n",
        "        self.index = 0\n",
        "\n",
        "    def __next__(self):\n",
        "        if self.index >= len(self.s):\n",
        "            raise StopIteration(\"Ended\")\n",
        "        else:\n",
        "            self.index += 1\n",
        "            return self.s[self.index - 1]\n",
        "\n",
        "a = \"abcdefg\"\n",
        "iter = MyIter(a)\n",
        "print(next(iter))\n",
        "print(next(iter))\n",
        "print(next(iter))\n",
        "print(next(iter))\n",
        "print(next(iter))\n",
        "print(next(iter))"
      ],
      "metadata": {
        "colab": {
          "base_uri": "https://localhost:8080/"
        },
        "id": "qBjEzrbBka32",
        "outputId": "0d4448b4-1096-49c8-91af-75ba87719780"
      },
      "execution_count": 8,
      "outputs": [
        {
          "output_type": "stream",
          "name": "stdout",
          "text": [
            "a\n",
            "b\n",
            "c\n",
            "d\n",
            "e\n",
            "f\n"
          ]
        }
      ]
    },
    {
      "cell_type": "code",
      "source": [
        "print(next(iter))\n",
        "print(next(iter))"
      ],
      "metadata": {
        "colab": {
          "base_uri": "https://localhost:8080/",
          "height": 320
        },
        "id": "U2ZEbJUClbtT",
        "outputId": "095919d8-1c18-445d-d166-dfc119eecaed"
      },
      "execution_count": 9,
      "outputs": [
        {
          "output_type": "stream",
          "name": "stdout",
          "text": [
            "g\n"
          ]
        },
        {
          "output_type": "error",
          "ename": "StopIteration",
          "evalue": "Ended",
          "traceback": [
            "\u001b[0;31m---------------------------------------------------------------------------\u001b[0m",
            "\u001b[0;31mStopIteration\u001b[0m                             Traceback (most recent call last)",
            "\u001b[0;32m<ipython-input-9-607ea81bcf93>\u001b[0m in \u001b[0;36m<cell line: 2>\u001b[0;34m()\u001b[0m\n\u001b[1;32m      1\u001b[0m \u001b[0mprint\u001b[0m\u001b[0;34m(\u001b[0m\u001b[0mnext\u001b[0m\u001b[0;34m(\u001b[0m\u001b[0miter\u001b[0m\u001b[0;34m)\u001b[0m\u001b[0;34m)\u001b[0m\u001b[0;34m\u001b[0m\u001b[0;34m\u001b[0m\u001b[0m\n\u001b[0;32m----> 2\u001b[0;31m \u001b[0mprint\u001b[0m\u001b[0;34m(\u001b[0m\u001b[0mnext\u001b[0m\u001b[0;34m(\u001b[0m\u001b[0miter\u001b[0m\u001b[0;34m)\u001b[0m\u001b[0;34m)\u001b[0m\u001b[0;34m\u001b[0m\u001b[0;34m\u001b[0m\u001b[0m\n\u001b[0m",
            "\u001b[0;32m<ipython-input-8-d0e9d82c1347>\u001b[0m in \u001b[0;36m__next__\u001b[0;34m(self)\u001b[0m\n\u001b[1;32m      6\u001b[0m     \u001b[0;32mdef\u001b[0m \u001b[0m__next__\u001b[0m\u001b[0;34m(\u001b[0m\u001b[0mself\u001b[0m\u001b[0;34m)\u001b[0m\u001b[0;34m:\u001b[0m\u001b[0;34m\u001b[0m\u001b[0;34m\u001b[0m\u001b[0m\n\u001b[1;32m      7\u001b[0m         \u001b[0;32mif\u001b[0m \u001b[0mself\u001b[0m\u001b[0;34m.\u001b[0m\u001b[0mindex\u001b[0m \u001b[0;34m>=\u001b[0m \u001b[0mlen\u001b[0m\u001b[0;34m(\u001b[0m\u001b[0mself\u001b[0m\u001b[0;34m.\u001b[0m\u001b[0ms\u001b[0m\u001b[0;34m)\u001b[0m\u001b[0;34m:\u001b[0m\u001b[0;34m\u001b[0m\u001b[0;34m\u001b[0m\u001b[0m\n\u001b[0;32m----> 8\u001b[0;31m             \u001b[0;32mraise\u001b[0m \u001b[0mStopIteration\u001b[0m\u001b[0;34m(\u001b[0m\u001b[0;34m\"Ended\"\u001b[0m\u001b[0;34m)\u001b[0m\u001b[0;34m\u001b[0m\u001b[0;34m\u001b[0m\u001b[0m\n\u001b[0m\u001b[1;32m      9\u001b[0m         \u001b[0;32melse\u001b[0m\u001b[0;34m:\u001b[0m\u001b[0;34m\u001b[0m\u001b[0;34m\u001b[0m\u001b[0m\n\u001b[1;32m     10\u001b[0m             \u001b[0mself\u001b[0m\u001b[0;34m.\u001b[0m\u001b[0mindex\u001b[0m \u001b[0;34m+=\u001b[0m \u001b[0;36m1\u001b[0m\u001b[0;34m\u001b[0m\u001b[0;34m\u001b[0m\u001b[0m\n",
            "\u001b[0;31mStopIteration\u001b[0m: Ended"
          ]
        }
      ]
    },
    {
      "cell_type": "markdown",
      "source": [
        "Ура, сделали простой рабочий итератор! Как вы можете заметить, внутри next можно делать что угодно (можно изменять элементы, выводить по условиям и так далее). Но этого недостаточно, потому что давайте попробуем сделать следующее:"
      ],
      "metadata": {
        "id": "HifdIv38ldSH"
      }
    },
    {
      "cell_type": "code",
      "source": [
        "a = \"abcdefg\"\n",
        "iter = MyIter(a)\n",
        "for i in iter:\n",
        "    print(i)"
      ],
      "metadata": {
        "colab": {
          "base_uri": "https://localhost:8080/",
          "height": 207
        },
        "id": "kLi6Tgw-nBII",
        "outputId": "0ebc73cc-2017-46b9-af8f-941ea8fc29ae"
      },
      "execution_count": 10,
      "outputs": [
        {
          "output_type": "error",
          "ename": "TypeError",
          "evalue": "'MyIter' object is not iterable",
          "traceback": [
            "\u001b[0;31m---------------------------------------------------------------------------\u001b[0m",
            "\u001b[0;31mTypeError\u001b[0m                                 Traceback (most recent call last)",
            "\u001b[0;32m<ipython-input-10-16e71fcaa69e>\u001b[0m in \u001b[0;36m<cell line: 3>\u001b[0;34m()\u001b[0m\n\u001b[1;32m      1\u001b[0m \u001b[0ma\u001b[0m \u001b[0;34m=\u001b[0m \u001b[0;34m\"abcdefg\"\u001b[0m\u001b[0;34m\u001b[0m\u001b[0;34m\u001b[0m\u001b[0m\n\u001b[1;32m      2\u001b[0m \u001b[0miter\u001b[0m \u001b[0;34m=\u001b[0m \u001b[0mMyIter\u001b[0m\u001b[0;34m(\u001b[0m\u001b[0ma\u001b[0m\u001b[0;34m)\u001b[0m\u001b[0;34m\u001b[0m\u001b[0;34m\u001b[0m\u001b[0m\n\u001b[0;32m----> 3\u001b[0;31m \u001b[0;32mfor\u001b[0m \u001b[0mi\u001b[0m \u001b[0;32min\u001b[0m \u001b[0miter\u001b[0m\u001b[0;34m:\u001b[0m\u001b[0;34m\u001b[0m\u001b[0;34m\u001b[0m\u001b[0m\n\u001b[0m\u001b[1;32m      4\u001b[0m     \u001b[0mprint\u001b[0m\u001b[0;34m(\u001b[0m\u001b[0mi\u001b[0m\u001b[0;34m)\u001b[0m\u001b[0;34m\u001b[0m\u001b[0;34m\u001b[0m\u001b[0m\n",
            "\u001b[0;31mTypeError\u001b[0m: 'MyIter' object is not iterable"
          ]
        }
      ]
    },
    {
      "cell_type": "markdown",
      "source": [
        "Опа, вроде как сделали итератор, но он не iterable. Как так?\n",
        "\n",
        "Чтобы итератор стал полным итератором, нам надо добавить dunder метод \\_\\_iter\\_\\_, который и должен возвращать объект (вернее то, что нужно итерировать):"
      ],
      "metadata": {
        "id": "wds9oO5jnGXt"
      }
    },
    {
      "cell_type": "code",
      "source": [
        "class MyIter:\n",
        "    def __init__(self, s):\n",
        "        self.s = s\n",
        "        self.index = 0\n",
        "\n",
        "    def __iter__(self):\n",
        "        return self\n",
        "\n",
        "    def __next__(self):\n",
        "        if self.index >= len(self.s):\n",
        "            raise StopIteration(\"Ended\")\n",
        "        else:\n",
        "            self.index += 1\n",
        "            return self.s[self.index - 1]"
      ],
      "metadata": {
        "id": "G4cCIqsenSh9"
      },
      "execution_count": 11,
      "outputs": []
    },
    {
      "cell_type": "code",
      "source": [
        "a = \"abcdefg\"\n",
        "iter = MyIter(a)\n",
        "for i in iter:\n",
        "    print(i)"
      ],
      "metadata": {
        "colab": {
          "base_uri": "https://localhost:8080/"
        },
        "id": "U06IwRavnXVj",
        "outputId": "9dfab050-fffb-4ca8-b72d-3ca96bacf6ae"
      },
      "execution_count": 12,
      "outputs": [
        {
          "output_type": "stream",
          "name": "stdout",
          "text": [
            "a\n",
            "b\n",
            "c\n",
            "d\n",
            "e\n",
            "f\n",
            "g\n"
          ]
        }
      ]
    },
    {
      "cell_type": "markdown",
      "source": [
        "Зачем нужны итераторы?\n",
        "\n",
        "* Позволяет перебирать элементы (без итераторов нам бы пришлось делать while, обращаться к каждому элементу). По факту проще синтаксис, не более\n",
        "\n",
        "* Позволяет экономить память\n",
        "\n",
        "Про второе - мы как-то говорили про раницу между range и xrange во втором Python (range во втором Питоне просто выдает сразу весь список, а его хранить в памяти надо)\n",
        "\n",
        "Давайте попробуем сделать свой собственный range:"
      ],
      "metadata": {
        "id": "yanYRNIbnjMR"
      }
    },
    {
      "cell_type": "code",
      "source": [
        "class MyRange:\n",
        "    def __init__(self, start=0, end=10, step=1):\n",
        "        self.start = start\n",
        "        self.end = end\n",
        "        self.step = step\n",
        "\n",
        "    def __iter__(self):\n",
        "        return self\n",
        "\n",
        "    def __next__(self):\n",
        "        if self.start >= self.end:\n",
        "            raise StopIteration\n",
        "        else:\n",
        "            self.start += self.step\n",
        "            return self.start - self.step\n",
        "\n",
        "for i in MyRange(1, 3, 0.5):\n",
        "    print(i)"
      ],
      "metadata": {
        "colab": {
          "base_uri": "https://localhost:8080/"
        },
        "id": "loErm4M6oR29",
        "outputId": "b586acb6-96fa-455a-fd9a-3957d56bdd5c"
      },
      "execution_count": 17,
      "outputs": [
        {
          "output_type": "stream",
          "name": "stdout",
          "text": [
            "1.0\n",
            "1.5\n",
            "2.0\n",
            "2.5\n"
          ]
        }
      ]
    },
    {
      "cell_type": "markdown",
      "source": [
        "## Генераторы"
      ],
      "metadata": {
        "id": "3EC2WocBnk6b"
      }
    },
    {
      "cell_type": "markdown",
      "source": [
        "В чем разница между генератором и итератором?\n",
        "\n",
        "* Итератор - объект, позволяющий пройтись по объектам\n",
        "\n",
        "* Генератор - объект, позволяющий генерировать значения\n",
        "\n",
        "Формально генератор - это расширение итератора (за счет того, что можно генерировать данные)"
      ],
      "metadata": {
        "id": "_0sC82q-vHJC"
      }
    },
    {
      "cell_type": "markdown",
      "source": [
        "Как распознать генератор? Простым словом yield!"
      ],
      "metadata": {
        "id": "-Pu_cGgTnn1K"
      }
    },
    {
      "cell_type": "code",
      "source": [
        "def simple_gen():\n",
        "    yield \"Какапо\"\n",
        "    yield \"Кеа\"\n",
        "    yield \"Ара\"\n",
        "    yield \"Какаду\"\n",
        "    yield \"Корелла\"\n",
        "\n",
        "s = simple_gen()\n",
        "print(next(s))\n",
        "print(next(s))\n",
        "print(next(s))\n",
        "print(next(s))\n",
        "print(next(s))\n",
        "print(next(s)) # опа, знакомая нам ошибка\n"
      ],
      "metadata": {
        "colab": {
          "base_uri": "https://localhost:8080/",
          "height": 282
        },
        "id": "nBEn93pXoNtG",
        "outputId": "fe89fb1e-f764-4fb4-d110-7c8bae3214cc"
      },
      "execution_count": 18,
      "outputs": [
        {
          "output_type": "stream",
          "name": "stdout",
          "text": [
            "Какапо\n",
            "Кеа\n",
            "Ара\n",
            "Какаду\n",
            "Корелла\n"
          ]
        },
        {
          "output_type": "error",
          "ename": "StopIteration",
          "evalue": "",
          "traceback": [
            "\u001b[0;31m---------------------------------------------------------------------------\u001b[0m",
            "\u001b[0;31mStopIteration\u001b[0m                             Traceback (most recent call last)",
            "\u001b[0;32m<ipython-input-18-0c79d8c51558>\u001b[0m in \u001b[0;36m<cell line: 14>\u001b[0;34m()\u001b[0m\n\u001b[1;32m     12\u001b[0m \u001b[0mprint\u001b[0m\u001b[0;34m(\u001b[0m\u001b[0mnext\u001b[0m\u001b[0;34m(\u001b[0m\u001b[0ms\u001b[0m\u001b[0;34m)\u001b[0m\u001b[0;34m)\u001b[0m\u001b[0;34m\u001b[0m\u001b[0;34m\u001b[0m\u001b[0m\n\u001b[1;32m     13\u001b[0m \u001b[0mprint\u001b[0m\u001b[0;34m(\u001b[0m\u001b[0mnext\u001b[0m\u001b[0;34m(\u001b[0m\u001b[0ms\u001b[0m\u001b[0;34m)\u001b[0m\u001b[0;34m)\u001b[0m\u001b[0;34m\u001b[0m\u001b[0;34m\u001b[0m\u001b[0m\n\u001b[0;32m---> 14\u001b[0;31m \u001b[0mprint\u001b[0m\u001b[0;34m(\u001b[0m\u001b[0mnext\u001b[0m\u001b[0;34m(\u001b[0m\u001b[0ms\u001b[0m\u001b[0;34m)\u001b[0m\u001b[0;34m)\u001b[0m \u001b[0;31m# опа, знакомая нам ошибка\u001b[0m\u001b[0;34m\u001b[0m\u001b[0;34m\u001b[0m\u001b[0m\n\u001b[0m",
            "\u001b[0;31mStopIteration\u001b[0m: "
          ]
        }
      ]
    },
    {
      "cell_type": "code",
      "source": [
        "for i in simple_gen():\n",
        "    print(i)"
      ],
      "metadata": {
        "colab": {
          "base_uri": "https://localhost:8080/"
        },
        "id": "gqtqf1UitIdu",
        "outputId": "cf7fec5a-0a1e-4ce4-9077-16a582a9e9bd"
      },
      "execution_count": 19,
      "outputs": [
        {
          "output_type": "stream",
          "name": "stdout",
          "text": [
            "Какапо\n",
            "Кеа\n",
            "Ара\n",
            "Какаду\n",
            "Корелла\n"
          ]
        }
      ]
    },
    {
      "cell_type": "markdown",
      "source": [
        "Как работает генератор, что за yield?\n",
        "\n",
        "Все просто:\n",
        "\n",
        "Мы вызываем функцию. Когда он доходит до yield, то выдает значение. После этого функция переходит как бы в режим ожидания. Когда мы ее вызываем в следующий раз, он начинает с места, где закончил и продолжает. Как закончить жизнь генератора? Сделать return"
      ],
      "metadata": {
        "id": "_USnaMOoorom"
      }
    },
    {
      "cell_type": "code",
      "source": [
        "def fibonacci(n):\n",
        "    a, b, counter = 0, 1, 0\n",
        "    while True:\n",
        "        if (counter > n):\n",
        "            return\n",
        "        yield a\n",
        "        a, b = b, a + b\n",
        "        counter += 1\n",
        "\n",
        "f = fibonacci(5)\n",
        "print(f)\n",
        "for x in f:\n",
        "    print(x, end=\" \")"
      ],
      "metadata": {
        "colab": {
          "base_uri": "https://localhost:8080/"
        },
        "id": "X2kUdOBDpRW9",
        "outputId": "dbe04b4a-32d3-478f-ea8b-81f22cb716f0"
      },
      "execution_count": null,
      "outputs": [
        {
          "output_type": "stream",
          "name": "stdout",
          "text": [
            "<generator object fibonacci at 0x7f4327abbe50>\n",
            "0 1 1 2 3 5 "
          ]
        }
      ]
    },
    {
      "cell_type": "markdown",
      "source": [
        "Ну хорошо, в нашем первом примере как-то это явно неудобно, писать кучу строк... А можно, на самом деле, сделать вот такую штуку:"
      ],
      "metadata": {
        "id": "yUGJBP6zrNx2"
      }
    },
    {
      "cell_type": "code",
      "source": [
        "def simple_gen():\n",
        "    yield from [\"Какапо\", \"Кеа\", \"Ара\", \"Какаду\", \"Корелла\"] #yield from работает только с iterable объектами\n",
        "\n",
        "s = simple_gen()\n",
        "print(next(s))\n",
        "print(next(s))\n",
        "print(next(s))\n",
        "print(next(s))\n",
        "print(next(s))"
      ],
      "metadata": {
        "colab": {
          "base_uri": "https://localhost:8080/"
        },
        "id": "A1JTCWnSsB4E",
        "outputId": "8cc7791a-9f00-4c94-c162-19298f0b1cca"
      },
      "execution_count": null,
      "outputs": [
        {
          "output_type": "stream",
          "name": "stdout",
          "text": [
            "Какапо\n",
            "Кеа\n",
            "Ара\n",
            "Какаду\n",
            "Корелла\n"
          ]
        }
      ]
    },
    {
      "cell_type": "markdown",
      "source": [
        "Где вы могли видеть генераторы? А вот тут:"
      ],
      "metadata": {
        "id": "MDFsUrQKtosT"
      }
    },
    {
      "cell_type": "code",
      "source": [
        "(i for i in range(10))"
      ],
      "metadata": {
        "colab": {
          "base_uri": "https://localhost:8080/"
        },
        "id": "Ty2q6sextrpP",
        "outputId": "7214c926-685c-44c4-985c-a1efc753e86e"
      },
      "execution_count": 20,
      "outputs": [
        {
          "output_type": "execute_result",
          "data": {
            "text/plain": [
              "<generator object <genexpr> at 0x7cc55f08bdf0>"
            ]
          },
          "metadata": {},
          "execution_count": 20
        }
      ]
    },
    {
      "cell_type": "markdown",
      "source": [
        "Что еще крутого есть в генераторах? Для итераторов мы можем только ходить по значениям и делать с ними что-то (итерироваться). А вот в генераторы мы можем отправлять значения!\n",
        "\n",
        "В чем прикол: на самом деле yield не только дает значения, но и послыает значения. Если воспринимать генератор как итератор, то разницы никакой, в общем-то, а вот если расширять функции генератора, то не совсем.\n",
        "\n",
        "По дефолту yield выдает None, а поскольку мы ничего с этим не делаем, то как бы и ок. Но мы можем отправить что-то с помощью send(), и таким образом, модернизировать значения!"
      ],
      "metadata": {
        "id": "Y8GMBkd7soKV"
      }
    },
    {
      "cell_type": "code",
      "source": [
        "def count(firstval=0, step=1):\n",
        "    counter = firstval\n",
        "    while True:\n",
        "        new_counter_val = yield counter # здесь возвращается либо None, либо результат send\n",
        "        if new_counter_val is None:\n",
        "            counter += step\n",
        "        else:\n",
        "            counter = new_counter_val[0]\n",
        "            step = new_counter_val[1]\n",
        "\n",
        "start_value = 2.1\n",
        "step_value = 0.3\n",
        "counter = count(start_value, step_value)\n",
        "for i in range(10):\n",
        "    new_value = next(counter)\n",
        "    print(f\"{new_value:2.2f}\", end=\", \")\n",
        "\n",
        "print()\n",
        "print(\"set current count value to another value:\")\n",
        "counter.send((100.5, 2)) # ооотправляем посылочку\n",
        "for i in range(10):\n",
        "    new_value = next(counter)\n",
        "    print(f\"{new_value:2.2f}\", end=\", \")"
      ],
      "metadata": {
        "colab": {
          "base_uri": "https://localhost:8080/"
        },
        "id": "3pU2RizrsT5B",
        "outputId": "bab751cf-1673-4bb3-b732-70a62c4fad71"
      },
      "execution_count": null,
      "outputs": [
        {
          "output_type": "stream",
          "name": "stdout",
          "text": [
            "2.10, 2.40, 2.70, 3.00, 3.30, 3.60, 3.90, 4.20, 4.50, 4.80, \n",
            "set current count value to another value:\n",
            "102.50, 104.50, 106.50, 108.50, 110.50, 112.50, 114.50, 116.50, 118.50, 120.50, "
          ]
        }
      ]
    },
    {
      "cell_type": "markdown",
      "source": [
        "А еще можем вкидывать ошибки)))"
      ],
      "metadata": {
        "id": "yLCNxcgQuzVK"
      }
    },
    {
      "cell_type": "code",
      "source": [
        "def count(firstval=0, step=1):\n",
        "    counter = firstval\n",
        "    while True:\n",
        "        try:\n",
        "            new_counter_val = yield counter\n",
        "            if new_counter_val is None:\n",
        "                counter += step\n",
        "            else:\n",
        "                counter = new_counter_val\n",
        "        except Exception:\n",
        "            yield (firstval, step, counter)\n",
        "\n",
        "c = count()\n",
        "for i in range(6):\n",
        "    print(next(c))\n",
        "print(\"Our state\")\n",
        "state_of_count = c.throw(Exception)\n",
        "print(state_of_count)\n",
        "for i in range(3):\n",
        "    print(next(c))"
      ],
      "metadata": {
        "colab": {
          "base_uri": "https://localhost:8080/"
        },
        "id": "NvmQDH_Uu3Ad",
        "outputId": "d1b308eb-216d-47a3-f668-e1a6b2b681d4"
      },
      "execution_count": null,
      "outputs": [
        {
          "output_type": "stream",
          "name": "stdout",
          "text": [
            "0\n",
            "1\n",
            "2\n",
            "3\n",
            "4\n",
            "5\n",
            "Our state\n",
            "(0, 1, 5)\n",
            "5\n",
            "6\n",
            "7\n"
          ]
        }
      ]
    },
    {
      "cell_type": "markdown",
      "source": [
        "И на всякий случай, с чего начали, к тому и пришли: генераторы тоже можно передавать в качестве аргументов функции, опа, доп обертка"
      ],
      "metadata": {
        "id": "Dm9o_pBvvQMD"
      }
    },
    {
      "cell_type": "code",
      "source": [
        "def firstn(generator, n):\n",
        "    g = generator()\n",
        "    for i in range(n):\n",
        "        yield next(g)\n",
        "\n",
        "print(list(firstn(simple_gen, 3)))"
      ],
      "metadata": {
        "colab": {
          "base_uri": "https://localhost:8080/"
        },
        "id": "W5d1pWdFvXxX",
        "outputId": "bb8ac7b4-d838-48e3-dab2-fbb41d609e9a"
      },
      "execution_count": null,
      "outputs": [
        {
          "output_type": "stream",
          "name": "stdout",
          "text": [
            "['Какапо', 'Кеа', 'Ара']\n"
          ]
        }
      ]
    },
    {
      "cell_type": "markdown",
      "source": [
        "## Попугай дня"
      ],
      "metadata": {
        "id": "xAL_LbetgNuo"
      }
    },
    {
      "cell_type": "markdown",
      "source": [
        "![](https://i.pinimg.com/originals/2d/59/dc/2d59dc37ef7d2c3767f075e05ed193a6.jpg)"
      ],
      "metadata": {
        "id": "QdCs2NJKgRGf"
      }
    },
    {
      "cell_type": "markdown",
      "source": [
        "А это не попугай! Это капибара (или ее еще называют водосвинкой, а в Мексике ее вообще зовут кокосовой собачкой)\n",
        "\n",
        "Самые крупные грызуны на планете, максимально милейшие, дружелюбные и очень хорошо ладят с людьми. Едят траву, а водосвинками называются, потому что они плавают и в целом любят воду\n",
        "\n",
        "Какие факты есть про них:\n",
        "\n",
        "1. Они балдежные и очень спокойные\n",
        "\n",
        "2. Католическая церковь в XVI веке говорила, что капибары из-за их полуводного образа жизни являются рыбами, а поэтому их можно было есть в пост\n",
        "\n",
        "3. В Аргентине недавно переселились в богатые районы Буэнос-Айреса (где, естественно, много зелени) и теперь там хозяйствуют (поэтому есть кучами мемов с капибарами-коммунистами). А поскольку естественные враги капибар - это кайманы и пумы, то как-то их и не выселишь"
      ],
      "metadata": {
        "id": "2fjnj9aegYse"
      }
    },
    {
      "cell_type": "markdown",
      "source": [
        "![](https://i.pinimg.com/originals/83/0e/16/830e163003a346352ac0d9ba20203b2e.jpg)"
      ],
      "metadata": {
        "id": "X7eLvbODhmUG"
      }
    }
  ]
}