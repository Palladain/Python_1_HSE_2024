{
  "nbformat": 4,
  "nbformat_minor": 0,
  "metadata": {
    "colab": {
      "provenance": []
    },
    "kernelspec": {
      "name": "python3",
      "display_name": "Python 3"
    },
    "language_info": {
      "name": "python"
    }
  },
  "cells": [
    {
      "cell_type": "markdown",
      "source": [
        "#Python-1, лекция 9\n",
        "\n",
        "Лектор: Петров Тимур, Фролов Андрей"
      ],
      "metadata": {
        "id": "tOKHW-Unyexe"
      }
    },
    {
      "cell_type": "markdown",
      "source": [
        "Сегодня говорим про декораторы, как их создать и как их кушать"
      ],
      "metadata": {
        "id": "5Wwb8TS4y0ah"
      }
    },
    {
      "cell_type": "markdown",
      "source": [
        "## Пытаемся понять декораторы"
      ],
      "metadata": {
        "id": "MWARMmZK1ITu"
      }
    },
    {
      "cell_type": "markdown",
      "source": [
        "Итак, первое, что у нас есть - это функция. Функция может создавать функции внутри себя, а также умеет возвращать функции:"
      ],
      "metadata": {
        "id": "koLgufze1Lcg"
      }
    },
    {
      "cell_type": "code",
      "execution_count": 9,
      "metadata": {
        "colab": {
          "base_uri": "https://localhost:8080/"
        },
        "id": "XTc7hTZ_yZNM",
        "outputId": "503dab48-e546-4389-97ba-0cf59461ab90"
      },
      "outputs": [
        {
          "output_type": "stream",
          "name": "stdout",
          "text": [
            "6 17\n",
            "0\n"
          ]
        }
      ],
      "source": [
        "def lineq(*args):\n",
        "\n",
        "    def get_x(x):\n",
        "        return sum([args[i] * x**i for i in range(len(args))])\n",
        "\n",
        "    return get_x\n",
        "\n",
        "a = lineq(1, 2, 3)\n",
        "print(a(1), a(2))\n",
        "b = lineq(0, 0, 0)\n",
        "print(b(100))"
      ]
    },
    {
      "cell_type": "markdown",
      "source": [
        "Что мы здесь сделали?\n",
        "\n",
        "Шаг 1: функция lineq, которая принимает в себя значения аргументов и возвращает функцию\n",
        "\n",
        "Шаг 2: внутри функции мы оформили функцию, принимающую один аргумент, а значения args он берет из своего окружения - в данном случае в lineq\n",
        "\n",
        "Шаг 3: так как мы присваиваем переменной функцию, то ее можно выдавать и передавать аргументы"
      ],
      "metadata": {
        "id": "wPWadlyJ2-hK"
      }
    },
    {
      "cell_type": "markdown",
      "source": [
        "А как у нас функция понимает, какие значения ему брать? Давайте на другом примере вспомним:"
      ],
      "metadata": {
        "id": "J1A-rQYu4Mso"
      }
    },
    {
      "cell_type": "code",
      "source": [
        "def f():\n",
        "    print(c)\n",
        "\n",
        "c = 5\n",
        "f()"
      ],
      "metadata": {
        "colab": {
          "base_uri": "https://localhost:8080/"
        },
        "id": "R42aPCa94SjJ",
        "outputId": "80ce7936-6c9c-4386-ce18-c72609cc1683"
      },
      "execution_count": 11,
      "outputs": [
        {
          "output_type": "stream",
          "name": "stdout",
          "text": [
            "5\n"
          ]
        }
      ]
    },
    {
      "cell_type": "markdown",
      "source": [
        "Что делает функция, когда вызывается переменная? Он ее ищет: в локальной области видимости (внутри функции), если нет, то ищет снаружи (в нашем случае - в основной программе).\n",
        "\n",
        "В функции внутри функции происходит то же самое, только мы добавили еще один слой: слой функции внутри функции. Вот такая штука называется замыканием (closure)"
      ],
      "metadata": {
        "id": "iwqly5r14XYR"
      }
    },
    {
      "cell_type": "markdown",
      "source": [
        "Также в качестве аргумента мы умеем принимать и использовать сами функции:"
      ],
      "metadata": {
        "id": "Ernq6ufB6CUt"
      }
    },
    {
      "cell_type": "code",
      "source": [
        "import math\n",
        "\n",
        "def func(f):\n",
        "    def get_x(x):\n",
        "        return f(x)\n",
        "    return get_x\n",
        "\n",
        "a = func(math.sin)\n",
        "print(a(5))\n",
        "b = func(math.cos)\n",
        "print(b(5))"
      ],
      "metadata": {
        "colab": {
          "base_uri": "https://localhost:8080/"
        },
        "id": "VW5ypCom6HVe",
        "outputId": "0db1ce9f-6625-4198-f558-5b82e0bd7ebc"
      },
      "execution_count": 13,
      "outputs": [
        {
          "output_type": "stream",
          "name": "stdout",
          "text": [
            "-0.9589242746631385\n",
            "0.28366218546322625\n"
          ]
        }
      ]
    },
    {
      "cell_type": "markdown",
      "source": [
        "А теперь что такое декоратор? Это обертка вокруг функции, которая сама из себя представляет функцию, принимающая на вход функцию (то есть буквально мы делаем то же самое, что и делали до этого, но красиво обернули, дабы не копироваться)"
      ],
      "metadata": {
        "id": "L8KIiQy65QBv"
      }
    },
    {
      "cell_type": "markdown",
      "source": [
        "## Пишем примитивный декоратор"
      ],
      "metadata": {
        "id": "2qzhTxoh58AD"
      }
    },
    {
      "cell_type": "code",
      "source": [
        "def our_decorator(func): # наш прекрасный и бесполезный декоратор\n",
        "\n",
        "    def function_wrapper(x):\n",
        "        print(\"Before calling \" + func.__name__)\n",
        "        print(func(x))\n",
        "        print(\"After calling \" + func.__name__)\n",
        "\n",
        "    return function_wrapper\n",
        "\n",
        "def foo(x):\n",
        "    return f\"Our value {x}\"\n",
        "\n",
        "foo(5)\n",
        "print('-' * 30)\n",
        "foo = our_decorator(foo)\n",
        "foo(5)"
      ],
      "metadata": {
        "colab": {
          "base_uri": "https://localhost:8080/"
        },
        "id": "6GaL-QA05-fa",
        "outputId": "3ed4ae05-039b-47af-fa24-edff8d11093f"
      },
      "execution_count": 24,
      "outputs": [
        {
          "output_type": "stream",
          "name": "stdout",
          "text": [
            "------------------------------\n",
            "Before calling foo\n",
            "Our value 5\n",
            "After calling foo\n"
          ]
        }
      ]
    },
    {
      "cell_type": "markdown",
      "source": [
        "А теперь добавим немного дополнительного сахара:"
      ],
      "metadata": {
        "id": "cA0WKBTm7WRk"
      }
    },
    {
      "cell_type": "code",
      "source": [
        "def our_decorator(func): # наш прекрасный и бесполезный декоратор\n",
        "\n",
        "    def function_wrapper(x):\n",
        "        print(\"Before calling \" + func.__name__)\n",
        "        print(func(x))\n",
        "        print(\"After calling \" + func.__name__)\n",
        "\n",
        "    return function_wrapper\n",
        "\n",
        "@our_decorator # вот так обозначаются декораторы (название - по функции)\n",
        "def g(x):\n",
        "    return x\n",
        "\n",
        "g(5)"
      ],
      "metadata": {
        "colab": {
          "base_uri": "https://localhost:8080/"
        },
        "id": "gwm_Bp_17acp",
        "outputId": "7a8b70be-d59d-4941-f482-e219c46a94be"
      },
      "execution_count": 23,
      "outputs": [
        {
          "output_type": "stream",
          "name": "stdout",
          "text": [
            "Before calling g\n",
            "5\n",
            "After calling g\n"
          ]
        }
      ]
    },
    {
      "cell_type": "markdown",
      "source": [
        "Вы декораторы уже видели - @lru_cache, @staticmethod и так далее. Это все, по существу - вот такие обертки\n",
        "\n",
        "Обратите внимание: декораторы можно использовать не только на свои функции, но и в целом на любые другие. Другое дело, что тогда это надо делать с помощью первого случая:"
      ],
      "metadata": {
        "id": "nQmjgSkB7wNS"
      }
    },
    {
      "cell_type": "code",
      "source": [
        "from math import sin\n",
        "\n",
        "sin = our_decorator(sin)\n",
        "sin(5)"
      ],
      "metadata": {
        "colab": {
          "base_uri": "https://localhost:8080/"
        },
        "id": "vRXbx0i88J5S",
        "outputId": "ef98593f-6539-4f9d-bc84-3ed68c40de15"
      },
      "execution_count": 26,
      "outputs": [
        {
          "output_type": "stream",
          "name": "stdout",
          "text": [
            "Before calling sin\n",
            "-0.9589242746631385\n",
            "After calling sin\n"
          ]
        }
      ]
    },
    {
      "cell_type": "markdown",
      "source": [
        "## Идем дальше - создаем полезные декораторы"
      ],
      "metadata": {
        "id": "221gX-j89LHi"
      }
    },
    {
      "cell_type": "markdown",
      "source": [
        "Пример 1: пытаемся посчитать время выполнения функции\n",
        "\n",
        "Когда мы пишем код, мы часто хотим знать, а сколько у нас длился тот или иной кусок. Можем навесить отдельно на функцию декоратор, которые будет считать время выполнения:"
      ],
      "metadata": {
        "id": "nwA0AE9y9mXC"
      }
    },
    {
      "cell_type": "code",
      "source": [
        "import time\n",
        "\n",
        "def count_time(f):\n",
        "    def wrapper():\n",
        "        start = time.time()\n",
        "        f()\n",
        "        end = time.time()\n",
        "        print(f\"Function {f.__name__} took {end - start} seconds\")\n",
        "\n",
        "    return wrapper\n",
        "\n",
        "@count_time\n",
        "def fibonacci(n):\n",
        "    if n in (1, 2):\n",
        "        return 1\n",
        "    return fibonacci(n - 1) + fibonacci(n - 2)\n",
        "\n",
        "fibonacci(10)"
      ],
      "metadata": {
        "colab": {
          "base_uri": "https://localhost:8080/",
          "height": 188
        },
        "id": "1cpWTO0D96Nk",
        "outputId": "6d011d8d-8379-456e-a5bb-9fdae7cbe5f5"
      },
      "execution_count": 31,
      "outputs": [
        {
          "output_type": "error",
          "ename": "TypeError",
          "evalue": "count_time.<locals>.wrapper() takes 0 positional arguments but 1 was given",
          "traceback": [
            "\u001b[0;31m---------------------------------------------------------------------------\u001b[0m",
            "\u001b[0;31mTypeError\u001b[0m                                 Traceback (most recent call last)",
            "\u001b[0;32m<ipython-input-31-4c3fa5150710>\u001b[0m in \u001b[0;36m<cell line: 18>\u001b[0;34m()\u001b[0m\n\u001b[1;32m     16\u001b[0m     \u001b[0;32mreturn\u001b[0m \u001b[0mfibonacci\u001b[0m\u001b[0;34m(\u001b[0m\u001b[0mn\u001b[0m \u001b[0;34m-\u001b[0m \u001b[0;36m1\u001b[0m\u001b[0;34m)\u001b[0m \u001b[0;34m+\u001b[0m \u001b[0mfibonacci\u001b[0m\u001b[0;34m(\u001b[0m\u001b[0mn\u001b[0m \u001b[0;34m-\u001b[0m \u001b[0;36m2\u001b[0m\u001b[0;34m)\u001b[0m\u001b[0;34m\u001b[0m\u001b[0;34m\u001b[0m\u001b[0m\n\u001b[1;32m     17\u001b[0m \u001b[0;34m\u001b[0m\u001b[0m\n\u001b[0;32m---> 18\u001b[0;31m \u001b[0mfibonacci\u001b[0m\u001b[0;34m(\u001b[0m\u001b[0;36m10\u001b[0m\u001b[0;34m)\u001b[0m\u001b[0;34m\u001b[0m\u001b[0;34m\u001b[0m\u001b[0m\n\u001b[0m",
            "\u001b[0;31mTypeError\u001b[0m: count_time.<locals>.wrapper() takes 0 positional arguments but 1 was given"
          ]
        }
      ]
    },
    {
      "cell_type": "markdown",
      "source": [
        "Чет не получается, как так, что же делать, как-то не очень универсально...\n",
        "\n",
        "В чем тут проблема - в описании самого декоратора нужно передавать аргументы, это получается для любого декоратора это надо делать?\n",
        "\n",
        "Нууу нет конечно, давайте править:"
      ],
      "metadata": {
        "id": "cvo1oEBC-14U"
      }
    },
    {
      "cell_type": "code",
      "source": [
        "import time\n",
        "\n",
        "def count_time(f):\n",
        "    def wrapper(*args, **kwargs):\n",
        "        start = time.time()\n",
        "        res = f(*args, **kwargs)\n",
        "        end = time.time()\n",
        "        print(f\"Function {f.__name__} took {end - start} seconds\")\n",
        "        return res\n",
        "\n",
        "    return wrapper\n",
        "\n",
        "@count_time\n",
        "def fibonacci(n=30):\n",
        "    a = [1 for i_ in range(n)]\n",
        "    for i in range(2, n):\n",
        "        a[i] = a[i - 1] + a[i - 2]\n",
        "    return a[-1]\n",
        "\n",
        "fibonacci(10)"
      ],
      "metadata": {
        "colab": {
          "base_uri": "https://localhost:8080/"
        },
        "id": "hKengA-K_KqZ",
        "outputId": "b5cc151b-246c-4e2c-f72f-9e232bb96c02"
      },
      "execution_count": 37,
      "outputs": [
        {
          "output_type": "stream",
          "name": "stdout",
          "text": [
            "Function fibonacci took 7.152557373046875e-06 seconds\n"
          ]
        },
        {
          "output_type": "execute_result",
          "data": {
            "text/plain": [
              "55"
            ]
          },
          "metadata": {},
          "execution_count": 37
        }
      ]
    },
    {
      "cell_type": "code",
      "source": [
        "fibonacci()"
      ],
      "metadata": {
        "colab": {
          "base_uri": "https://localhost:8080/"
        },
        "id": "GdiP30LRAggk",
        "outputId": "d689dac5-3938-4496-a90e-7a10db76f27d"
      },
      "execution_count": 38,
      "outputs": [
        {
          "output_type": "stream",
          "name": "stdout",
          "text": [
            "Function fibonacci took 1.6689300537109375e-05 seconds\n"
          ]
        },
        {
          "output_type": "execute_result",
          "data": {
            "text/plain": [
              "832040"
            ]
          },
          "metadata": {},
          "execution_count": 38
        }
      ]
    },
    {
      "cell_type": "code",
      "source": [
        "@count_time\n",
        "def fetch_webpage():\n",
        "    import requests\n",
        "    webpage = requests.get('https://google.com')\n",
        "    return webpage\n",
        "\n",
        "wb = fetch_webpage()\n",
        "print(wb)"
      ],
      "metadata": {
        "colab": {
          "base_uri": "https://localhost:8080/"
        },
        "id": "yaGmYW_dAp0E",
        "outputId": "dddf45ac-ea24-4cb6-d3a2-8ac324477c09"
      },
      "execution_count": 44,
      "outputs": [
        {
          "output_type": "stream",
          "name": "stdout",
          "text": [
            "Function fetch_webpage took 0.06714630126953125 seconds\n",
            "<Response [200]>\n"
          ]
        }
      ]
    },
    {
      "cell_type": "markdown",
      "source": [
        "Ура, теперь функцию можно использовать где угодно!"
      ],
      "metadata": {
        "id": "FM31PteuA_Sd"
      }
    },
    {
      "cell_type": "markdown",
      "source": [
        "## Усложняем декоратор"
      ],
      "metadata": {
        "id": "-gLU31Z0BGb3"
      }
    },
    {
      "cell_type": "markdown",
      "source": [
        "Так, ну окей, время считать умеем. Но только 1 раз пока что. А запуски штуки такие, результат может разниться. Можем ли добавить в декоратор параметры?\n",
        "\n",
        "Да, но тут нужно сделать важное дополнение: декоратор - это функция, которая принимает и возвращает в качестве результата функцию и только функцию. Почему так - давайте на примере:"
      ],
      "metadata": {
        "id": "JmNmgH62C8As"
      }
    },
    {
      "cell_type": "code",
      "source": [
        "import time\n",
        "\n",
        "def count_time(f, iters=10):\n",
        "    def wrapper(*args, **kwargs):\n",
        "        timings = []\n",
        "        for _ in range(iters):\n",
        "            start = time.time()\n",
        "            res = f(*args, **kwargs)\n",
        "            end = time.time()\n",
        "            timings.append(end - start)\n",
        "        print(f\"Function {f.__name__} took {sum(timings) / iters} seconds\")\n",
        "        return res\n",
        "\n",
        "    return wrapper\n",
        "\n",
        "@count_time(iters=5)\n",
        "def fibonacci_new(n=30):\n",
        "    a = [1 for i_ in range(n)]\n",
        "    for i in range(2, n):\n",
        "        a[i] = a[i - 1] + a[i - 2]\n",
        "    return a[-1]\n",
        "\n",
        "fibonacci_new(10)"
      ],
      "metadata": {
        "colab": {
          "base_uri": "https://localhost:8080/",
          "height": 226
        },
        "id": "2hocoyVWDSTP",
        "outputId": "be9c58b5-1b8a-4a83-d050-fe62b4ebe43a"
      },
      "execution_count": 47,
      "outputs": [
        {
          "output_type": "error",
          "ename": "TypeError",
          "evalue": "count_time() missing 1 required positional argument: 'f'",
          "traceback": [
            "\u001b[0;31m---------------------------------------------------------------------------\u001b[0m",
            "\u001b[0;31mTypeError\u001b[0m                                 Traceback (most recent call last)",
            "\u001b[0;32m<ipython-input-47-19578ba84a2e>\u001b[0m in \u001b[0;36m<cell line: 16>\u001b[0;34m()\u001b[0m\n\u001b[1;32m     14\u001b[0m     \u001b[0;32mreturn\u001b[0m \u001b[0mwrapper\u001b[0m\u001b[0;34m\u001b[0m\u001b[0;34m\u001b[0m\u001b[0m\n\u001b[1;32m     15\u001b[0m \u001b[0;34m\u001b[0m\u001b[0m\n\u001b[0;32m---> 16\u001b[0;31m \u001b[0;34m@\u001b[0m\u001b[0mcount_time\u001b[0m\u001b[0;34m(\u001b[0m\u001b[0miters\u001b[0m\u001b[0;34m=\u001b[0m\u001b[0;36m5\u001b[0m\u001b[0;34m)\u001b[0m\u001b[0;34m\u001b[0m\u001b[0;34m\u001b[0m\u001b[0m\n\u001b[0m\u001b[1;32m     17\u001b[0m \u001b[0;32mdef\u001b[0m \u001b[0mfibonacci_new\u001b[0m\u001b[0;34m(\u001b[0m\u001b[0mn\u001b[0m\u001b[0;34m=\u001b[0m\u001b[0;36m30\u001b[0m\u001b[0;34m)\u001b[0m\u001b[0;34m:\u001b[0m\u001b[0;34m\u001b[0m\u001b[0;34m\u001b[0m\u001b[0m\n\u001b[1;32m     18\u001b[0m     \u001b[0ma\u001b[0m \u001b[0;34m=\u001b[0m \u001b[0;34m[\u001b[0m\u001b[0;36m1\u001b[0m \u001b[0;32mfor\u001b[0m \u001b[0mi_\u001b[0m \u001b[0;32min\u001b[0m \u001b[0mrange\u001b[0m\u001b[0;34m(\u001b[0m\u001b[0mn\u001b[0m\u001b[0;34m)\u001b[0m\u001b[0;34m]\u001b[0m\u001b[0;34m\u001b[0m\u001b[0;34m\u001b[0m\u001b[0m\n",
            "\u001b[0;31mTypeError\u001b[0m: count_time() missing 1 required positional argument: 'f'"
          ]
        }
      ]
    },
    {
      "cell_type": "code",
      "source": [
        "def fibonacci_new(n=30):\n",
        "    a = [1 for i_ in range(n)]\n",
        "    for i in range(2, n):\n",
        "        a[i] = a[i - 1] + a[i - 2]\n",
        "    return a[-1]"
      ],
      "metadata": {
        "id": "uUZonuWCFH_u"
      },
      "execution_count": 48,
      "outputs": []
    },
    {
      "cell_type": "code",
      "source": [
        "f = count_time(fibonacci_new, 10) # Придется тогда вот так писать и каждый раз\n",
        "f()"
      ],
      "metadata": {
        "colab": {
          "base_uri": "https://localhost:8080/"
        },
        "id": "AcSTsmnYEHHF",
        "outputId": "a353f9ed-ae97-46e6-8ea3-a68520de4df3"
      },
      "execution_count": 50,
      "outputs": [
        {
          "output_type": "stream",
          "name": "stdout",
          "text": [
            "Function fibonacci_new took 6.008148193359375e-06 seconds\n"
          ]
        },
        {
          "output_type": "execute_result",
          "data": {
            "text/plain": [
              "832040"
            ]
          },
          "metadata": {},
          "execution_count": 50
        }
      ]
    },
    {
      "cell_type": "markdown",
      "source": [
        "Выглядит некрасиво. Давайте поправим через гениальное решение - добавим еще одну обертку:"
      ],
      "metadata": {
        "id": "1UHLUw4AFQFe"
      }
    },
    {
      "cell_type": "code",
      "source": [
        "import time\n",
        "\n",
        "def batch_count(iters=10):\n",
        "    def count_time(f):\n",
        "        def wrapper(*args, **kwargs):\n",
        "            timings = []\n",
        "            for _ in range(iters):\n",
        "                start = time.time()\n",
        "                res = f(*args, **kwargs)\n",
        "                end = time.time()\n",
        "                timings.append(end - start)\n",
        "            print(f\"Function {f.__name__} took {sum(timings) / iters} seconds in {iters} iteations\")\n",
        "            return res\n",
        "\n",
        "        return wrapper\n",
        "    return count_time\n",
        "\n",
        "@batch_count(iters=10)\n",
        "def fibonacci(n=30):\n",
        "    a = [1 for i_ in range(n)]\n",
        "    for i in range(2, n):\n",
        "        a[i] = a[i - 1] + a[i - 2]\n",
        "    return a[-1]\n",
        "\n",
        "fibonacci(10)"
      ],
      "metadata": {
        "colab": {
          "base_uri": "https://localhost:8080/"
        },
        "id": "BmpJ3nr1FWR8",
        "outputId": "bc22d58d-b3fd-469e-cbe9-e123d989c830"
      },
      "execution_count": 56,
      "outputs": [
        {
          "output_type": "stream",
          "name": "stdout",
          "text": [
            "Function fibonacci took 3.4809112548828124e-06 seconds in 10 iteations\n"
          ]
        },
        {
          "output_type": "execute_result",
          "data": {
            "text/plain": [
              "55"
            ]
          },
          "metadata": {},
          "execution_count": 56
        }
      ]
    },
    {
      "cell_type": "markdown",
      "source": [
        "А вот так можно, легко и незатейливо! Почему так можно?\n",
        "\n",
        "Если приглядеться, что batch_count - это обычная функция, которая возвращает декоратор. Так как у нас тут есть скобки (то есть происходит вызов), то он в качестве декоратора запихивает выход - что и есть декоратор."
      ],
      "metadata": {
        "id": "ycBnXlosFsRj"
      }
    },
    {
      "cell_type": "markdown",
      "source": [
        "Вопрос на засыпку: а можно ли теперь вызвать функцию без декоратора?\n",
        "\n",
        "Можно, для этого есть отдельная библиотека undecorated:\n"
      ],
      "metadata": {
        "id": "TbHfRCjvGNqA"
      }
    },
    {
      "cell_type": "code",
      "source": [
        "!pip install undecorated"
      ],
      "metadata": {
        "colab": {
          "base_uri": "https://localhost:8080/"
        },
        "id": "p1jfkEphGgoE",
        "outputId": "0179bdf0-1f6b-407e-a3ef-9a126052ac35"
      },
      "execution_count": 52,
      "outputs": [
        {
          "output_type": "stream",
          "name": "stdout",
          "text": [
            "Collecting undecorated\n",
            "  Downloading undecorated-0.3.0-py3-none-any.whl.metadata (2.5 kB)\n",
            "Downloading undecorated-0.3.0-py3-none-any.whl (4.8 kB)\n",
            "Installing collected packages: undecorated\n",
            "Successfully installed undecorated-0.3.0\n"
          ]
        }
      ]
    },
    {
      "cell_type": "code",
      "source": [
        "from undecorated import undecorated\n",
        "print(fibonacci(10))\n",
        "print('-' * 30)\n",
        "f = undecorated(fibonacci)\n",
        "f(10)"
      ],
      "metadata": {
        "colab": {
          "base_uri": "https://localhost:8080/"
        },
        "id": "FOLHbtdlGixs",
        "outputId": "b644f621-623c-4d89-c179-fd676b946711"
      },
      "execution_count": 57,
      "outputs": [
        {
          "output_type": "stream",
          "name": "stdout",
          "text": [
            "Function fibonacci took 4.315376281738282e-06 seconds in 10 iteations\n",
            "55\n",
            "------------------------------\n"
          ]
        },
        {
          "output_type": "execute_result",
          "data": {
            "text/plain": [
              "55"
            ]
          },
          "metadata": {},
          "execution_count": 57
        }
      ]
    },
    {
      "cell_type": "markdown",
      "source": [
        "## Ломаем мозги - атрибуты функции"
      ],
      "metadata": {
        "id": "n7TmrX88I2jt"
      }
    },
    {
      "cell_type": "markdown",
      "source": [
        "Помните, мы говорили, что у классов и объектов класса есть атрибуты? (по сути, где мы можем хранить значения)\n",
        "\n",
        "Внимание: у функций они тоже ЕСТЬ (https://peps.python.org/pep-0232/)\n",
        "\n",
        "А это значит, что их тоже можно использовать!\n",
        "\n",
        "Давайте сделаем новый полезный декоратор, который будет считать число вызовов функции (зачем надо - допустим наша функция обращается к дорогому API, а денег у нас мало)"
      ],
      "metadata": {
        "id": "w4LcyV7iJCNR"
      }
    },
    {
      "cell_type": "code",
      "source": [
        "def call_counter(func):\n",
        "    def helper(*args, **kwargs):\n",
        "        helper.calls += 1\n",
        "        return func(*args, **kwargs)\n",
        "    helper.calls = 0\n",
        "\n",
        "    return helper\n",
        "\n",
        "@call_counter\n",
        "def high_price():\n",
        "    print(f\"You have paid 100$, goodbye\")\n",
        "\n",
        "@call_counter\n",
        "def super_high_price():\n",
        "    print(f\"You have paid 1000$, goodbye\")\n",
        "\n",
        "high_price()\n",
        "high_price()\n",
        "super_high_price()\n",
        "high_price()\n",
        "super_high_price()\n",
        "print(high_price.calls, super_high_price.calls)"
      ],
      "metadata": {
        "colab": {
          "base_uri": "https://localhost:8080/"
        },
        "id": "u-NoDdoEJ66v",
        "outputId": "3db06d1c-62e5-417d-fdd9-5f2cffac36f1"
      },
      "execution_count": 60,
      "outputs": [
        {
          "output_type": "stream",
          "name": "stdout",
          "text": [
            "You have paid 100$, goodbye\n",
            "You have paid 100$, goodbye\n",
            "You have paid 1000$, goodbye\n",
            "You have paid 100$, goodbye\n",
            "You have paid 1000$, goodbye\n",
            "3 2\n"
          ]
        }
      ]
    },
    {
      "cell_type": "markdown",
      "source": [
        "Зачем нам это надо? Ну в целом мы можем использовать параметр, чтобы ограничить число вызовов:"
      ],
      "metadata": {
        "id": "gK57BPg6K5ys"
      }
    },
    {
      "cell_type": "code",
      "source": [
        "def call_counter_new(func):\n",
        "    def helper(*args, **kwargs):\n",
        "        if helper.calls > 2:\n",
        "            print(\"No more money\")\n",
        "            return None\n",
        "        else:\n",
        "            helper.calls += 1\n",
        "            return func(*args, **kwargs)\n",
        "    helper.calls = 0\n",
        "\n",
        "    return helper\n",
        "\n",
        "@call_counter_new\n",
        "def high_price():\n",
        "    print(f\"You have paid 100$, goodbye\")\n",
        "\n",
        "@call_counter_new\n",
        "def super_high_price():\n",
        "    print(f\"You have paid 1000$, goodbye\")\n",
        "\n",
        "high_price()\n",
        "high_price()\n",
        "super_high_price()\n",
        "high_price()\n",
        "super_high_price()\n",
        "print(high_price.calls, super_high_price.calls)\n",
        "high_price()"
      ],
      "metadata": {
        "colab": {
          "base_uri": "https://localhost:8080/"
        },
        "id": "7l3S9kLsK_4j",
        "outputId": "150cbb9c-065a-4f6f-a681-4c4c4460d329"
      },
      "execution_count": 64,
      "outputs": [
        {
          "output_type": "stream",
          "name": "stdout",
          "text": [
            "You have paid 100$, goodbye\n",
            "You have paid 100$, goodbye\n",
            "You have paid 1000$, goodbye\n",
            "You have paid 100$, goodbye\n",
            "You have paid 1000$, goodbye\n",
            "3 2\n",
            "No more money\n"
          ]
        }
      ]
    },
    {
      "cell_type": "markdown",
      "source": [
        "Поиграли в капитализм и хватит\n",
        "\n",
        "В связи с этим есть одна большая проблема - описание и название функций, давайте на нее посмотрим:"
      ],
      "metadata": {
        "id": "bnEdX4CiLZ5G"
      }
    },
    {
      "cell_type": "code",
      "source": [
        "def another_super_high_price():\n",
        "    '''Connect to API, pay money and do smth'''\n",
        "    print(f\"You have paid 1000$, goodbye\")\n",
        "\n",
        "another_super_high_price.__doc__ # Наша документация"
      ],
      "metadata": {
        "colab": {
          "base_uri": "https://localhost:8080/",
          "height": 36
        },
        "id": "bfBoX9QzLn5b",
        "outputId": "e93ed726-0efe-4cf5-e4f4-9ab790912b4f"
      },
      "execution_count": 65,
      "outputs": [
        {
          "output_type": "execute_result",
          "data": {
            "text/plain": [
              "'Connect to API, pay money and do smth'"
            ],
            "application/vnd.google.colaboratory.intrinsic+json": {
              "type": "string"
            }
          },
          "metadata": {},
          "execution_count": 65
        }
      ]
    },
    {
      "cell_type": "code",
      "source": [
        "@call_counter_new\n",
        "def another_super_high_price():\n",
        "    '''Connect to API, pay money and do smth'''\n",
        "    print(f\"You have paid 1000$, goodbye\")\n",
        "\n",
        "print(another_super_high_price.__doc__) # Наша документация, пропала\n",
        "print(another_super_high_price.__name__) # Название функции - пропало\n",
        "print(another_super_high_price.__module__) # В нашей ситуации все в одном месте, но тем не менее, оно тоже пропадет"
      ],
      "metadata": {
        "colab": {
          "base_uri": "https://localhost:8080/"
        },
        "id": "BuG0BKwoL0O-",
        "outputId": "362b18a6-f659-4c6e-e229-85d6d85801a6"
      },
      "execution_count": 69,
      "outputs": [
        {
          "output_type": "stream",
          "name": "stdout",
          "text": [
            "None\n",
            "helper\n",
            "__main__\n"
          ]
        }
      ]
    },
    {
      "cell_type": "markdown",
      "source": [
        "Что же делать? Для этого мы обратимся к замечательной бибилотеке [functools](https://docs.python.org/3/library/functools.html), к которой мы уже обращались за кешем.\n",
        "\n",
        "По существу functools - это библиотека с определенным полезными декраторами, которые можно использовать сразу из коробки. В данном случае нам потребуется wraps - допонлительный декоратор, который нужен для сохранения properties\n",
        "\n",
        "Применяем его, получается, внутри самого декоратора (да, декоратор внутри декоратора, по-моему это гениально):"
      ],
      "metadata": {
        "id": "xA8ZBfe_MNuQ"
      }
    },
    {
      "cell_type": "code",
      "source": [
        "from functools import wraps\n",
        "\n",
        "def call_counter_new(func):\n",
        "    @wraps(func)\n",
        "    def helper(*args, **kwargs):\n",
        "        if helper.calls > 2:\n",
        "            print(\"No more money\")\n",
        "            return None\n",
        "        else:\n",
        "            helper.calls += 1\n",
        "            return func(*args, **kwargs)\n",
        "    helper.calls = 0\n",
        "\n",
        "    return helper\n",
        "\n",
        "@call_counter_new\n",
        "def another_super_high_price():\n",
        "    '''Connect to API, pay money and do smth'''\n",
        "    print(f\"You have paid 1000$, goodbye\")\n",
        "\n",
        "print(another_super_high_price.__doc__) # Наша документация, пропала\n",
        "print(another_super_high_price.__name__) # Название функции - пропало\n",
        "print(another_super_high_price.__module__) # В нашей ситуации все в одном месте, но тем не менее, оно тоже пропадет"
      ],
      "metadata": {
        "colab": {
          "base_uri": "https://localhost:8080/"
        },
        "id": "SYnVSeGTPHGn",
        "outputId": "fee6fc30-5de0-433b-ab3d-bfbac601d5da"
      },
      "execution_count": 70,
      "outputs": [
        {
          "output_type": "stream",
          "name": "stdout",
          "text": [
            "Connect to API, pay money and do smth\n",
            "another_super_high_price\n",
            "__main__\n"
          ]
        }
      ]
    },
    {
      "cell_type": "markdown",
      "source": [
        "И вуаля, теперь у нас опять все есть!"
      ],
      "metadata": {
        "id": "nvzP9ISTPVcX"
      }
    },
    {
      "cell_type": "markdown",
      "source": [
        "## Применяем несколько декораторов"
      ],
      "metadata": {
        "id": "lQNT3iTJXLlF"
      }
    },
    {
      "cell_type": "markdown",
      "source": [
        "Можно ли использовать одновременно несколько декораторов? Вообще можно, почему нет (оборачивать можно сколько душе угодно)\n",
        "\n",
        "Единственное - важен порядок. Зададим достаточно интересную последовательность:"
      ],
      "metadata": {
        "id": "jzmbhKlKXOeS"
      }
    },
    {
      "cell_type": "code",
      "source": [
        "def red(fn):\n",
        "    fn.color = 'red'\n",
        "    return fn\n",
        "\n",
        "def blue(fn):\n",
        "    fn.color = 'blue'\n",
        "    return fn\n",
        "\n",
        "def change_by_color(f):\n",
        "    def helper():\n",
        "        if hasattr(f, 'color') and f.color == 'blue':\n",
        "            f()\n",
        "        else:\n",
        "            print(\"Wow\")\n",
        "            f()\n",
        "    return helper\n",
        "\n",
        "@change_by_color\n",
        "@red\n",
        "def a():\n",
        "    print(\"Hello\")\n",
        "\n",
        "@change_by_color\n",
        "@blue\n",
        "def b():\n",
        "    print(\"Hi\")"
      ],
      "metadata": {
        "id": "9AwNO5-nXW8S"
      },
      "execution_count": 87,
      "outputs": []
    },
    {
      "cell_type": "code",
      "source": [
        "a()\n",
        "b()"
      ],
      "metadata": {
        "colab": {
          "base_uri": "https://localhost:8080/"
        },
        "id": "XeaV8AMsYtiC",
        "outputId": "c575da64-9e78-46d2-8119-d1b47126fb99"
      },
      "execution_count": 88,
      "outputs": [
        {
          "output_type": "stream",
          "name": "stdout",
          "text": [
            "Wow\n",
            "Hello\n",
            "Hi\n"
          ]
        }
      ]
    },
    {
      "cell_type": "code",
      "source": [
        "@red\n",
        "@change_by_color\n",
        "def a():\n",
        "    print(\"Hello\")\n",
        "\n",
        "@blue\n",
        "@change_by_color\n",
        "def b():\n",
        "    print(\"Hi\")"
      ],
      "metadata": {
        "id": "nqQGA71JYU8S"
      },
      "execution_count": 89,
      "outputs": []
    },
    {
      "cell_type": "code",
      "source": [
        "a()\n",
        "b()"
      ],
      "metadata": {
        "colab": {
          "base_uri": "https://localhost:8080/"
        },
        "id": "7kzV7EENYu8M",
        "outputId": "40b46480-d3e8-47cb-fda6-c00e937ae9a2"
      },
      "execution_count": 90,
      "outputs": [
        {
          "output_type": "stream",
          "name": "stdout",
          "text": [
            "Wow\n",
            "Hello\n",
            "Wow\n",
            "Hi\n"
          ]
        }
      ]
    },
    {
      "cell_type": "markdown",
      "source": [
        "Логика идет снизу вверх (иначе может получить не то, что хотели)"
      ],
      "metadata": {
        "id": "-d8haFJcYzZB"
      }
    },
    {
      "cell_type": "markdown",
      "source": [
        "## Вернемся к классам, мы же их зачем-то проходили"
      ],
      "metadata": {
        "id": "-hNVVrMgPfK_"
      }
    },
    {
      "cell_type": "markdown",
      "source": [
        "Как вы можете помнить, класс может быть callable (то есть вызываться как функция, используя метод \\_\\_call\\_\\_)\n",
        "\n",
        "А что это значит? Правильно, значит класс можно тоже сделать декоратором!\n",
        "\n",
        "Для того, чтобы класс был декоратором, ему достаточно иметь \\_\\_call\\_\\_ и \\_\\_init\\_\\_, чтобы стать декоратором!\n",
        "\n",
        "Казалось бы, а зачем? А давайте попробуем написать собственный кэш\n"
      ],
      "metadata": {
        "id": "A4cdqTRDPjIj"
      }
    },
    {
      "cell_type": "code",
      "source": [
        "from collections import deque\n",
        "\n",
        "class Memoized:\n",
        "    def __init__(self, cache_size=100):\n",
        "        self.cache_size = cache_size\n",
        "        self.call_args_queue = deque()\n",
        "        self.call_args_to_result = {}\n",
        "\n",
        "    def __call__(self, fn):\n",
        "        def new_func(*args, **kwargs):\n",
        "            memoization_key = self._convert_call_arguments_to_hash(args, kwargs)\n",
        "            if memoization_key not in self.call_args_to_result:\n",
        "                result = fn(*args, **kwargs)\n",
        "                self._update_cache_key_with_value(memoization_key, result)\n",
        "                self._evict_cache_if_necessary()\n",
        "            return self.call_args_to_result[memoization_key]\n",
        "        return new_func\n",
        "\n",
        "    def _update_cache_key_with_value(self, key, value):\n",
        "        self.call_args_to_result[key] = value\n",
        "        self.call_args_queue.append(key)\n",
        "\n",
        "    def _evict_cache_if_necessary(self):\n",
        "        if len(self.call_args_queue) > self.cache_size:\n",
        "            oldest_key = self.call_args_queue.popleft()\n",
        "            del self.call_args_to_result[oldest_key]\n",
        "\n",
        "    @staticmethod\n",
        "    def _convert_call_arguments_to_hash(args, kwargs):\n",
        "        return hash(str(args) + str(kwargs))\n",
        "\n",
        "\n",
        "@Memoized(cache_size=5)\n",
        "def get_not_so_random_number_with_max(max_value):\n",
        "    import random\n",
        "    return random.random() * max_value"
      ],
      "metadata": {
        "id": "rMQvvNlQUzYI"
      },
      "execution_count": null,
      "outputs": []
    },
    {
      "cell_type": "markdown",
      "source": [
        "Это можно написать в виде функции, но как будто иногда проще иметь отдельную обертку, в которой будет храниться отдельно все"
      ],
      "metadata": {
        "id": "ScEAVC8xVna6"
      }
    },
    {
      "cell_type": "markdown",
      "source": [
        "И финальный тейк: декоратор - это возможность взять нечто вызываемое и получить результат.\n",
        "\n",
        "Если говорить математически, то логика такая:\n",
        "\n",
        "@d и @e - декораторы\n",
        "\n",
        "x - то, что мы хотим передать (функция)\n",
        "\n",
        "Тогда результат декоратора - это d(x), которая, на самом деле, не обязана быть функцией. А результатом применения\n",
        "\n",
        "@e\n",
        "@d\n",
        "def x():\n",
        "\n",
        "Будет, по сути, e(d(x)). И опять-таки, необязательно функция\n",
        "\n",
        " И вот пример:"
      ],
      "metadata": {
        "id": "kPIcXorhZ89H"
      }
    },
    {
      "cell_type": "code",
      "source": [
        "def func_name(function):\n",
        "    return function.__name__ # Возвращаем строку\n",
        "\n",
        "@len\n",
        "@func_name\n",
        "def nineteen_characters():\n",
        "    pass\n",
        "\n",
        "nineteen_characters"
      ],
      "metadata": {
        "colab": {
          "base_uri": "https://localhost:8080/"
        },
        "id": "w2AtoO0Wa4xt",
        "outputId": "4297e8f5-02a6-40ea-b038-87cd4691decb"
      },
      "execution_count": 91,
      "outputs": [
        {
          "output_type": "execute_result",
          "data": {
            "text/plain": [
              "19"
            ]
          },
          "metadata": {},
          "execution_count": 91
        }
      ]
    },
    {
      "cell_type": "markdown",
      "source": [
        "Что здесь творится?\n",
        "\n",
        "* func_name - возвращает название функции\n",
        "\n",
        "* len - это длина\n",
        "\n",
        "Берем функцию, из нее получаем строку. Из этой строки мы высчитываем длину!\n",
        "\n",
        "И из этого получается следующее:\n",
        "\n",
        "1. Декоратор не обязан принимать функцию (в нашем случае len() не принимает функцию)\n",
        "\n",
        "2. Декоратор не обязан выдавать функцию (в нашем случае func_name не возращает функцию)\n",
        "\n",
        "Другое дело, чтобы это все работало, все надо запихнуть в функцию)"
      ],
      "metadata": {
        "id": "MOtE0goNbVsV"
      }
    },
    {
      "cell_type": "markdown",
      "source": [
        "## Птица дня"
      ],
      "metadata": {
        "id": "-iCtqEWj5D1j"
      }
    },
    {
      "cell_type": "markdown",
      "source": [
        "![](https://mtdata.ru/u16/photoE47C/20790968880-0/original.jpeg)"
      ],
      "metadata": {
        "id": "_8BIx7go5YWE"
      }
    },
    {
      "cell_type": "markdown",
      "source": [
        "А это кетцаль (тревога: это не попугай!). Священная птица для майя и ацтеков (и в целом для мезоамериканских народов, не зря же Кетцалькоатль)\n",
        "\n",
        "Их ловили, но никогда не убивали. Единственное, что от них было нужно - это красивые перья, которые использовались в качестве украшений и для ритуалов. Их перья были символом власти и сверхъестественного. Местные жители считают, что в неволе птица умирает от разрыва сердца\n",
        "\n",
        "Во времена испанского правления в кетцаль был символом свободы для местных жителей и даже есть легенда, что его грудь и брюхо окрашены кровью павших борцов за независимость. И сейчас в Гватемале это государственный символ (и валюта)"
      ],
      "metadata": {
        "id": "-Gy6RTHD5iRv"
      }
    },
    {
      "cell_type": "markdown",
      "source": [
        "![](https://upload.wikimedia.org/wikipedia/commons/thumb/d/dd/Feather_headdress_Moctezuma_II.JPG/1920px-Feather_headdress_Moctezuma_II.JPG)"
      ],
      "metadata": {
        "id": "vJo4sgGG57X-"
      }
    }
  ]
}